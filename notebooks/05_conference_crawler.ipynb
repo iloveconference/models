{
 "cells": [
  {
   "cell_type": "markdown",
   "id": "936d02dd",
   "metadata": {},
   "source": [
    "# Crawl General Conference talks from the Church of Jesus Christ of Latter-day Saints"
   ]
  },
  {
   "cell_type": "code",
   "execution_count": 2,
   "id": "7fe5bf12",
   "metadata": {},
   "outputs": [],
   "source": [
    "%load_ext autoreload\n",
    "%autoreload 2"
   ]
  },
  {
   "cell_type": "code",
   "execution_count": 3,
   "id": "4bca89a2",
   "metadata": {},
   "outputs": [],
   "source": [
    "import os\n",
    "from urllib.parse import urljoin, urlparse\n",
    "\n",
    "from bs4 import BeautifulSoup\n",
    "\n",
    "from models.crawl_utils import get_page, save_page"
   ]
  },
  {
   "cell_type": "code",
   "execution_count": 7,
   "id": "e753397e",
   "metadata": {},
   "outputs": [],
   "source": [
    "# config\n",
    "# years = range(1980, 2024)\n",
    "years = range(2023, 2026)\n",
    "months = ['04', '10']\n",
    "host = 'https://www.churchofjesuschrist.org'\n",
    "base_dir = '../data/raw/conference'\n",
    "bs_parser = 'html.parser'\n",
    "delay_seconds = 10\n",
    "\n",
    "if not os.path.exists(base_dir):\n",
    "    os.makedirs(base_dir)"
   ]
  },
  {
   "cell_type": "code",
   "execution_count": 8,
   "id": "af2c51a9",
   "metadata": {},
   "outputs": [],
   "source": [
    "def _is_talk_url(url):\n",
    "    path_components = urlparse(url).path.split('/')\n",
    "    # must be 6 components (first component is empty) and last component must not end in -session\n",
    "    return len(path_components) == 6 and not path_components[-1].endswith('-session')\n",
    "\n",
    "\n",
    "def get_talk_urls(base_url, html):\n",
    "    soup = BeautifulSoup(html, bs_parser)\n",
    "    return [urljoin(base_url, a['href']) for a in soup.find_all('a', href=True) \\\n",
    "            if _is_talk_url(urljoin(base_url, a['href']))]\n",
    "\n",
    "\n",
    "def get_talk_path(url):\n",
    "    path_components = urlparse(url).path.split('/')\n",
    "    year, month, title = path_components[3:6]\n",
    "    return os.path.join(base_dir, f\"{year}-{month}-{title}.json\")"
   ]
  },
  {
   "cell_type": "code",
   "execution_count": null,
   "id": "2f5ebfa4",
   "metadata": {},
   "outputs": [
    {
     "name": "stdout",
     "output_type": "stream",
     "text": [
      "https://www.churchofjesuschrist.org/study/general-conference/2023/04?lang=eng 70\n",
      "https://www.churchofjesuschrist.org/study/general-conference/2023/10?lang=eng 66\n",
      "https://www.churchofjesuschrist.org/study/general-conference/2024/04?lang=eng 68\n",
      "https://www.churchofjesuschrist.org/study/general-conference/2024/10?lang=eng 70\n",
      "https://www.churchofjesuschrist.org/study/general-conference/2025/04?lang=eng 68\n",
      "     ../data/raw/conference/2025-04-11oaks.json\n",
      "     ../data/raw/conference/2025-04-12larson.json\n",
      "     ../data/raw/conference/2025-04-13holland.json\n",
      "     ../data/raw/conference/2025-04-14johnson.json\n",
      "     ../data/raw/conference/2025-04-15rasband.json\n",
      "     ../data/raw/conference/2025-04-16cook.json\n",
      "     ../data/raw/conference/2025-04-17gimenez.json\n",
      "     ../data/raw/conference/2025-04-18eyring.json\n"
     ]
    }
   ],
   "source": [
    "for year in years:\n",
    "    for month in months:\n",
    "        dir_url = f\"{host}/study/general-conference/{year}/{month}?lang=eng\"\n",
    "        status_code, dir_html = get_page(dir_url, delay_seconds)\n",
    "        if status_code != 200:\n",
    "            print(f\"Status code={status_code} url={dir_url}\")\n",
    "            continue\n",
    "        talk_urls = get_talk_urls(dir_url, dir_html)\n",
    "        print(dir_url, len(talk_urls))\n",
    "        for talk_url in talk_urls:\n",
    "            path = get_talk_path(talk_url)\n",
    "            if os.path.exists(path):\n",
    "                continue\n",
    "            print(\"    \", path)\n",
    "            status_code, talk_html = get_page(talk_url, delay_seconds)\n",
    "            if status_code != 200:\n",
    "                print(f\"Status code={status_code} url={talk_url}\")\n",
    "                continue\n",
    "            save_page(path, talk_url, talk_html)"
   ]
  },
  {
   "cell_type": "code",
   "execution_count": null,
   "id": "c6f58e52",
   "metadata": {},
   "outputs": [],
   "source": []
  }
 ],
 "metadata": {
  "kernelspec": {
   "display_name": "models-py3.10 (3.10.12)",
   "language": "python",
   "name": "python3"
  },
  "language_info": {
   "codemirror_mode": {
    "name": "ipython",
    "version": 3
   },
   "file_extension": ".py",
   "mimetype": "text/x-python",
   "name": "python",
   "nbconvert_exporter": "python",
   "pygments_lexer": "ipython3",
   "version": "3.10.12"
  }
 },
 "nbformat": 4,
 "nbformat_minor": 5
}
