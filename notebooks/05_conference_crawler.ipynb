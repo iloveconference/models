{
 "cells": [
  {
   "cell_type": "markdown",
   "id": "936d02dd",
   "metadata": {},
   "source": [
    "# Crawl General Conference talks from the Church of Jesus Christ of Latter-day Saints"
   ]
  },
  {
   "cell_type": "code",
   "execution_count": null,
   "id": "7fe5bf12",
   "metadata": {},
   "outputs": [],
   "source": [
    "%load_ext autoreload\n",
    "%autoreload 2"
   ]
  },
  {
   "cell_type": "code",
   "execution_count": null,
   "id": "4bca89a2",
   "metadata": {},
   "outputs": [],
   "source": [
    "import os\n",
    "from urllib.parse import urljoin, urlparse\n",
    "\n",
    "from bs4 import BeautifulSoup\n",
    "\n",
    "from models.crawl_utils import get_page, save_page"
   ]
  },
  {
   "cell_type": "code",
   "execution_count": null,
   "id": "e753397e",
   "metadata": {},
   "outputs": [],
   "source": [
    "# config\n",
    "years = range(1980, 2024)\n",
    "months = ['04', '10']\n",
    "host = 'https://www.churchofjesuschrist.org'\n",
    "base_dir = '../data/raw/conference'\n",
    "bs_parser = 'html.parser'\n",
    "delay_seconds = 10\n",
    "\n",
    "if not os.path.exists(base_dir):\n",
    "    os.makedirs(base_dir)"
   ]
  },
  {
   "cell_type": "code",
   "execution_count": null,
   "id": "af2c51a9",
   "metadata": {},
   "outputs": [],
   "source": [
    "def _is_talk_url(url):\n",
    "    path_components = urlparse(url).path.split('/')\n",
    "    # must be 6 components (first component is empty) and last component must not end in -session\n",
    "    return len(path_components) == 6 and not path_components[-1].endswith('-session')\n",
    "\n",
    "\n",
    "def get_talk_urls(base_url, html):\n",
    "    soup = BeautifulSoup(html, bs_parser)\n",
    "    return [urljoin(base_url, a['href']) for a in soup.find_all('a', href=True) \\\n",
    "            if _is_talk_url(urljoin(base_url, a['href']))]\n",
    "\n",
    "\n",
    "def get_talk_path(url):\n",
    "    path_components = urlparse(url).path.split('/')\n",
    "    year, month, title = path_components[3:6]\n",
    "    return os.path.join(base_dir, f\"{year}-{month}-{title}.json\")"
   ]
  },
  {
   "cell_type": "code",
   "execution_count": null,
   "id": "2f5ebfa4",
   "metadata": {},
   "outputs": [],
   "source": [
    "for year in years:\n",
    "    for month in months:\n",
    "        dir_url = f\"{host}/study/general-conference/{year}/{month}?lang=eng\"\n",
    "        status_code, dir_html = get_page(dir_url, delay_seconds)\n",
    "        if status_code != 200:\n",
    "            print(f\"Status code={status_code} url={dir_url}\")\n",
    "            continue\n",
    "        talk_urls = get_talk_urls(dir_url, dir_html)\n",
    "        print(dir_url, len(talk_urls))\n",
    "        for talk_url in talk_urls:\n",
    "            path = get_talk_path(talk_url)\n",
    "            if os.path.exists(path):\n",
    "                continue\n",
    "            print(\"    \", path)\n",
    "            status_code, talk_html = get_page(talk_url, delay_seconds)\n",
    "            if status_code != 200:\n",
    "                print(f\"Status code={status_code} url={talk_url}\")\n",
    "                continue\n",
    "            save_page(path, talk_url, talk_html)"
   ]
  },
  {
   "cell_type": "code",
   "execution_count": null,
   "id": "c6f58e52",
   "metadata": {},
   "outputs": [],
   "source": []
  }
 ],
 "metadata": {
  "kernelspec": {
   "display_name": "models",
   "language": "python",
   "name": "models"
  },
  "language_info": {
   "codemirror_mode": {
    "name": "ipython",
    "version": 3
   },
   "file_extension": ".py",
   "mimetype": "text/x-python",
   "name": "python",
   "nbconvert_exporter": "python",
   "pygments_lexer": "ipython3",
   "version": "3.10.0"
  }
 },
 "nbformat": 4,
 "nbformat_minor": 5
}
