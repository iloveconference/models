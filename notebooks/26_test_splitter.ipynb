{
 "cells": [
  {
   "cell_type": "markdown",
   "id": "0ed2304b",
   "metadata": {},
   "source": [
    "# Test splitter"
   ]
  },
  {
   "cell_type": "code",
   "execution_count": null,
   "id": "7fe5bf12",
   "metadata": {},
   "outputs": [],
   "source": [
    "%load_ext autoreload\n",
    "%autoreload 2"
   ]
  },
  {
   "cell_type": "code",
   "execution_count": null,
   "id": "4bca89a2",
   "metadata": {},
   "outputs": [],
   "source": [
    "from datetime import datetime\n",
    "import json\n",
    "import os\n",
    "import re\n",
    "from typing import Iterator\n",
    "\n",
    "from models.load_utils import Loader, load_docs_from_jsonl\n",
    "from models.split_model import MarkdownSyntacticEmbeddingSplitter"
   ]
  },
  {
   "cell_type": "code",
   "execution_count": null,
   "id": "b1d47019",
   "metadata": {},
   "outputs": [],
   "source": [
    "# configure\n",
    "load_filename = \"../data/load/encyclopedia/2023-11-27.jsonl\"\n",
    "url = \"https://eom.byu.edu/index.php?title=Book_of_Mormon#\""
   ]
  },
  {
   "cell_type": "code",
   "execution_count": null,
   "id": "ae28342b-2fe6-4225-b6b0-d53ea5569ea1",
   "metadata": {},
   "outputs": [],
   "source": [
    "urls = [url, url.strip('#')]  # also match url with trailing # removed"
   ]
  },
  {
   "cell_type": "code",
   "execution_count": null,
   "id": "d40ff1fb",
   "metadata": {},
   "outputs": [],
   "source": [
    "docs = load_docs_from_jsonl(load_filename)\n",
    "len(docs)"
   ]
  },
  {
   "cell_type": "code",
   "execution_count": null,
   "id": "de94e4c1-f3f0-4a12-8f59-056626e6aeab",
   "metadata": {},
   "outputs": [],
   "source": [
    "test_docs = [doc for doc in docs if doc.metadata.get(\"url\") in urls]\n",
    "len(test_docs)"
   ]
  },
  {
   "cell_type": "code",
   "execution_count": null,
   "id": "9cdab725-a80c-4038-a550-cecb5bc7e3cf",
   "metadata": {},
   "outputs": [],
   "source": [
    "for doc in test_docs:\n",
    "    print(doc.metadata)\n",
    "    print(doc.page_content)"
   ]
  },
  {
   "cell_type": "code",
   "execution_count": null,
   "id": "2e40b8c7",
   "metadata": {},
   "outputs": [],
   "source": [
    "text_splitter = MarkdownSyntacticEmbeddingSplitter()"
   ]
  },
  {
   "cell_type": "code",
   "execution_count": null,
   "id": "2d26d2e3",
   "metadata": {},
   "outputs": [],
   "source": [
    "splits = text_splitter.split_documents(test_docs, verbose=True)\n",
    "len(splits)"
   ]
  },
  {
   "cell_type": "code",
   "execution_count": null,
   "id": "da9a292c",
   "metadata": {},
   "outputs": [],
   "source": [
    "for ix, split in enumerate(splits):\n",
    "    print(ix, split.metadata)\n",
    "    print(split.page_content)\n",
    "    print(\"\\n!!! SPLIT !!!\\n\")"
   ]
  },
  {
   "cell_type": "code",
   "execution_count": null,
   "id": "9c49eaf4-677e-439c-8d9e-0e494b1d3c4e",
   "metadata": {},
   "outputs": [],
   "source": []
  }
 ],
 "metadata": {
  "kernelspec": {
   "display_name": "Python 3 (ipykernel)",
   "language": "python",
   "name": "python3"
  },
  "language_info": {
   "codemirror_mode": {
    "name": "ipython",
    "version": 3
   },
   "file_extension": ".py",
   "mimetype": "text/x-python",
   "name": "python",
   "nbconvert_exporter": "python",
   "pygments_lexer": "ipython3",
   "version": "3.10.0"
  }
 },
 "nbformat": 4,
 "nbformat_minor": 5
}
