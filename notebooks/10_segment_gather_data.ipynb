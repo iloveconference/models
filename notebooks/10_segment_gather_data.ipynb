{
 "cells": [
  {
   "cell_type": "markdown",
   "id": "db049376",
   "metadata": {},
   "source": [
    "# Gather data to label for segmentation\n",
    "Sample talks, divide into sections, write each section"
   ]
  },
  {
   "cell_type": "code",
   "execution_count": null,
   "id": "963099e1",
   "metadata": {},
   "outputs": [],
   "source": [
    "%load_ext autoreload\n",
    "%autoreload 2\n",
    "%load_ext dotenv\n",
    "%dotenv"
   ]
  },
  {
   "cell_type": "code",
   "execution_count": null,
   "id": "3fab243d",
   "metadata": {},
   "outputs": [],
   "source": [
    "from datetime import datetime\n",
    "import json\n",
    "import os\n",
    "import random\n",
    "\n",
    "from models.data_utils import get_filenames, get_sections"
   ]
  },
  {
   "cell_type": "code",
   "execution_count": null,
   "id": "28c632da",
   "metadata": {},
   "outputs": [],
   "source": [
    "# configure\n",
    "input_dir = '../data/raw'\n",
    "output_dir = '../data/segment/to_label'\n",
    "today = datetime.today().strftime('%Y-%m-%d')\n",
    "\n",
    "sample_size = 40"
   ]
  },
  {
   "cell_type": "code",
   "execution_count": null,
   "id": "de51af37",
   "metadata": {},
   "outputs": [],
   "source": [
    "# sample talks from input dir\n",
    "filenames = get_filenames(input_dir)\n",
    "sample = random.sample(filenames, sample_size)"
   ]
  },
  {
   "cell_type": "code",
   "execution_count": null,
   "id": "09727c4d",
   "metadata": {},
   "outputs": [],
   "source": [
    "to_label = []\n",
    "\n",
    "for filename in sample:\n",
    "    with open(filename, 'r') as f:\n",
    "        data = json.load(f)\n",
    "    talk = filename.split('/')[-1]\n",
    "    for ix, (section_title, section_text) in enumerate(get_sections(data['content'])):\n",
    "        _id = len(to_label) + 1\n",
    "        to_label.append({\n",
    "            \"id\": _id,\n",
    "            \"data\": {\n",
    "                \"id\": _id,\n",
    "                \"talk\": talk,\n",
    "                \"section\": section_title,\n",
    "                \"text\": section_text\n",
    "            }\n",
    "        })\n",
    "    print(talk, ix)"
   ]
  },
  {
   "cell_type": "code",
   "execution_count": null,
   "id": "11db173b",
   "metadata": {},
   "outputs": [],
   "source": [
    "# write to file\n",
    "filename = os.path.join(output_dir, f\"{today}.json\")\n",
    "with open(filename, 'w', encoding='utf-8') as f:\n",
    "    json.dump(to_label, f, ensure_ascii=False, indent=2)"
   ]
  },
  {
   "cell_type": "code",
   "execution_count": null,
   "id": "f7287cf8",
   "metadata": {},
   "outputs": [],
   "source": []
  }
 ],
 "metadata": {
  "kernelspec": {
   "display_name": "ilc-models",
   "language": "python",
   "name": "ilc-models"
  },
  "language_info": {
   "codemirror_mode": {
    "name": "ipython",
    "version": 3
   },
   "file_extension": ".py",
   "mimetype": "text/x-python",
   "name": "python",
   "nbconvert_exporter": "python",
   "pygments_lexer": "ipython3",
   "version": "3.10.9"
  }
 },
 "nbformat": 4,
 "nbformat_minor": 5
}
