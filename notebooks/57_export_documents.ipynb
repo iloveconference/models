{
 "cells": [
  {
   "cell_type": "code",
   "execution_count": null,
   "metadata": {},
   "outputs": [],
   "source": [
    "%load_ext autoreload\n",
    "%autoreload 2"
   ]
  },
  {
   "cell_type": "code",
   "execution_count": null,
   "metadata": {},
   "outputs": [],
   "source": [
    "import os\n",
    "from models.load_utils import load_docs_from_jsonl\n",
    "import csv\n",
    "import random"
   ]
  },
  {
   "cell_type": "code",
   "execution_count": null,
   "metadata": {},
   "outputs": [],
   "source": [
    "#config\n",
    "source = \"bgbmm\"\n",
    "load_filename = f\"../data/load/{source}/2023-11-16.jsonl\"\n",
    "csv_filename = f\"../data/exports/{source}.csv\"\n",
    "directory = os.path.dirname(csv_filename)\n",
    "os.makedirs(directory, exist_ok=True)"
   ]
  },
  {
   "cell_type": "code",
   "execution_count": null,
   "metadata": {},
   "outputs": [],
   "source": [
    "docs = load_docs_from_jsonl(load_filename)"
   ]
  },
  {
   "cell_type": "code",
   "execution_count": null,
   "metadata": {},
   "outputs": [],
   "source": [
    "with open(csv_filename, 'w') as f:\n",
    "    writer = csv.writer(f)\n",
    "    # write header row\n",
    "    writer.writerow(['title', 'url', 'text'])\n",
    "    # write 100 random documents\n",
    "    for doc in (random.sample(docs, 50) if len(docs) > 50 else docs):\n",
    "        # write a row for each document\n",
    "        writer.writerow([doc.metadata['title'], doc.metadata.get('url',''), doc.page_content])"
   ]
  }
 ],
 "metadata": {
  "kernelspec": {
   "display_name": "models-5vTMPdpX-py3.10",
   "language": "python",
   "name": "python3"
  },
  "language_info": {
   "codemirror_mode": {
    "name": "ipython",
    "version": 3
   },
   "file_extension": ".py",
   "mimetype": "text/x-python",
   "name": "python",
   "nbconvert_exporter": "python",
   "pygments_lexer": "ipython3",
   "version": "3.10.0"
  }
 },
 "nbformat": 4,
 "nbformat_minor": 2
}
