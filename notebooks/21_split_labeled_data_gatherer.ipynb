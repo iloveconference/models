{
 "cells": [
  {
   "cell_type": "markdown",
   "id": "db049376",
   "metadata": {},
   "source": [
    "# Gather labeled data\n",
    "Gather labeled data from LabelStudio export and write to file in \"split/labeled\""
   ]
  },
  {
   "cell_type": "code",
   "execution_count": null,
   "id": "963099e1",
   "metadata": {},
   "outputs": [],
   "source": [
    "%load_ext autoreload\n",
    "%autoreload 2"
   ]
  },
  {
   "cell_type": "code",
   "execution_count": null,
   "id": "3fab243d",
   "metadata": {},
   "outputs": [],
   "source": [
    "from datetime import datetime\n",
    "import json\n",
    "import os\n",
    "import re\n",
    "\n",
    "import pandas as pd\n",
    "from pprint import pprint\n",
    "\n",
    "from models.split_utils import get_annotations, get_paragraph_splits"
   ]
  },
  {
   "cell_type": "code",
   "execution_count": null,
   "id": "28c632da",
   "metadata": {},
   "outputs": [],
   "source": [
    "# configure\n",
    "input_dir = '../data/split/from_labelstudio/'\n",
    "in_filename = '2023-03-17.json'\n",
    "\n",
    "output_dir = '../data/split/labeled/'\n",
    "today = datetime.today().strftime('%Y-%m-%d')\n",
    "\n",
    "ngram_size = 5"
   ]
  },
  {
   "cell_type": "code",
   "execution_count": null,
   "id": "bfb2893d",
   "metadata": {},
   "outputs": [],
   "source": [
    "# read data exported from LabelStudio\n",
    "with open(os.path.join(input_dir, in_filename)) as f:\n",
    "    data = json.load(f)"
   ]
  },
  {
   "cell_type": "code",
   "execution_count": null,
   "id": "09727c4d",
   "metadata": {},
   "outputs": [],
   "source": [
    "# generate labeled ngram pairs\n",
    "labeled_data = []\n",
    "for instance in data:\n",
    "    try:\n",
    "        annotations = get_annotations(instance['annotations'])\n",
    "        paragraph_splits = get_paragraph_splits(annotations, instance['data']['text'])\n",
    "        labeled_data.append({\n",
    "            'talk': instance['data']['talk'],\n",
    "            'section': instance['data']['section'] or '-',\n",
    "            'paragraphs': paragraph_splits\n",
    "        })\n",
    "    except ValueError as e:\n",
    "        print(instance['data']['talk'], instance['data']['section'], e, '\\n')\n",
    "len(labeled_data)"
   ]
  },
  {
   "cell_type": "code",
   "execution_count": null,
   "id": "cae1ecc0",
   "metadata": {},
   "outputs": [],
   "source": [
    "labeled_data[0]"
   ]
  },
  {
   "cell_type": "code",
   "execution_count": null,
   "id": "11db173b",
   "metadata": {},
   "outputs": [],
   "source": [
    "# write to file\n",
    "filename = os.path.join(output_dir, f\"{today}.json\")\n",
    "with open(filename, 'w', encoding='utf-8') as f:\n",
    "    json.dump(labeled_data, f, ensure_ascii=False, indent=2)"
   ]
  },
  {
   "cell_type": "code",
   "execution_count": null,
   "id": "640352fa",
   "metadata": {},
   "outputs": [],
   "source": []
  }
 ],
 "metadata": {
  "kernelspec": {
   "display_name": "Python 3 (ipykernel)",
   "language": "python",
   "name": "python3"
  },
  "language_info": {
   "codemirror_mode": {
    "name": "ipython",
    "version": 3
   },
   "file_extension": ".py",
   "mimetype": "text/x-python",
   "name": "python",
   "nbconvert_exporter": "python",
   "pygments_lexer": "ipython3",
   "version": "3.8.5"
  }
 },
 "nbformat": 4,
 "nbformat_minor": 5
}
