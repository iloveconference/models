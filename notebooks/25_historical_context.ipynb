{
 "cells": [
  {
   "cell_type": "markdown",
   "id": "0ed2304b",
   "metadata": {},
   "source": [
    "# Crawl, load, and split D&C Study Historical Context"
   ]
  },
  {
   "cell_type": "code",
   "execution_count": null,
   "id": "7fe5bf12",
   "metadata": {},
   "outputs": [],
   "source": [
    "%load_ext autoreload\n",
    "%autoreload 2\n",
    "%load_ext dotenv\n",
    "%dotenv"
   ]
  },
  {
   "cell_type": "code",
   "execution_count": null,
   "id": "4bca89a2",
   "metadata": {},
   "outputs": [],
   "source": [
    "from datetime import datetime\n",
    "import json\n",
    "import os\n",
    "from typing import Iterator\n",
    "from urllib.parse import urljoin, urlparse\n",
    "\n",
    "from bs4 import BeautifulSoup, Tag\n",
    "from tqdm import tqdm\n",
    "\n",
    "from models.crawl_utils import get_page, save_page\n",
    "from models.load_dc_historical_context import load_dc_historical_context\n",
    "from models.load_utils import Loader, load_docs_from_jsonl, save_docs_to_jsonl\n",
    "from models.split_model import MarkdownSyntacticEmbeddingSplitter"
   ]
  },
  {
   "cell_type": "markdown",
   "id": "91ece895",
   "metadata": {},
   "source": [
    "## Crawl"
   ]
  },
  {
   "cell_type": "code",
   "execution_count": null,
   "id": "e753397e",
   "metadata": {},
   "outputs": [],
   "source": [
    "# config\n",
    "host = 'https://doctrineandcovenantscentral.org/sections/'\n",
    "source = \"dc_historical_context\" # use this name in the directories\n",
    "crawl_dir = f'../data/raw/{source}'\n",
    "bs_parser = 'html.parser'\n",
    "delay_seconds = 5\n",
    "if not os.path.exists(crawl_dir):\n",
    "    os.makedirs(crawl_dir)\n",
    "    "
   ]
  },
  {
   "cell_type": "code",
   "execution_count": null,
   "id": "9225f0f2",
   "metadata": {},
   "outputs": [],
   "source": [
    "def extract_hrefs_from_elementor_heading_title(html):\n",
    "    hrefs = []\n",
    "\n",
    "    # Parse the HTML content using BeautifulSoup\n",
    "    soup = BeautifulSoup(html, 'html.parser')\n",
    "\n",
    "    # Find all div tags with the class 'views-field-title'\n",
    "    divs_with_class = soup.find_all('div', class_='elementor-heading-title')\n",
    "\n",
    "    for div in divs_with_class:\n",
    "        # Find all anchor tags within the div\n",
    "        anchor_tags = div.find_all('a')\n",
    "\n",
    "        # Extract href attribute from each anchor tag and append to the list\n",
    "        for anchor in anchor_tags:\n",
    "            href = anchor.get('href')\n",
    "            if href:\n",
    "                hrefs.append(urljoin(host, href))\n",
    "\n",
    "    return hrefs"
   ]
  },
  {
   "cell_type": "code",
   "execution_count": null,
   "id": "8861659b-9805-45a3-a931-cfb74a293949",
   "metadata": {},
   "outputs": [],
   "source": [
    "def get_path(url):\n",
    "    if not url.endswith('/'):\n",
    "        url += '/'\n",
    "    path_components = urlparse(url).path.split('/')\n",
    "    return os.path.join(crawl_dir, f\"{path_components[-2]}.json\")"
   ]
  },
  {
   "cell_type": "code",
   "execution_count": null,
   "id": "e2d33629-31c0-4968-8346-db60b0549e58",
   "metadata": {},
   "outputs": [],
   "source": [
    "study_links = []\n",
    "\n",
    "status_code, html = get_page(\"https://doctrineandcovenantscentral.org/sections/\", delay_seconds)\n",
    "if status_code != 200:\n",
    "    print(\"Error!\", status_code)\n",
    "hrefs = extract_hrefs_from_elementor_heading_title(html)\n",
    "study_links.extend(hrefs)\n",
    "print(len(study_links))\n",
    "study_links[:5]"
   ]
  },
  {
   "cell_type": "code",
   "execution_count": null,
   "id": "9b1ee088",
   "metadata": {},
   "outputs": [],
   "source": [
    "def extract_hrefs(html, base_url):\n",
    "    soup = BeautifulSoup(html, 'html.parser')\n",
    "    \n",
    "    target_text = \"Context Helps\"\n",
    "    for div in soup.find_all('div'):\n",
    "        if div.get_text(strip=True).startswith(target_text):\n",
    "            next_sibling = div.find_next_sibling()\n",
    "            if next_sibling and next_sibling.find('a', href=True):\n",
    "                first_href = next_sibling.find('a', href=True)['href']\n",
    "                first_href = first_href.split('?')[0]\n",
    "                return urljoin(base_url, first_href)\n",
    "    return None"
   ]
  },
  {
   "cell_type": "code",
   "execution_count": null,
   "id": "b1324f43",
   "metadata": {},
   "outputs": [],
   "source": [
    "historical_links = []\n",
    "for link in study_links:\n",
    "\n",
    "    status_code, html_content = get_page(link, delay_seconds)\n",
    "    if status_code != 200:\n",
    "        print(\"Error!\", status_code)\n",
    "    href_value = extract_hrefs(html_content, link)\n",
    "    print(href_value)\n",
    "    historical_links.append(href_value)\n",
    "print(len(historical_links))"
   ]
  },
  {
   "cell_type": "code",
   "execution_count": null,
   "id": "fa244c64-5d40-4d93-ac95-e5fce805b9fd",
   "metadata": {},
   "outputs": [],
   "source": [
    "for url in historical_links:\n",
    "    path_file =  get_path(url)\n",
    "    print(path_file)\n",
    "    if os.path.exists(path_file):\n",
    "        continue\n",
    "    status_code, html = get_page(url, delay_seconds)\n",
    "    if status_code != 200:\n",
    "        print(\"Error!\", status_code , url)\n",
    "        continue\n",
    "    save_page(path_file,url,html)\n",
    "    \n",
    "print(\"End\")"
   ]
  },
  {
   "cell_type": "markdown",
   "id": "90af220c",
   "metadata": {},
   "source": [
    "## Load"
   ]
  },
  {
   "cell_type": "code",
   "execution_count": null,
   "id": "4399a0c9",
   "metadata": {},
   "outputs": [],
   "source": [
    "# config\n",
    "# input_dir is now crawl_dir, and output_dir is now load_dir, and output_filename is now load_filename\n",
    "load_dir = f'../data/load/{source}/'\n",
    "today = datetime.today().strftime('%Y-%m-%d')\n",
    "load_filename = os.path.join(load_dir, f\"{today}.jsonl\")\n",
    "\n",
    "if not os.path.exists(load_dir):\n",
    "    os.makedirs(load_dir)"
   ]
  },
  {
   "cell_type": "code",
   "execution_count": null,
   "id": "2cc10596",
   "metadata": {},
   "outputs": [],
   "source": [
    "loader = Loader(load_dc_historical_context, crawl_dir)\n",
    "docs = loader.load(verbose=True)\n",
    "len(docs)"
   ]
  },
  {
   "cell_type": "code",
   "execution_count": null,
   "id": "b8755943",
   "metadata": {},
   "outputs": [],
   "source": [
    "print(\"metadat: \", docs[0].metadata)\n",
    "print()\n",
    "print(\"content: \", docs[0].page_content)"
   ]
  },
  {
   "cell_type": "code",
   "execution_count": null,
   "id": "486c3f00",
   "metadata": {},
   "outputs": [],
   "source": [
    "save_docs_to_jsonl(docs, load_filename)"
   ]
  },
  {
   "cell_type": "markdown",
   "id": "c9c4ec07",
   "metadata": {},
   "source": [
    "## Split"
   ]
  },
  {
   "cell_type": "code",
   "execution_count": null,
   "id": "b1d47019",
   "metadata": {},
   "outputs": [],
   "source": [
    "# configure\n",
    "# input_path is now load_filename, output_dir is now split_dir, and output filename is now split_filename\n",
    "split_dir = f'../data/split/{source}/'\n",
    "today = datetime.today().strftime('%Y-%m-%d')\n",
    "# output filename is now split_filename\n",
    "split_filename = os.path.join(split_dir, f\"{today}.jsonl\")\n",
    "\n",
    "if not os.path.exists(split_dir):\n",
    "    os.makedirs(split_dir)"
   ]
  },
  {
   "cell_type": "code",
   "execution_count": null,
   "id": "d40ff1fb",
   "metadata": {},
   "outputs": [],
   "source": [
    "docs = load_docs_from_jsonl(load_filename)\n",
    "len(docs)"
   ]
  },
  {
   "cell_type": "code",
   "execution_count": null,
   "id": "2e40b8c7",
   "metadata": {},
   "outputs": [],
   "source": [
    "text_splitter = MarkdownSyntacticEmbeddingSplitter()"
   ]
  },
  {
   "cell_type": "code",
   "execution_count": null,
   "id": "2d26d2e3",
   "metadata": {},
   "outputs": [],
   "source": [
    "splits = text_splitter.split_documents(docs, verbose=True)\n",
    "len(splits)"
   ]
  },
  {
   "cell_type": "code",
   "execution_count": null,
   "id": "da9a292c",
   "metadata": {},
   "outputs": [],
   "source": [
    "for ix, split in enumerate(splits[:10]):\n",
    "    print(ix, split.metadata)\n",
    "    print(split.page_content)\n",
    "    print(\"\\n!!! SPLIT !!!\\n\")"
   ]
  },
  {
   "cell_type": "code",
   "execution_count": null,
   "id": "56bb464e",
   "metadata": {},
   "outputs": [],
   "source": [
    "save_docs_to_jsonl(splits, split_filename)"
   ]
  },
  {
   "cell_type": "code",
   "execution_count": null,
   "id": "9c49eaf4-677e-439c-8d9e-0e494b1d3c4e",
   "metadata": {},
   "outputs": [],
   "source": []
  }
 ],
 "metadata": {
  "kernelspec": {
   "display_name": "models",
   "language": "python",
   "name": "models"
  },
  "language_info": {
   "codemirror_mode": {
    "name": "ipython",
    "version": 3
   },
   "file_extension": ".py",
   "mimetype": "text/x-python",
   "name": "python",
   "nbconvert_exporter": "python",
   "pygments_lexer": "ipython3",
   "version": "3.10.0"
  }
 },
 "nbformat": 4,
 "nbformat_minor": 5
}
