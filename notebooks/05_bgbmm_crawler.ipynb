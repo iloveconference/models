{
 "cells": [
  {
   "cell_type": "markdown",
   "id": "0ed2304b",
   "metadata": {},
   "source": [
    "# Import Neccessary Libraries"
   ]
  },
  {
   "cell_type": "code",
   "execution_count": null,
   "id": "7fe5bf12",
   "metadata": {},
   "outputs": [],
   "source": [
    "%load_ext autoreload\n",
    "%autoreload 2"
   ]
  },
  {
   "cell_type": "code",
   "execution_count": null,
   "id": "4bca89a2",
   "metadata": {},
   "outputs": [],
   "source": [
    "import os\n",
    "from urllib.parse import urljoin, urlparse\n",
    "from datetime import datetime\n",
    "from models.load_bgbmm import BGBMMLoader\n",
    "from bs4 import BeautifulSoup, Tag\n",
    "from models.crawl_utils import get_page, save_page\n",
    "\n",
    "\n",
    "import json\n",
    "from typing import Iterator\n",
    "from langchain.document_loaders.base import BaseLoader\n",
    "from langchain.schema.document import Document\n",
    "from tqdm import tqdm\n",
    "\n",
    "from models.load_utils import clean\n",
    "from models.load_utils import to_markdown\n",
    "\n",
    "\n",
    "from models.load_utils import save_docs_to_jsonl\n",
    "from models.split_markdown import RecursiveMarkdownTextSplitter\n",
    "from models.load_utils import  load_docs_from_jsonl"
   ]
  },
  {
   "cell_type": "markdown",
   "id": "91ece895",
   "metadata": {},
   "source": [
    "# Crawl Brant Gardner Book of Mormon Minutes from the Church of Jesus Christ of Latter-day Saints"
   ]
  },
  {
   "cell_type": "code",
   "execution_count": null,
   "id": "e753397e",
   "metadata": {},
   "outputs": [],
   "source": [
    "# config\n",
    "host = 'https://archive.bookofmormoncentral.org/content/book-mormon-minute'\n",
    "base_dir = '../data/raw/bgbmm'\n",
    "bs_parser = 'html.parser'\n",
    "delay_seconds = 5\n",
    "\n",
    "if not os.path.exists(base_dir):\n",
    "    os.makedirs(base_dir)\n",
    "    "
   ]
  },
  {
   "cell_type": "code",
   "execution_count": null,
   "id": "9225f0f2",
   "metadata": {},
   "outputs": [],
   "source": [
    "def extract_anchors(host, html):\n",
    "    # Parse the HTML content\n",
    "    soup = BeautifulSoup(html, 'html.parser')\n",
    "    # Find all span tags with class \"field-content\" that contain anchor tags\n",
    "    span_tags = soup.find_all('span', class_='field-content')\n",
    "    # Extract anchor tags within each span tag\n",
    "    hrefs = []\n",
    "    for span_tag in span_tags:\n",
    "        anchor_tag = span_tag.find('a', href = True)\n",
    "        if not isinstance(anchor_tag, Tag):\n",
    "            continue\n",
    "        href = anchor_tag.get('href')\n",
    "        href = urljoin(host, href)\n",
    "        hrefs.append(href)\n",
    "    return hrefs"
   ]
  },
  {
   "cell_type": "code",
   "execution_count": null,
   "id": "8861659b-9805-45a3-a931-cfb74a293949",
   "metadata": {},
   "outputs": [],
   "source": [
    "def get_path(url):\n",
    "    if not url.endswith('/'):\n",
    "        url += '/'\n",
    "    path_components = urlparse(url).path.split('/')\n",
    "    return os.path.join(base_dir, f\"{path_components[-2]}.json\")"
   ]
  },
  {
   "cell_type": "code",
   "execution_count": null,
   "id": "e2d33629-31c0-4968-8346-db60b0549e58",
   "metadata": {},
   "outputs": [],
   "source": [
    "bgbmm_links = []\n",
    "\n",
    "status_code, html = get_page(host, delay_seconds)\n",
    "if status_code != 200:\n",
    "    print(\"Error!\", status_code)\n",
    "hrefs = extract_anchors(host, html)\n",
    "if len(hrefs) != 0:\n",
    "    bgbmm_links.extend(hrefs)\n",
    "    \n",
    "print(bgbmm_links[:5])\n",
    "len(bgbmm_links)"
   ]
  },
  {
   "cell_type": "code",
   "execution_count": null,
   "id": "fa244c64-5d40-4d93-ac95-e5fce805b9fd",
   "metadata": {},
   "outputs": [],
   "source": [
    "for url in bgbmm_links:\n",
    "    path_file =  get_path(url)\n",
    "    print(path_file)\n",
    "    if os.path.exists(path_file):\n",
    "        continue\n",
    "    status_code, html = get_page(url, delay_seconds)\n",
    "    if status_code != 200:\n",
    "        print(\"Error!\", status_code , url)\n",
    "        continue\n",
    "    save_page(path_file,url,html)\n",
    "    \n",
    "print(\"End\")"
   ]
  },
  {
   "cell_type": "markdown",
   "id": "90af220c",
   "metadata": {},
   "source": [
    "# Load Brant Gardner Book of Mormon Minutes from the Church of Jesus Christ of Latter-day Saints"
   ]
  },
  {
   "cell_type": "code",
   "execution_count": null,
   "id": "4399a0c9",
   "metadata": {},
   "outputs": [],
   "source": [
    "# config\n",
    "input_dir = '../data/raw/bgbmm/'\n",
    "output_dir = '../data/load/bgbmm/'\n",
    "\n",
    "today = datetime.today().strftime('%Y-%m-%d')\n",
    "\n",
    "if not os.path.exists(output_dir):\n",
    "    os.makedirs(output_dir)"
   ]
  },
  {
   "cell_type": "code",
   "execution_count": null,
   "id": "2cc10596",
   "metadata": {},
   "outputs": [],
   "source": [
    "loader = BGBMMLoader(input_dir)\n",
    "docs = loader.load(verbose=True)\n",
    "len(docs)"
   ]
  },
  {
   "cell_type": "code",
   "execution_count": null,
   "id": "b8755943",
   "metadata": {},
   "outputs": [],
   "source": [
    "print(\"metadat: \", docs[0].metadata)\n",
    "print()\n",
    "print(\"content: \", docs[0].page_content)"
   ]
  },
  {
   "cell_type": "code",
   "execution_count": null,
   "id": "486c3f00",
   "metadata": {},
   "outputs": [],
   "source": [
    "output_filename = os.path.join(output_dir, f\"{today}.jsonl\")\n",
    "\n",
    "save_docs_to_jsonl(docs, output_filename)\n"
   ]
  },
  {
   "cell_type": "markdown",
   "id": "c9c4ec07",
   "metadata": {},
   "source": [
    "# Split Brant Gardner Book of Mormon Minutes from the Church of Jesus Christ of Latter-day Saints"
   ]
  },
  {
   "cell_type": "code",
   "execution_count": null,
   "id": "b1d47019",
   "metadata": {},
   "outputs": [],
   "source": [
    "# configure\n",
    "input_path = '../data/load/bgbmm/2023-11-16.jsonl'\n",
    "chunk_size = 2000\n",
    "chunk_overlap = 200\n",
    "output_dir = '../data/split/bgbmm/'\n",
    "if not os.path.exists(output_dir):\n",
    "    os.makedirs(output_dir)\n",
    "today = datetime.today().strftime('%Y-%m-%d')"
   ]
  },
  {
   "cell_type": "code",
   "execution_count": null,
   "id": "d40ff1fb",
   "metadata": {},
   "outputs": [],
   "source": [
    "docs = load_docs_from_jsonl(input_path)\n",
    "len(docs)"
   ]
  },
  {
   "cell_type": "code",
   "execution_count": null,
   "id": "2e40b8c7",
   "metadata": {},
   "outputs": [],
   "source": [
    "text_splitter = RecursiveMarkdownTextSplitter(\n",
    "    title_header_sbeparator=\" / \",\n",
    "    chunk_size=chunk_size, \n",
    "    chunk_overlap=chunk_overlap,\n",
    ")"
   ]
  },
  {
   "cell_type": "code",
   "execution_count": null,
   "id": "2d26d2e3",
   "metadata": {},
   "outputs": [],
   "source": [
    "splits = text_splitter.split_documents(docs, verbose=True)\n",
    "len(splits)"
   ]
  },
  {
   "cell_type": "code",
   "execution_count": null,
   "id": "da9a292c",
   "metadata": {},
   "outputs": [],
   "source": [
    "for ix, split in enumerate(splits[:25]):\n",
    "    print(ix, split.metadata)\n",
    "    print(split.page_content)\n",
    "    print(\"\\n!!! SPLIT !!!\\n\")"
   ]
  },
  {
   "cell_type": "code",
   "execution_count": null,
   "id": "56bb464e",
   "metadata": {},
   "outputs": [],
   "source": [
    "filename = os.path.join(output_dir, f\"{today}.jsonl\")\n",
    "save_docs_to_jsonl(splits, filename)"
   ]
  }
 ],
 "metadata": {
  "kernelspec": {
   "display_name": "models-ygscW1cR-py3.10",
   "language": "python",
   "name": "python3"
  },
  "language_info": {
   "codemirror_mode": {
    "name": "ipython",
    "version": 3
   },
   "file_extension": ".py",
   "mimetype": "text/x-python",
   "name": "python",
   "nbconvert_exporter": "python",
   "pygments_lexer": "ipython3",
   "version": "3.10.0"
  }
 },
 "nbformat": 4,
 "nbformat_minor": 5
}
