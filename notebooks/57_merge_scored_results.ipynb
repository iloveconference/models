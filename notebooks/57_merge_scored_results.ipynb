{
 "cells": [
  {
   "cell_type": "code",
   "execution_count": null,
   "metadata": {},
   "outputs": [],
   "source": [
    "%load_ext autoreload\n",
    "%autoreload 2"
   ]
  },
  {
   "cell_type": "markdown",
   "metadata": {},
   "source": [
    "# Merge scored results\n",
    "\n",
    "Merge previous scored-results with question-results from notebook 56 and write the result to merged-results.\n",
    "\n",
    "The next steps are to upload merged-results into a google spreadsheet, score the unscored results, download the spreadsheet, and replace scored-results with the downloaded spreadsheet."
   ]
  },
  {
   "cell_type": "code",
   "execution_count": null,
   "metadata": {},
   "outputs": [],
   "source": [
    "from collections import defaultdict\n",
    "import csv"
   ]
  },
  {
   "cell_type": "code",
   "execution_count": null,
   "metadata": {},
   "outputs": [],
   "source": [
    "indexed_ids_path = \"../data/exports/indexed-ids-2023-12-21.txt\"\n",
    "scored_results_path = \"../references/scored-results-45.csv\"\n",
    "# scored_results_path = \"../data/exports/merged-results3.csv\"\n",
    "question_results_path = \"../data/exports/question-results-hyde-openai.csv\"\n",
    "top_k = 10\n",
    "\n",
    "merged_results_path = \"../data/exports/merged-results.csv\""
   ]
  },
  {
   "cell_type": "markdown",
   "metadata": {},
   "source": [
    "## Read indexed ids"
   ]
  },
  {
   "cell_type": "code",
   "execution_count": null,
   "metadata": {},
   "outputs": [],
   "source": [
    "indexed_ids = set()\n",
    "with open(indexed_ids_path, 'r') as f:\n",
    "    for line in f:\n",
    "        indexed_ids.add(line.strip())"
   ]
  },
  {
   "cell_type": "markdown",
   "metadata": {},
   "source": [
    "## Read scored results"
   ]
  },
  {
   "cell_type": "code",
   "execution_count": null,
   "metadata": {},
   "outputs": [],
   "source": [
    "merged_results = defaultdict(dict)  # each item in merged_results dictionary is itself another dictionary\n",
    "n_unindexed_ids = 0\n",
    "with open(scored_results_path, 'r') as file:\n",
    "    reader = csv.DictReader(file)\n",
    "    for row in reader:\n",
    "        question = row.get('Question', '')  # Use get to handle missing 'Question' key\n",
    "        result_id = row.get('ResultId', '')  # Use get to handle missing 'ResultId' key\n",
    "        score = row.get('Score', '')  # Use get to handle missing 'Score' key\n",
    "        if question == '' or result_id == '':\n",
    "            print('ERROR - missing data', row)\n",
    "            continue\n",
    "        if result_id not in indexed_ids:\n",
    "            n_unindexed_ids += 1\n",
    "            continue\n",
    "        # create a dictionary keyed on result id so we don't get duplicate result ids in the merged results\n",
    "        merged_results[question][result_id] = {\n",
    "            'ResultScore': row.get('ResultScore'),\n",
    "            'ResultURL': row.get('ResultURL', ''),\n",
    "            'ResultTitle': row.get('ResultTitle', ''),\n",
    "            'ResultRank': row.get('ResultRank', ''),\n",
    "            'ResultText': row.get('ResultText', ''),\n",
    "            'score': score,\n",
    "        }"
   ]
  },
  {
   "cell_type": "code",
   "execution_count": null,
   "metadata": {},
   "outputs": [],
   "source": [
    "print('Questions', len(merged_results))\n",
    "print('Unindexed ids', n_unindexed_ids)\n",
    "print('Scored ids', len([result for results in merged_results.values() for result in results.values() if result[\"score\"] != '']))\n",
    "print('Unscored ids', len([result for results in merged_results.values() for result in results.values() if result[\"score\"] == '']))"
   ]
  },
  {
   "cell_type": "markdown",
   "metadata": {},
   "source": [
    "## Merge question-results into scored-results\n",
    "\n",
    "This is the output from running notebook 56"
   ]
  },
  {
   "cell_type": "code",
   "execution_count": null,
   "metadata": {},
   "outputs": [],
   "source": [
    "with open(question_results_path, 'r') as file:\n",
    "    reader = csv.DictReader(file)\n",
    "    for row in reader:\n",
    "        question = row.get('Question', '')  # Use get to handle missing 'Question' key\n",
    "        result_id = row.get('ResultId', '')  # Use get to handle missing 'ResultId' key\n",
    "        result_rank = row.get('ResultRank', '')\n",
    "        if question == '' or result_id == '' or result_rank == '':\n",
    "            print('ERROR - missing data', row)\n",
    "            continue\n",
    "        if result_id not in indexed_ids:\n",
    "            print('WARNING - missing result id', question, result_id)\n",
    "            continue\n",
    "        if result_id in merged_results[question]:\n",
    "            # result already exists\n",
    "            continue\n",
    "        if int(result_rank) > top_k:\n",
    "            # only score the top_k results\n",
    "            continue\n",
    "        merged_results[question][result_id] = {\n",
    "            'ResultScore': row.get('ResultScore'),\n",
    "            'ResultURL': row.get('ResultURL', ''),\n",
    "            'ResultTitle': row.get('ResultTitle', ''),\n",
    "            'ResultRank': row.get('ResultRank', ''),\n",
    "            'ResultText': row.get('ResultText', ''),\n",
    "            'score': '',\n",
    "        }"
   ]
  },
  {
   "cell_type": "code",
   "execution_count": null,
   "metadata": {},
   "outputs": [],
   "source": [
    "print('Questions', len(merged_results))\n",
    "print('Scored ids', len([result for results in merged_results.values() for result in results.values() if result[\"score\"] != '']))\n",
    "print('Unscored ids', len([result for results in merged_results.values() for result in results.values() if result[\"score\"] == '']))"
   ]
  },
  {
   "cell_type": "markdown",
   "metadata": {},
   "source": [
    "## Write merged scores"
   ]
  },
  {
   "cell_type": "code",
   "execution_count": null,
   "metadata": {},
   "outputs": [],
   "source": [
    "with open(merged_results_path, 'w') as csvfile:\n",
    "    writer = csv.writer(csvfile)\n",
    "    writer.writerow(['Question', 'ResultId', 'ResultScore', 'ResultURL', 'ResultTitle', 'ResultRank', 'ResultText', 'Score'])  # header row\n",
    "    for question, results in merged_results.items():\n",
    "        for result_id, result in results.items():\n",
    "            writer.writerow([\n",
    "                question,\n",
    "                result_id, \n",
    "                result[\"ResultScore\"], \n",
    "                result[\"ResultURL\"], \n",
    "                result[\"ResultTitle\"], \n",
    "                result[\"ResultRank\"], \n",
    "                result[\"ResultText\"],\n",
    "                result[\"score\"],\n",
    "            ])"
   ]
  },
  {
   "cell_type": "code",
   "execution_count": null,
   "metadata": {},
   "outputs": [],
   "source": []
  }
 ],
 "metadata": {
  "kernelspec": {
   "display_name": "Python 3 (ipykernel)",
   "language": "python",
   "name": "python3"
  },
  "language_info": {
   "codemirror_mode": {
    "name": "ipython",
    "version": 3
   },
   "file_extension": ".py",
   "mimetype": "text/x-python",
   "name": "python",
   "nbconvert_exporter": "python",
   "pygments_lexer": "ipython3",
   "version": "3.10.0"
  }
 },
 "nbformat": 4,
 "nbformat_minor": 4
}
