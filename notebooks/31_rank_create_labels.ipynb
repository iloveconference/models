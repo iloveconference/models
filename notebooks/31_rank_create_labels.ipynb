{
 "cells": [
  {
   "cell_type": "markdown",
   "id": "188d378e",
   "metadata": {},
   "source": [
    "# Create labeled results from exported spreadsheet\n",
    "To use as truth for evaluating various ranking algorithms"
   ]
  },
  {
   "cell_type": "code",
   "execution_count": null,
   "id": "c42e48f5",
   "metadata": {},
   "outputs": [],
   "source": [
    "%load_ext autoreload\n",
    "%autoreload 2\n",
    "%load_ext dotenv\n",
    "%dotenv"
   ]
  },
  {
   "cell_type": "code",
   "execution_count": null,
   "id": "ab6b665c",
   "metadata": {},
   "outputs": [],
   "source": [
    "import json\n",
    "import os\n",
    "\n",
    "import pandas as pd"
   ]
  },
  {
   "cell_type": "code",
   "execution_count": null,
   "id": "c00e181d",
   "metadata": {},
   "outputs": [],
   "source": [
    "input_dir = '../data/rank/labeled_results_raw'\n",
    "output_dir = '../data/rank/labeled_results'\n",
    "filename = '2023-04-21'"
   ]
  },
  {
   "cell_type": "markdown",
   "id": "5f12e60e",
   "metadata": {},
   "source": [
    "## Read raw labeled results"
   ]
  },
  {
   "cell_type": "code",
   "execution_count": null,
   "id": "761271aa",
   "metadata": {},
   "outputs": [],
   "source": [
    "# read csv file into pandas\n",
    "results_df = pd.read_csv(os.path.join(input_dir, f\"{filename}.csv\"))\n",
    "results_df = results_df.drop([\"Number\"], axis=1, errors=\"ignore\")\n",
    "results_df = results_df.rename(columns={results_df.columns[1]: 'score'})"
   ]
  },
  {
   "cell_type": "code",
   "execution_count": null,
   "id": "922527c7",
   "metadata": {},
   "outputs": [],
   "source": [
    "results_df.head(3)"
   ]
  },
  {
   "cell_type": "markdown",
   "id": "39280d71",
   "metadata": {},
   "source": [
    "## Group by query and keep only results with non-zero scores"
   ]
  },
  {
   "cell_type": "code",
   "execution_count": null,
   "id": "b127c864",
   "metadata": {},
   "outputs": [],
   "source": [
    "results = [{'query': query, 'results': [{'id': str(row.result), \n",
    "                                        'score': row.score, \n",
    "                                        'text': row.text} \\\n",
    "                             for _, row in results.iterrows() if row.score > 0.0]} \\\n",
    "           for query, results in results_df.groupby('query')]\n",
    "results = [result for result in results if len(result['results']) > 0]"
   ]
  },
  {
   "cell_type": "code",
   "execution_count": null,
   "id": "1579ef87",
   "metadata": {},
   "outputs": [],
   "source": [
    "print(len(results))\n",
    "results[0]"
   ]
  },
  {
   "cell_type": "markdown",
   "id": "dbf2012d",
   "metadata": {},
   "source": [
    "## Save labeled results"
   ]
  },
  {
   "cell_type": "code",
   "execution_count": null,
   "id": "0e10df70",
   "metadata": {},
   "outputs": [],
   "source": [
    "with open(os.path.join(output_dir, f\"{filename}.json\"), 'w', encoding='utf-8') as f:\n",
    "        json.dump(results, f, ensure_ascii=False, indent=2)"
   ]
  },
  {
   "cell_type": "code",
   "execution_count": null,
   "id": "acd8a7b6",
   "metadata": {},
   "outputs": [],
   "source": []
  }
 ],
 "metadata": {
  "kernelspec": {
   "display_name": "ilc-models",
   "language": "python",
   "name": "ilc-models"
  },
  "language_info": {
   "codemirror_mode": {
    "name": "ipython",
    "version": 3
   },
   "file_extension": ".py",
   "mimetype": "text/x-python",
   "name": "python",
   "nbconvert_exporter": "python",
   "pygments_lexer": "ipython3",
   "version": "3.10.9"
  }
 },
 "nbformat": 4,
 "nbformat_minor": 5
}
