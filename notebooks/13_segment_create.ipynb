{
 "cells": [
  {
   "cell_type": "markdown",
   "metadata": {},
   "source": [
    "# Create segments from pre-processed texts using segmentation model"
   ]
  },
  {
   "cell_type": "code",
   "execution_count": null,
   "metadata": {},
   "outputs": [],
   "source": [
    "%load_ext autoreload\n",
    "%autoreload 2\n",
    "%load_ext dotenv\n",
    "%dotenv"
   ]
  },
  {
   "cell_type": "code",
   "execution_count": null,
   "metadata": {},
   "outputs": [],
   "source": [
    "from datetime import datetime\n",
    "import json\n",
    "import os\n",
    "import pickle\n",
    "import re\n",
    "\n",
    "from IPython.display import display, Markdown\n",
    "import openai\n",
    "import pinecone\n",
    "from sentence_transformers import SentenceTransformer\n",
    "import spacy\n",
    "from tqdm.autonotebook import tqdm\n",
    "\n",
    "from models.data_utils import get_paragraph_texts_and_ids, get_segment_texts_and_ids\n",
    "from models.segment_train import get_mpnet_embedder, get_openai_embedder,\\\n",
    "    syntactic_paragraph_features, predict_using_features_and_ensemble"
   ]
  },
  {
   "cell_type": "code",
   "execution_count": null,
   "metadata": {},
   "outputs": [],
   "source": [
    "# configure\n",
    "input_dir = '../data/pre_process'\n",
    "segment_model_path = '../data/segment/model/2023-04-12.pkl'\n",
    "segment_threshold = 0.55\n",
    "max_segment_len = 500\n",
    "output_dir = '../data/segment/output'\n",
    "today = datetime.today().strftime('%Y-%m-%d')\n",
    "\n",
    "# spacy\n",
    "parser = spacy.load(\"en_core_web_sm\")\n",
    "\n",
    "# mpnet embedder for segmentation\n",
    "mpnet = SentenceTransformer('sentence-transformers/all-mpnet-base-v2')\n",
    "mpnet_embedder = get_mpnet_embedder(mpnet)\n",
    "\n",
    "# openai embedder for segmentation\n",
    "openai.organization = os.environ['OPENAI_ORG']\n",
    "openai.api_key = os.environ['OPENAI_KEY']\n",
    "openai.Engine.list()\n",
    "openai_embedder = get_openai_embedder(openai)"
   ]
  },
  {
   "cell_type": "code",
   "execution_count": null,
   "metadata": {},
   "outputs": [],
   "source": [
    "# load segment classifier\n",
    "with open(segment_model_path,'rb') as f:\n",
    "    clf = pickle.load(f)"
   ]
  },
  {
   "cell_type": "markdown",
   "metadata": {},
   "source": [
    "## Create segments"
   ]
  },
  {
   "cell_type": "code",
   "execution_count": null,
   "metadata": {},
   "outputs": [],
   "source": [
    "# create segmenter\n",
    "predictor = predict_using_features_and_ensemble(syntactic_paragraph_features,\n",
    "                                                openai_embedder,\n",
    "                                                mpnet_embedder,\n",
    "                                                parser,\n",
    "                                                clf,\n",
    "                                                segment_threshold)"
   ]
  },
  {
   "cell_type": "code",
   "execution_count": null,
   "metadata": {},
   "outputs": [],
   "source": [
    "# read conf talks\n",
    "segments = []\n",
    "for filename in tqdm(os.path.join(input_dir, f)\n",
    "                 for f in os.listdir(input_dir) if os.path.isfile(os.path.join(input_dir, f))):\n",
    "    with open(filename, 'r') as f:\n",
    "        data = json.load(f)\n",
    "\n",
    "    # get paragraphs\n",
    "    paragraph_texts_and_ids = get_paragraph_texts_and_ids(data['content'])\n",
    "    paragraphs = [paragraph_text_id[0] for paragraph_text_id in paragraph_texts_and_ids]\n",
    "\n",
    "    # get segments\n",
    "    segmentation = predictor(paragraphs)\n",
    "    segment_texts_and_ids = get_segment_texts_and_ids(paragraph_texts_and_ids,\n",
    "                                                      segmentation,\n",
    "                                                      max_segment_len = max_segment_len,\n",
    "                                                     )\n",
    "\n",
    "    # create segment\n",
    "    for segment_text_and_id in segment_texts_and_ids:\n",
    "        segments.append({\n",
    "            'year': data['year'],\n",
    "            'month': data['month'],\n",
    "            'url': data['url'],\n",
    "            'anchor': segment_text_and_id[1],\n",
    "            'title': data['title'],\n",
    "            'author': data['author'],\n",
    "            'text': segment_text_and_id[0],\n",
    "        })\n",
    "len(segments)"
   ]
  },
  {
   "cell_type": "code",
   "execution_count": null,
   "metadata": {},
   "outputs": [],
   "source": [
    "segments[0]"
   ]
  },
  {
   "cell_type": "markdown",
   "metadata": {},
   "source": [
    "## Save segments"
   ]
  },
  {
   "cell_type": "code",
   "execution_count": null,
   "metadata": {},
   "outputs": [],
   "source": [
    "filename = os.path.join(output_dir, f\"{today}.json\")\n",
    "with open(filename, 'w', encoding='utf-8') as f:\n",
    "    json.dump(segments, f, ensure_ascii=False, indent=2)"
   ]
  },
  {
   "cell_type": "code",
   "execution_count": null,
   "metadata": {},
   "outputs": [],
   "source": []
  }
 ],
 "metadata": {
  "kernelspec": {
   "display_name": "ilc-models",
   "language": "python",
   "name": "ilc-models"
  },
  "language_info": {
   "codemirror_mode": {
    "name": "ipython",
    "version": 3
   },
   "file_extension": ".py",
   "mimetype": "text/x-python",
   "name": "python",
   "nbconvert_exporter": "python",
   "pygments_lexer": "ipython3",
   "version": "3.10.9"
  }
 },
 "nbformat": 4,
 "nbformat_minor": 1
}
