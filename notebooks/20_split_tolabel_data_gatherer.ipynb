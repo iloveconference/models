{
 "cells": [
  {
   "cell_type": "markdown",
   "id": "db049376",
   "metadata": {},
   "source": [
    "# Gather data to label for splitting\n",
    "Sample talks, divide into sections, write each section into a format suitable for uploading to LabelStudio"
   ]
  },
  {
   "cell_type": "code",
   "execution_count": null,
   "id": "963099e1",
   "metadata": {},
   "outputs": [],
   "source": [
    "%load_ext autoreload\n",
    "%autoreload 2\n",
    "%load_ext dotenv\n",
    "%dotenv"
   ]
  },
  {
   "cell_type": "code",
   "execution_count": null,
   "id": "3fab243d",
   "metadata": {},
   "outputs": [],
   "source": [
    "from datetime import datetime\n",
    "import json\n",
    "import os\n",
    "import random\n",
    "\n",
    "from models.load_utils import load_docs_from_jsonl\n",
    "from models.split_utils import get_filenames, get_sections"
   ]
  },
  {
   "cell_type": "code",
   "execution_count": null,
   "id": "28c632da",
   "metadata": {},
   "outputs": [],
   "source": [
    "# configure\n",
    "input_dir = '../data/load/output'\n",
    "input_filename = '2023-09-23.jsonl'\n",
    "output_dir = '../data/split/to_labelstudio'\n",
    "today = datetime.today().strftime('%Y-%m-%d')\n",
    "\n",
    "sample_size = 40"
   ]
  },
  {
   "cell_type": "code",
   "execution_count": null,
   "id": "de51af37",
   "metadata": {},
   "outputs": [],
   "source": [
    "# sample talks from input dir\n",
    "docs = load_docs_from_jsonl(os.path.join(input_dir, input_filename))\n",
    "sample = random.sample(docs, sample_size)\n",
    "len(sample)"
   ]
  },
  {
   "cell_type": "code",
   "execution_count": null,
   "id": "efe6dd5c-99a9-42b5-90e1-6c80f37bc0da",
   "metadata": {},
   "outputs": [],
   "source": [
    "docs[0].metadata"
   ]
  },
  {
   "cell_type": "code",
   "execution_count": null,
   "id": "09727c4d",
   "metadata": {},
   "outputs": [],
   "source": [
    "to_label = []\n",
    "\n",
    "for doc in sample:\n",
    "    talk = '-'.join(doc.metadata['url'].split('/')[-3:]).split('?')[0]\n",
    "    for ix, (section_title, section_text) in enumerate(get_sections(doc.page_content)):\n",
    "        _id = len(to_label) + 1\n",
    "        to_label.append({\n",
    "            \"id\": _id,\n",
    "            \"data\": {\n",
    "                \"id\": _id,\n",
    "                \"talk\": talk,\n",
    "                \"section\": section_title,\n",
    "                \"text\": section_text\n",
    "            }\n",
    "        })\n",
    "    print(talk, ix)"
   ]
  },
  {
   "cell_type": "code",
   "execution_count": null,
   "id": "11db173b",
   "metadata": {},
   "outputs": [],
   "source": [
    "# write to file\n",
    "filename = os.path.join(output_dir, f\"{today}.json\")\n",
    "with open(filename, 'w', encoding='utf-8') as f:\n",
    "    json.dump(to_label, f, ensure_ascii=False, indent=2)"
   ]
  },
  {
   "cell_type": "code",
   "execution_count": null,
   "id": "f7287cf8",
   "metadata": {},
   "outputs": [],
   "source": []
  }
 ],
 "metadata": {
  "kernelspec": {
   "display_name": "Python 3 (ipykernel)",
   "language": "python",
   "name": "python3"
  },
  "language_info": {
   "codemirror_mode": {
    "name": "ipython",
    "version": 3
   },
   "file_extension": ".py",
   "mimetype": "text/x-python",
   "name": "python",
   "nbconvert_exporter": "python",
   "pygments_lexer": "ipython3",
   "version": "3.8.5"
  }
 },
 "nbformat": 4,
 "nbformat_minor": 5
}
