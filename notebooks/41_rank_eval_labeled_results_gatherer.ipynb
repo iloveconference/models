{
 "cells": [
  {
   "cell_type": "markdown",
   "id": "1370670d",
   "metadata": {},
   "source": [
    "# Create labeled results from exported spreadsheet\n",
    "To use as truth for evaluating various ranking algorithms.\n",
    "\n",
    "Labeled_results_raw contains the CSV export of the spreadsheet where unlabeled results were labeled.\n",
    "\n",
    "Labeled_results contains the labeled results, ready to be used for evaluation."
   ]
  },
  {
   "cell_type": "code",
   "execution_count": null,
   "id": "e099b0e9",
   "metadata": {},
   "outputs": [],
   "source": [
    "%load_ext autoreload\n",
    "%autoreload 2\n",
    "%load_ext dotenv\n",
    "%dotenv"
   ]
  },
  {
   "cell_type": "code",
   "execution_count": null,
   "id": "648f8577",
   "metadata": {},
   "outputs": [],
   "source": [
    "import json\n",
    "import os\n",
    "\n",
    "import pandas as pd"
   ]
  },
  {
   "cell_type": "markdown",
   "id": "dac1a10b",
   "metadata": {},
   "source": [
    "**First:** download the \"Rate Results\" tab of the rating spreadsheet to {input_dir}/{filename}.csv\n",
    "\n",
    "**Second:** remove any instructions rows above the headers"
   ]
  },
  {
   "cell_type": "code",
   "execution_count": null,
   "id": "90f458ea",
   "metadata": {},
   "outputs": [],
   "source": [
    "input_dir = '../data/rank_eval/labeled_results_raw'\n",
    "output_dir = '../data/rank_eval/labeled_results'\n",
    "filename = '2023-04-25'"
   ]
  },
  {
   "cell_type": "markdown",
   "id": "2222621b",
   "metadata": {},
   "source": [
    "## Read raw labeled results"
   ]
  },
  {
   "cell_type": "code",
   "execution_count": null,
   "id": "aacbcb40",
   "metadata": {},
   "outputs": [],
   "source": [
    "# read csv file into pandas\n",
    "results_df = pd.read_csv(os.path.join(input_dir, f\"{filename}.csv\"))\n",
    "results_df = results_df.drop([\"Number\"], axis=1, errors=\"ignore\")\n",
    "results_df = results_df.rename(columns={results_df.columns[1]: 'score'})"
   ]
  },
  {
   "cell_type": "code",
   "execution_count": null,
   "id": "06f014ac",
   "metadata": {},
   "outputs": [],
   "source": [
    "results_df.head(3)"
   ]
  },
  {
   "cell_type": "markdown",
   "id": "8f2a5c9b",
   "metadata": {},
   "source": [
    "## Group by query and keep only results with one or more scores > 0"
   ]
  },
  {
   "cell_type": "code",
   "execution_count": null,
   "id": "2b79a110",
   "metadata": {},
   "outputs": [],
   "source": [
    "results = [{'query': query, 'results': [{'id': str(row.result), \n",
    "                                        'score': row.score, \n",
    "                                        'text': row.text} \\\n",
    "                             for _, row in results.iterrows() if row.score > 0.0]} \\\n",
    "           for query, results in results_df.groupby('query')]\n",
    "results = [result for result in results if len(result['results']) > 0]"
   ]
  },
  {
   "cell_type": "code",
   "execution_count": null,
   "id": "a45efaf1",
   "metadata": {},
   "outputs": [],
   "source": [
    "print(len(results))\n",
    "results[0]"
   ]
  },
  {
   "cell_type": "markdown",
   "id": "cdb296fa",
   "metadata": {},
   "source": [
    "## Save labeled results"
   ]
  },
  {
   "cell_type": "code",
   "execution_count": null,
   "id": "932ac50e",
   "metadata": {},
   "outputs": [],
   "source": [
    "with open(os.path.join(output_dir, f\"{filename}.json\"), 'w', encoding='utf-8') as f:\n",
    "        json.dump(results, f, ensure_ascii=False, indent=2)"
   ]
  },
  {
   "cell_type": "code",
   "execution_count": null,
   "id": "6ff98a46",
   "metadata": {},
   "outputs": [],
   "source": []
  }
 ],
 "metadata": {
  "kernelspec": {
   "display_name": "Python 3 (ipykernel)",
   "language": "python",
   "name": "python3"
  },
  "language_info": {
   "codemirror_mode": {
    "name": "ipython",
    "version": 3
   },
   "file_extension": ".py",
   "mimetype": "text/x-python",
   "name": "python",
   "nbconvert_exporter": "python",
   "pygments_lexer": "ipython3",
   "version": "3.8.5"
  }
 },
 "nbformat": 4,
 "nbformat_minor": 5
}
