{
 "cells": [
  {
   "cell_type": "markdown",
   "id": "0ed2304b",
   "metadata": {},
   "source": [
    "# Crawl, load, and split Evidence Central"
   ]
  },
  {
   "cell_type": "code",
   "execution_count": null,
   "id": "7fe5bf12",
   "metadata": {},
   "outputs": [],
   "source": [
    "%load_ext autoreload\n",
    "%autoreload 2"
   ]
  },
  {
   "cell_type": "code",
   "execution_count": null,
   "id": "4bca89a2",
   "metadata": {},
   "outputs": [],
   "source": [
    "from datetime import datetime\n",
    "import json\n",
    "import os\n",
    "import requests\n",
    "import time\n",
    "from typing import Iterator\n",
    "from urllib.parse import urljoin, urlparse\n",
    "\n",
    "from bs4 import BeautifulSoup, Tag\n",
    "from tqdm import tqdm\n",
    "\n",
    "from models.crawl_utils import get_page, save_page\n",
    "from models.load_evidence_central import load_evidence_central\n",
    "from models.load_utils import Loader, load_docs_from_jsonl, save_docs_to_jsonl\n",
    "from models.split_model import MarkdownSyntacticEmbeddingSplitter"
   ]
  },
  {
   "cell_type": "markdown",
   "id": "91ece895",
   "metadata": {},
   "source": [
    "## Crawl"
   ]
  },
  {
   "cell_type": "code",
   "execution_count": null,
   "id": "e753397e",
   "metadata": {},
   "outputs": [],
   "source": [
    "# config\n",
    "host = 'https://evidencecentral.org/sitemap.xml'\n",
    "source = \"evidence_central\"\n",
    "crawl_dir = f'../data/raw/{source}'\n",
    "delay_seconds = 5\n",
    "\n",
    "if not os.path.exists(crawl_dir):\n",
    "    os.makedirs(crawl_dir)\n",
    "    "
   ]
  },
  {
   "cell_type": "code",
   "execution_count": null,
   "id": "9225f0f2",
   "metadata": {},
   "outputs": [],
   "source": [
    "def extract_links(xml_content):\n",
    "    #Parse the XML content using BeautifulSoup\n",
    "    soup = BeautifulSoup(xml_content, 'xml')\n",
    "\n",
    "    #Find all <loc> tags in the XML\n",
    "    loc_tags = soup.find_all('loc')\n",
    "\n",
    "    #Extract and store the text inside each <loc> tag\n",
    "    loc_texts = [loc.get_text() for loc in loc_tags]\n",
    "\n",
    "    return loc_texts"
   ]
  },
  {
   "cell_type": "code",
   "execution_count": null,
   "id": "8861659b-9805-45a3-a931-cfb74a293949",
   "metadata": {},
   "outputs": [],
   "source": [
    "def get_path(url):\n",
    "    path_components = urlparse(url).path.split('/')\n",
    "    # print(path_components)\n",
    "    return os.path.join(crawl_dir, f\"{path_components[-1]}.json\")"
   ]
  },
  {
   "cell_type": "code",
   "execution_count": null,
   "id": "e2d33629-31c0-4968-8346-db60b0549e58",
   "metadata": {},
   "outputs": [],
   "source": [
    "def get_sitemap(host):\n",
    "    headers = {\n",
    "        'Content-Type': 'text/xml',\n",
    "    }\n",
    "    response = requests.get(host, headers=headers)\n",
    "    return response"
   ]
  },
  {
   "cell_type": "code",
   "execution_count": null,
   "id": "b712deb6",
   "metadata": {},
   "outputs": [],
   "source": [
    "def get_page_from_post(path):\n",
    "    path_route = path.replace(\"https://evidencecentral.org\", \"\")\n",
    "    headers = {\n",
    "        'Content-Type': 'application/json',\n",
    "    }\n",
    "\n",
    "    json_data = {\n",
    "        'tblnm': 'virctnrnyvw',\n",
    "        'templateId': 116,\n",
    "        'parameters': '{\"tblEty\":314,\"prnFomtplhdrID\":116,\"path\":\"'+path_route+'\",\"templateKey\":\"PAGES/CONTENT_RECENCY_VIEWER\",\"uiKey\":\"AF24A18C-F8BD-4742-AAF8-955E7AF86206\",\"dynamicStateGuid\":\"d0450ef1-aa1e-4240-8ef5-a1721f3e3564\",\"isFormValid\":true,\"fileTemplate\":\"recency\"}',\n",
    "        'formValues': '{\"tblEty\":314}',\n",
    "    }\n",
    "    response = requests.post('https://evidencecentral.org/api/fileTemplate/process/html', headers=headers, json=json_data)\n",
    "\n",
    "    return response\n",
    "\n",
    "    # Note: json_data will not be serialized by requests\n",
    "    # exactly as it was in the original request.\n",
    "    #data = '{\"tblnm\":\"virctnrnyvw\",\"templateId\":116,\"parameters\":\"{\\\\\"tblEty\\\\\":314,\\\\\"prnFomtplhdrID\\\\\":116,\\\\\"path\\\\\":\\\\\"/recency/evidence/make-a-record\\\\\",\\\\\"templateKey\\\\\":\\\\\"PAGES/CONTENT_RECENCY_VIEWER\\\\\",\\\\\"uiKey\\\\\":\\\\\"AF24A18C-F8BD-4742-AAF8-955E7AF86206\\\\\",\\\\\"dynamicStateGuid\\\\\":\\\\\"d0450ef1-aa1e-4240-8ef5-a1721f3e3564\\\\\",\\\\\"isFormValid\\\\\":true,\\\\\"fileTemplate\\\\\":\\\\\"recency\\\\\"}\",\"formValues\":\"{\\\\\"tblEty\\\\\":314}\"}'\n",
    "    #response = requests.post('https://evidencecentral.org/api/fileTemplate/process/html', headers=headers, data=data)"
   ]
  },
  {
   "cell_type": "code",
   "execution_count": null,
   "id": "8565dddc",
   "metadata": {},
   "outputs": [],
   "source": [
    "response = get_sitemap(host)\n",
    "if response.status_code != 200:\n",
    "    print(f\"ERROR {response.status_code}\")\n",
    "xml_content = response.content"
   ]
  },
  {
   "cell_type": "code",
   "execution_count": null,
   "id": "c8ca9f27",
   "metadata": {},
   "outputs": [],
   "source": [
    "xml_links = extract_links(xml_content)\n",
    "print(len(xml_links))\n",
    "print(xml_links[2])"
   ]
  },
  {
   "cell_type": "code",
   "execution_count": null,
   "id": "fa244c64-5d40-4d93-ac95-e5fce805b9fd",
   "metadata": {},
   "outputs": [],
   "source": [
    "for url in xml_links:\n",
    "    # print(url)\n",
    "    path_file =  get_path(url)\n",
    "    print(path_file)\n",
    "    if os.path.exists(path_file):\n",
    "        continue\n",
    "    response = get_page_from_post(url)\n",
    "    if response.status_code != 200:\n",
    "        print(\"Error!\", response.status_code , url)\n",
    "        continue\n",
    "    time.sleep(delay_seconds)\n",
    "    save_page(path_file,url,response.content.decode('utf-8'))\n",
    "\n",
    "print(\"End\")"
   ]
  },
  {
   "cell_type": "markdown",
   "id": "90af220c",
   "metadata": {},
   "source": [
    "## Load"
   ]
  },
  {
   "cell_type": "code",
   "execution_count": null,
   "id": "4399a0c9",
   "metadata": {},
   "outputs": [],
   "source": [
    "# config\n",
    "# input_dir is now crawl_dir, and output_dir is now load_dir, and output_filename is now load_filename\n",
    "load_dir = f'../data/load/{source}/'\n",
    "today = datetime.today().strftime('%Y-%m-%d')\n",
    "load_filename = os.path.join(load_dir, f\"{today}.jsonl\")\n",
    "\n",
    "if not os.path.exists(load_dir):\n",
    "    os.makedirs(load_dir)"
   ]
  },
  {
   "cell_type": "code",
   "execution_count": null,
   "id": "2cc10596",
   "metadata": {},
   "outputs": [],
   "source": [
    "loader = Loader(load_evidence_central, crawl_dir)\n",
    "docs = loader.load(verbose=True)\n",
    "len(docs)"
   ]
  },
  {
   "cell_type": "code",
   "execution_count": null,
   "id": "b8755943",
   "metadata": {},
   "outputs": [],
   "source": [
    "print(\"metadat: \", docs[0].metadata)\n",
    "print()\n",
    "print(\"content: \", docs[0].page_content)"
   ]
  },
  {
   "cell_type": "code",
   "execution_count": null,
   "id": "486c3f00",
   "metadata": {},
   "outputs": [],
   "source": [
    "save_docs_to_jsonl(docs, load_filename)"
   ]
  },
  {
   "cell_type": "markdown",
   "id": "c9c4ec07",
   "metadata": {},
   "source": [
    "## Split"
   ]
  },
  {
   "cell_type": "code",
   "execution_count": null,
   "id": "b1d47019",
   "metadata": {},
   "outputs": [],
   "source": [
    "# configure\n",
    "# input_path is now load_filename, output_dir is now split_dir, and output filename is now split_filename\n",
    "split_dir = f'../data/split/{source}/'\n",
    "today = datetime.today().strftime('%Y-%m-%d')\n",
    "# output filename is now split_filename\n",
    "split_filename = os.path.join(split_dir, f\"{today}.jsonl\")\n",
    "\n",
    "if not os.path.exists(split_dir):\n",
    "    os.makedirs(split_dir)"
   ]
  },
  {
   "cell_type": "code",
   "execution_count": null,
   "id": "d40ff1fb",
   "metadata": {},
   "outputs": [],
   "source": [
    "docs = load_docs_from_jsonl(load_filename)\n",
    "len(docs)"
   ]
  },
  {
   "cell_type": "code",
   "execution_count": null,
   "id": "2e40b8c7",
   "metadata": {},
   "outputs": [],
   "source": [
    "text_splitter = MarkdownSyntacticEmbeddingSplitter()"
   ]
  },
  {
   "cell_type": "code",
   "execution_count": null,
   "id": "2d26d2e3",
   "metadata": {},
   "outputs": [],
   "source": [
    "splits = text_splitter.split_documents(docs, verbose=True)\n",
    "len(splits)"
   ]
  },
  {
   "cell_type": "code",
   "execution_count": null,
   "id": "da9a292c",
   "metadata": {},
   "outputs": [],
   "source": [
    "for ix, split in enumerate(splits[:25]):\n",
    "    print(ix, split.metadata)\n",
    "    print(split.page_content)\n",
    "    print(\"\\n!!! SPLIT !!!\\n\")"
   ]
  },
  {
   "cell_type": "code",
   "execution_count": null,
   "id": "56bb464e",
   "metadata": {},
   "outputs": [],
   "source": [
    "save_docs_to_jsonl(splits, split_filename)"
   ]
  },
  {
   "cell_type": "code",
   "execution_count": null,
   "id": "9c49eaf4-677e-439c-8d9e-0e494b1d3c4e",
   "metadata": {},
   "outputs": [],
   "source": []
  }
 ],
 "metadata": {
  "kernelspec": {
   "display_name": "models",
   "language": "python",
   "name": "models"
  },
  "language_info": {
   "codemirror_mode": {
    "name": "ipython",
    "version": 3
   },
   "file_extension": ".py",
   "mimetype": "text/x-python",
   "name": "python",
   "nbconvert_exporter": "python",
   "pygments_lexer": "ipython3",
   "version": "3.10.0"
  }
 },
 "nbformat": 4,
 "nbformat_minor": 5
}
