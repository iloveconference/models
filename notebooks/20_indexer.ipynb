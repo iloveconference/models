{
 "cells": [
  {
   "cell_type": "markdown",
   "metadata": {},
   "source": [
    "# Index segments"
   ]
  },
  {
   "cell_type": "code",
   "execution_count": null,
   "metadata": {},
   "outputs": [],
   "source": [
    "%load_ext autoreload\n",
    "%autoreload 2\n",
    "%load_ext dotenv\n",
    "%dotenv"
   ]
  },
  {
   "cell_type": "code",
   "execution_count": null,
   "metadata": {},
   "outputs": [],
   "source": [
    "import os\n",
    "\n",
    "from langchain.embeddings.openai import OpenAIEmbeddings\n",
    "from langchain.vectorstores import Pinecone\n",
    "import pinecone\n",
    "from tqdm.autonotebook import tqdm\n",
    "\n",
    "from models.load_utils import load_docs_from_jsonl"
   ]
  },
  {
   "cell_type": "code",
   "execution_count": null,
   "metadata": {},
   "outputs": [],
   "source": [
    "# configure\n",
    "split_path = \"../data/split/output/2023-09-24.jsonl\"\n",
    "index_name = \"conf-ada-002\"\n",
    "batch_size = 100\n",
    "text_field = \"text\"\n",
    "embedding_model, embedding_len, embedding_metric = (\"text-embedding-ada-002\", 1536, \"cosine\")"
   ]
  },
  {
   "cell_type": "markdown",
   "metadata": {},
   "source": [
    "## Initialize embedder"
   ]
  },
  {
   "cell_type": "code",
   "execution_count": null,
   "metadata": {},
   "outputs": [],
   "source": [
    "embedder = OpenAIEmbeddings(\n",
    "    model=embedding_model,\n",
    "    openai_api_key=os.environ['OPENAI_API_KEY'],\n",
    ")"
   ]
  },
  {
   "cell_type": "markdown",
   "metadata": {},
   "source": [
    "## Initialize vector store"
   ]
  },
  {
   "cell_type": "code",
   "execution_count": null,
   "metadata": {},
   "outputs": [],
   "source": [
    "pinecone.init(\n",
    "    api_key=os.environ['PINECONE_API_KEY'], \n",
    "    environment=os.environ['PINECONE_ENV'],\n",
    ")\n",
    "\n",
    "# First, check if our index already exists. If it doesn't, we create it\n",
    "if index_name not in pinecone.list_indexes():\n",
    "    # we create a new index\n",
    "    pinecone.create_index(\n",
    "        name=index_name,\n",
    "        metric=embedding_metric,\n",
    "        dimension=embedding_len\n",
    "    )\n",
    "\n",
    "index = pinecone.Index(index_name)\n",
    "index.describe_index_stats()"
   ]
  },
  {
   "cell_type": "markdown",
   "metadata": {},
   "source": [
    "## Read splits"
   ]
  },
  {
   "cell_type": "code",
   "execution_count": null,
   "metadata": {},
   "outputs": [],
   "source": [
    "docs = load_docs_from_jsonl(split_path)\n",
    "len(docs)"
   ]
  },
  {
   "cell_type": "code",
   "execution_count": null,
   "metadata": {},
   "outputs": [],
   "source": [
    "docs[0]"
   ]
  },
  {
   "cell_type": "markdown",
   "metadata": {},
   "source": [
    "## Index splits"
   ]
  },
  {
   "cell_type": "code",
   "execution_count": null,
   "metadata": {
    "pycharm": {
     "is_executing": true
    }
   },
   "outputs": [],
   "source": [
    "# index conf talks\n",
    "count = 0  # we'll use the count to create unique IDs\n",
    "for i in tqdm(range(0, len(docs), batch_size)):\n",
    "    # set end position of batch\n",
    "    i_end = min(i+batch_size, len(docs))\n",
    "    # get batch of lines and IDs\n",
    "    metadata_batch = [dict(\n",
    "        docs[n].metadata, \n",
    "        text=docs[n].page_content, \n",
    "        source=str(n),\n",
    "    ) for n in range(i, i_end)]\n",
    "    text_batch = [doc.page_content for doc in docs[i: i_end]]\n",
    "    ids_batch = [str(n) for n in range(i, i_end)]\n",
    "    # create embeddings\n",
    "    embed_batch = embedder.embed_documents(text_batch)\n",
    "    # create upsert batch\n",
    "    to_upsert = zip(ids_batch, embed_batch, metadata_batch)\n",
    "    # upsert to Pinecone\n",
    "    index.upsert(vectors=list(to_upsert))\n",
    "    break\n",
    "index.describe_index_stats()"
   ]
  },
  {
   "cell_type": "markdown",
   "metadata": {},
   "source": [
    "## Test index"
   ]
  },
  {
   "cell_type": "code",
   "execution_count": null,
   "metadata": {},
   "outputs": [],
   "source": [
    "query = \"What are the blessings of keeping the sabbath day holy?\"\n",
    "\n",
    "vectorstore = Pinecone(index, embedder, text_field)\n",
    "query_result = vectorstore.similarity_search(query, k=3)\n",
    "query_result"
   ]
  },
  {
   "cell_type": "code",
   "execution_count": null,
   "metadata": {},
   "outputs": [],
   "source": []
  }
 ],
 "metadata": {
  "kernelspec": {
   "display_name": "Python 3 (ipykernel)",
   "language": "python",
   "name": "python3"
  },
  "language_info": {
   "codemirror_mode": {
    "name": "ipython",
    "version": 3
   },
   "file_extension": ".py",
   "mimetype": "text/x-python",
   "name": "python",
   "nbconvert_exporter": "python",
   "pygments_lexer": "ipython3",
   "version": "3.11.5"
  }
 },
 "nbformat": 4,
 "nbformat_minor": 4
}
