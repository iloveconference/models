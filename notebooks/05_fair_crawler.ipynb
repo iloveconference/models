{
 "cells": [
  {
   "cell_type": "markdown",
   "id": "936d02dd",
   "metadata": {},
   "source": [
    "# Crawl fair"
   ]
  },
  {
   "cell_type": "code",
   "execution_count": null,
   "id": "7fe5bf12",
   "metadata": {},
   "outputs": [],
   "source": [
    "%load_ext autoreload\n",
    "%autoreload 2"
   ]
  },
  {
   "cell_type": "code",
   "execution_count": null,
   "id": "4bca89a2",
   "metadata": {},
   "outputs": [],
   "source": [
    "import os\n",
    "from urllib.parse import urljoin, urlparse\n",
    "\n",
    "from bs4 import BeautifulSoup\n",
    "\n",
    "from models.crawl_utils import get_page, save_page"
   ]
  },
  {
   "cell_type": "code",
   "execution_count": null,
   "id": "e753397e",
   "metadata": {},
   "outputs": [],
   "source": [
    "# config\n",
    "host = 'https://www.fairlatterdaysaints.org/answers/Special:AllPages'\n",
    "base_dir = '../data/raw/fair'\n",
    "bs_parser = 'html.parser'\n",
    "delay_seconds = 5\n",
    "approved_links = [\n",
    "    'https://www.fairlatterdaysaints.org/answers/Criticism_of_Mormonism/Online_documents/Letter_to_a_CES_Director',\n",
    "    'https://www.fairlatterdaysaints.org/answers/Sarah_Allen_CES_Response_Posts',\n",
    "    'https://www.fairlatterdaysaints.org/answers/Sarah_Allen%27s_Response_to_Letter_For_My_Wife'\n",
    "    ]\n",
    "\n",
    "if not os.path.exists(base_dir):\n",
    "    os.makedirs(base_dir)"
   ]
  },
  {
   "cell_type": "code",
   "execution_count": null,
   "id": "8861659b-9805-45a3-a931-cfb74a293949",
   "metadata": {},
   "outputs": [],
   "source": [
    "def get_path(url):\n",
    "    if url.endswith('/'):\n",
    "        url = url[:-1]\n",
    "    path_components = urlparse(url).path.split('/')\n",
    "    return os.path.join(base_dir, f\"{path_components[-1]}.json\")\n",
    "    "
   ]
  },
  {
   "cell_type": "code",
   "execution_count": null,
   "id": "42d61cf4",
   "metadata": {},
   "outputs": [],
   "source": [
    "for href in approved_links:\n",
    "    path_file =  get_path(href)\n",
    "    print(href, path_file)\n",
    "    if os.path.exists(path_file):\n",
    "        continue\n",
    "    status_code, html = get_page(href, delay_seconds)\n",
    "    if status_code != 200:\n",
    "        print(\"Error!\", status_code , href)\n",
    "        continue\n",
    "    save_page(path_file,href,html)"
   ]
  }
 ],
 "metadata": {
  "kernelspec": {
   "display_name": "models-5vTMPdpX-py3.10",
   "language": "python",
   "name": "python3"
  },
  "language_info": {
   "codemirror_mode": {
    "name": "ipython",
    "version": 3
   },
   "file_extension": ".py",
   "mimetype": "text/x-python",
   "name": "python",
   "nbconvert_exporter": "python",
   "pygments_lexer": "ipython3",
   "version": "3.10.0"
  }
 },
 "nbformat": 4,
 "nbformat_minor": 5
}
