{
 "cells": [
  {
   "cell_type": "markdown",
   "id": "936d02dd",
   "metadata": {},
   "source": [
    "# Crawl fair"
   ]
  },
  {
   "cell_type": "code",
   "execution_count": null,
   "id": "7fe5bf12",
   "metadata": {},
   "outputs": [],
   "source": [
    "%load_ext autoreload\n",
    "%autoreload 2"
   ]
  },
  {
   "cell_type": "code",
   "execution_count": null,
   "id": "4bca89a2",
   "metadata": {},
   "outputs": [],
   "source": [
    "import os\n",
    "from urllib.parse import urljoin, urlparse\n",
    "\n",
    "from bs4 import BeautifulSoup\n",
    "\n",
    "from models.crawl_utils import get_page, save_page"
   ]
  },
  {
   "cell_type": "code",
   "execution_count": null,
   "id": "e753397e",
   "metadata": {},
   "outputs": [],
   "source": [
    "# config\n",
    "host = 'https://www.fairlatterdaysaints.org/answers/Special:AllPages'\n",
    "base_dir = '../data/raw/fair'\n",
    "bs_parser = 'html.parser'\n",
    "delay_seconds = 5\n",
    "approved_links = [\n",
    "    'https://www.fairlatterdaysaints.org/answers/Criticism_of_Mormonism/Online_documents/Letter_to_a_CES_Director',\n",
    "    'https://www.fairlatterdaysaints.org/answers/Sarah_Allen_CES_Response_Posts',\n",
    "    'https://www.fairlatterdaysaints.org/answers/Sarah_Allen%27s_Response_to_Letter_For_My_Wife'\n",
    "    ]\n",
    "\n",
    "if not os.path.exists(base_dir):\n",
    "    os.makedirs(base_dir)"
   ]
  },
  {
   "cell_type": "code",
   "execution_count": null,
   "id": "8861659b-9805-45a3-a931-cfb74a293949",
   "metadata": {},
   "outputs": [],
   "source": [
    "def get_path(url):\n",
    "    if url.endswith('/'):\n",
    "        url = url[:-1]\n",
    "    path_components = urlparse(url).path.split('/')\n",
    "    return os.path.join(base_dir, f\"{path_components[-1]}.json\")\n",
    "    "
   ]
  },
  {
   "cell_type": "code",
   "execution_count": null,
   "id": "5555a395",
   "metadata": {},
   "outputs": [],
   "source": [
    "def get_links(soup, base_url):\n",
    "    list_tags = soup.find_all(['ol', 'ul'])\n",
    "    print('list_tags', len(list_tags))\n",
    "    links = set()\n",
    "    for list_tag in list_tags:\n",
    "        a_tags = list_tag.find_all('a', href=True)\n",
    "        print('a_tags', len(a_tags))\n",
    "        for a_tag in a_tags:\n",
    "            url = urljoin(base_url, a_tag['href']).split('#')[0]\n",
    "            links.add(url)\n",
    "    return list(links)"
   ]
  },
  {
   "cell_type": "code",
   "execution_count": null,
   "id": "d3c88f8c",
   "metadata": {},
   "outputs": [],
   "source": [
    "def extract_urls_from_approved_links(approved_links, delay_seconds=5):\n",
    "    extracted_urls = set()\n",
    "\n",
    "    for link in approved_links:\n",
    "        status_code, html = get_page(link, delay_seconds)\n",
    "        if status_code == 200:\n",
    "            soup = BeautifulSoup(html, bs_parser)\n",
    "            extracted_urls.update(get_links(soup, link))\n",
    "            print('html', html)\n",
    "            break\n",
    "    return list(extracted_urls)"
   ]
  },
  {
   "cell_type": "code",
   "execution_count": null,
   "id": "0aeb2343",
   "metadata": {},
   "outputs": [],
   "source": [
    "extracted_links = extract_urls_from_approved_links(approved_links, delay_seconds)"
   ]
  },
  {
   "cell_type": "code",
   "execution_count": null,
   "id": "4b8c323e",
   "metadata": {},
   "outputs": [],
   "source": [
    "for link in extracted_links:\n",
    "    print(link)"
   ]
  },
  {
   "cell_type": "code",
   "execution_count": null,
   "id": "4e400add",
   "metadata": {},
   "outputs": [],
   "source": [
    "def filtered_extracted_urls(extracted_links):\n",
    "    filtered_urls = []\n",
    "    for link in extracted_links:\n",
    "        url = urlparse(link)\n",
    "        if not url.hostname.endswith(\"fairlatterdaysaints.org\"):\n",
    "            continue\n",
    "        if not url.path.startswith(\"/answers\") and not url.path.startswith(\"/blog\"):\n",
    "            continue\n",
    "        if \"Category:\" in url.path:\n",
    "            continue\n",
    "        filtered_urls.append(link)\n",
    "        print(link)\n",
    "    return filtered_urls"
   ]
  },
  {
   "cell_type": "code",
   "execution_count": null,
   "id": "ea3ba268",
   "metadata": {},
   "outputs": [],
   "source": [
    "filtered_urls = filtered_extracted_urls(extracted_links)"
   ]
  },
  {
   "cell_type": "code",
   "execution_count": null,
   "id": "5e088334",
   "metadata": {},
   "outputs": [],
   "source": [
    "for link in filtered_urls:\n",
    "    print(link)"
   ]
  },
  {
   "cell_type": "code",
   "execution_count": null,
   "id": "42d61cf4",
   "metadata": {},
   "outputs": [],
   "source": [
    "for href in approved_links + filtered_urls:\n",
    "    path_file =  get_path(href)\n",
    "    print(href, path_file)\n",
    "    if os.path.exists(path_file):\n",
    "        continue\n",
    "    status_code, html = get_page(href, delay_seconds)\n",
    "    if status_code != 200:\n",
    "        print(\"Error!\", status_code , href)\n",
    "        continue\n",
    "    save_page(path_file,href,html)"
   ]
  }
 ],
 "metadata": {
  "kernelspec": {
   "display_name": "models-5vTMPdpX-py3.10",
   "language": "python",
   "name": "python3"
  },
  "language_info": {
   "codemirror_mode": {
    "name": "ipython",
    "version": 3
   },
   "file_extension": ".py",
   "mimetype": "text/x-python",
   "name": "python",
   "nbconvert_exporter": "python",
   "pygments_lexer": "ipython3",
   "version": "3.10.0"
  }
 },
 "nbformat": 4,
 "nbformat_minor": 5
}
