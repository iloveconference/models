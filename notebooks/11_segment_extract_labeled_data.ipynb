{
 "cells": [
  {
   "cell_type": "markdown",
   "id": "db049376",
   "metadata": {},
   "source": [
    "# Extract labeled data\n",
    "Extract labeled data from LabelStudio export and "
   ]
  },
  {
   "cell_type": "code",
   "execution_count": null,
   "id": "963099e1",
   "metadata": {},
   "outputs": [],
   "source": [
    "%load_ext autoreload\n",
    "%autoreload 2"
   ]
  },
  {
   "cell_type": "code",
   "execution_count": null,
   "id": "3fab243d",
   "metadata": {},
   "outputs": [],
   "source": [
    "from datetime import datetime\n",
    "import json\n",
    "import os\n",
    "import pandas as pd\n",
    "from pprint import pprint\n",
    "import re\n",
    "from typing import NamedTuple"
   ]
  },
  {
   "cell_type": "code",
   "execution_count": null,
   "id": "28c632da",
   "metadata": {},
   "outputs": [],
   "source": [
    "# configure\n",
    "input_dir = '../data/segment/from_labelstudio/'\n",
    "in_filename = '2023-03-17.json'\n",
    "\n",
    "output_dir = '../data/segment/labeled/'\n",
    "today = datetime.today().strftime('%Y-%m-%d')\n",
    "\n",
    "ngram_size = 5"
   ]
  },
  {
   "cell_type": "code",
   "execution_count": null,
   "id": "4142165d",
   "metadata": {},
   "outputs": [],
   "source": [
    "Annotation = NamedTuple(\"Annotation\", [('start', int), ('end', int), ('label', str)])\n",
    "\n",
    "\n",
    "def get_annotations(annotations_in):\n",
    "    # gather all results\n",
    "    results = []\n",
    "    for annotation in annotations_in:\n",
    "        for result in annotation['result']:\n",
    "            if len(result['value']['labels']) != 1:\n",
    "                raise ValueError('should be one label', len(result['value']['labels']))\n",
    "            results.append(result)\n",
    "    # create annotations from sorted results\n",
    "    annotations = []\n",
    "    start = None\n",
    "    label = None\n",
    "    for result in sorted(results, key=lambda result: result['value']['start']):\n",
    "        if label != result['value']['labels'][0]:\n",
    "            if label is not None:\n",
    "                # save previous segment\n",
    "                annotations.append(Annotation(start, end, label))\n",
    "            start = result['value']['start']\n",
    "            label = result['value']['labels'][0]\n",
    "        end = result['value']['end']\n",
    "    if label is not None:\n",
    "        # save final segment\n",
    "        annotations.append(Annotation(start, end, label))\n",
    "    return annotations\n",
    "\n",
    "\n",
    "def get_label_for_paragraph(start, end, annotations):\n",
    "    for annotation in annotations:\n",
    "        # fuzzy match in case boundaries are off by a bit\n",
    "        if start >= annotation.start - 3 and end <= annotation.end + 3:\n",
    "            return annotation.label\n",
    "    raise ValueError('annotation not found', start, end, annotations)\n",
    "\n",
    "    \n",
    "def get_paragraph_segments(annotations, text):\n",
    "    paragraph_segments = []\n",
    "    start = 0\n",
    "    segment = 0\n",
    "    prev_label = None\n",
    "    separator = ''\n",
    "    for ix, paragraph in enumerate(re.split(r'(\\n{2,})', text)):\n",
    "        if ix % 2 == 1:\n",
    "            start += len(paragraph)\n",
    "            continue\n",
    "        end = start + len(paragraph)\n",
    "        label = get_label_for_paragraph(start, end, annotations)\n",
    "        if label != prev_label:\n",
    "            prev_label = label\n",
    "            segment += 1\n",
    "        paragraph_segments.append({\n",
    "            'text': paragraph.strip(),\n",
    "            'segment': segment,\n",
    "        })\n",
    "        start = end\n",
    "    return paragraph_segments"
   ]
  },
  {
   "cell_type": "code",
   "execution_count": null,
   "id": "bfb2893d",
   "metadata": {},
   "outputs": [],
   "source": [
    "# read data exported from LabelStudio\n",
    "with open(os.path.join(input_dir, in_filename)) as f:\n",
    "    data = json.load(f)"
   ]
  },
  {
   "cell_type": "code",
   "execution_count": null,
   "id": "09727c4d",
   "metadata": {},
   "outputs": [],
   "source": [
    "# generate labeled ngram pairs\n",
    "labeled_data = []\n",
    "for instance in data:\n",
    "    try:\n",
    "        annotations = get_annotations(instance['annotations'])\n",
    "        paragraph_segments = get_paragraph_segments(annotations, instance['data']['text'])\n",
    "        labeled_data.append({\n",
    "            'talk': instance['data']['talk'],\n",
    "            'section': instance['data']['section'] or '-',\n",
    "            'paragraphs': paragraph_segments\n",
    "        })\n",
    "    except ValueError as e:\n",
    "        print(instance['data']['talk'], instance['data']['section'], e, '\\n')\n",
    "len(labeled_data)"
   ]
  },
  {
   "cell_type": "code",
   "execution_count": null,
   "id": "cae1ecc0",
   "metadata": {},
   "outputs": [],
   "source": [
    "labeled_data[0]"
   ]
  },
  {
   "cell_type": "code",
   "execution_count": null,
   "id": "11db173b",
   "metadata": {},
   "outputs": [],
   "source": [
    "# write to file\n",
    "filename = os.path.join(output_dir, f\"{today}.json\")\n",
    "with open(filename, 'w', encoding='utf-8') as f:\n",
    "    json.dump(labeled_data, f, ensure_ascii=False, indent=2)"
   ]
  },
  {
   "cell_type": "code",
   "execution_count": null,
   "id": "640352fa",
   "metadata": {},
   "outputs": [],
   "source": []
  }
 ],
 "metadata": {
  "kernelspec": {
   "display_name": "ilc-models",
   "language": "python",
   "name": "ilc-models"
  },
  "language_info": {
   "codemirror_mode": {
    "name": "ipython",
    "version": 3
   },
   "file_extension": ".py",
   "mimetype": "text/x-python",
   "name": "python",
   "nbconvert_exporter": "python",
   "pygments_lexer": "ipython3",
   "version": "3.10.9"
  }
 },
 "nbformat": 4,
 "nbformat_minor": 5
}
