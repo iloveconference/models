{
 "cells": [
  {
   "cell_type": "markdown",
   "id": "936d02dd",
   "metadata": {},
   "source": [
    "# Pre-process talks\n",
    "\n",
    "Convert talk content to markdown format and extract key information"
   ]
  },
  {
   "cell_type": "code",
   "execution_count": null,
   "id": "7fe5bf12",
   "metadata": {},
   "outputs": [],
   "source": [
    "%load_ext autoreload\n",
    "%autoreload 2"
   ]
  },
  {
   "cell_type": "code",
   "execution_count": null,
   "id": "4bca89a2",
   "metadata": {},
   "outputs": [],
   "source": [
    "import json\n",
    "import os\n",
    "\n",
    "from bs4 import BeautifulSoup\n",
    "from markdownify import MarkdownConverter\n",
    "from tqdm import tqdm\n",
    "from urllib.parse import urljoin, urlparse"
   ]
  },
  {
   "cell_type": "code",
   "execution_count": null,
   "id": "e753397e",
   "metadata": {},
   "outputs": [],
   "source": [
    "# config\n",
    "input_dir = '../data/raw'\n",
    "output_dir = '../data/pre_process'\n",
    "bs_parser = 'html.parser'"
   ]
  },
  {
   "cell_type": "code",
   "execution_count": null,
   "id": "af2c51a9",
   "metadata": {},
   "outputs": [],
   "source": [
    "class MyConverter(MarkdownConverter):\n",
    "    \"\"\"\n",
    "    Create a custom MarkdownConverter\n",
    "    \"\"\"\n",
    "    def __init__(self, *args, **kwargs):\n",
    "        super(MyConverter, self).__init__(*args, **kwargs)\n",
    "        self.base_url = kwargs.get('base_url','')\n",
    "        \n",
    "    def convert_a(self, el, text, convert_as_inline):\n",
    "        \"\"\"join hrefs with a base url\"\"\"\n",
    "        if 'href' in el.attrs:\n",
    "            el['href'] = urljoin(self.base_url, el['href'])\n",
    "        return super().convert_a(el, text, convert_as_inline)\n",
    "\n",
    "    def convert_p(self, el, text, convert_as_inline):\n",
    "        if el.has_attr('id') and len(el['id']) > 0:\n",
    "            _id = el['id']\n",
    "            text = f'<a name=\"{_id}\"></a>{text}'\n",
    "        return super().convert_p(el, text, convert_as_inline)\n",
    "\n",
    "    \n",
    "# Create shorthand method for custom conversion\n",
    "def md(html, **options):\n",
    "    return MyConverter(**options).convert(html)\n",
    "\n",
    "\n",
    "def _clean(text):\n",
    "    \"\"\"Replace non-breaking space with normal space\"\"\"\n",
    "    return text.replace(' ', ' ')\n",
    "\n",
    "\n",
    "def get_talk_info(url, html):\n",
    "    path_components = urlparse(url).path.split('/')\n",
    "    year, month = path_components[3:5]\n",
    "    soup = BeautifulSoup(html, bs_parser)\n",
    "    title = soup.select_one('article header h1')\n",
    "    author = soup.select_one('article p.author-name')\n",
    "    author_role = soup.select_one('article p.author-role')\n",
    "    body = soup.select_one('article div.body-block')\n",
    "    content = _clean(md(str(body), base_url=url)) if body else ''\n",
    "\n",
    "    return {\n",
    "        'year': year,\n",
    "        'month': month,\n",
    "        'url': url,\n",
    "        'title': _clean(title.text) if title else '',\n",
    "        'author': _clean(author.text) if author else '',\n",
    "        'author_role': _clean(author_role.text) if author_role else '',\n",
    "        'content': content,\n",
    "    }\n",
    "\n",
    "\n",
    "def write_talk_info(path, talk_info):\n",
    "    with open(path, 'w', encoding='utf-8') as f:\n",
    "        json.dump(talk_info, f, ensure_ascii=False, indent=2)"
   ]
  },
  {
   "cell_type": "code",
   "execution_count": null,
   "id": "2f5ebfa4",
   "metadata": {},
   "outputs": [],
   "source": [
    "for filename in tqdm(os.listdir(input_dir)):\n",
    "    path = os.path.join(input_dir, filename)\n",
    "    with open(path, encoding='utf8') as f:\n",
    "        data = json.load(f)\n",
    "    talk_info = get_talk_info(data['url'], data['html'])\n",
    "    if not talk_info['title'] or not talk_info['content']:\n",
    "        print(\"Missing title or content - skipping\", filename)\n",
    "        continue\n",
    "    if not talk_info['author']:\n",
    "        print(\"Missing author\", filename)\n",
    "    out_path = os.path.join(output_dir, filename)\n",
    "    write_talk_info(out_path, talk_info)"
   ]
  },
  {
   "cell_type": "code",
   "execution_count": null,
   "id": "fc4f3fa1",
   "metadata": {},
   "outputs": [],
   "source": []
  }
 ],
 "metadata": {
  "kernelspec": {
   "display_name": "ilc-models",
   "language": "python",
   "name": "ilc-models"
  },
  "language_info": {
   "codemirror_mode": {
    "name": "ipython",
    "version": 3
   },
   "file_extension": ".py",
   "mimetype": "text/x-python",
   "name": "python",
   "nbconvert_exporter": "python",
   "pygments_lexer": "ipython3",
   "version": "3.10.9"
  }
 },
 "nbformat": 4,
 "nbformat_minor": 5
}
