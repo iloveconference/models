{
 "cells": [
  {
   "cell_type": "markdown",
   "id": "936d02dd",
   "metadata": {},
   "source": [
    "# Crawl Magazines from the Church of Jesus Christ of Latter-day Saints"
   ]
  },
  {
   "cell_type": "code",
   "execution_count": 1,
   "id": "7fe5bf12",
   "metadata": {},
   "outputs": [],
   "source": [
    "%load_ext autoreload\n",
    "%autoreload 2"
   ]
  },
  {
   "cell_type": "code",
   "execution_count": 28,
   "id": "4bca89a2",
   "metadata": {},
   "outputs": [],
   "source": [
    "import os\n",
    "import time\n",
    "from urllib.parse import urljoin, urlparse\n",
    "\n",
    "from bs4 import BeautifulSoup\n",
    "from tqdm.auto import tqdm\n",
    "\n",
    "from models.crawl_utils import get_page, save_page"
   ]
  },
  {
   "cell_type": "code",
   "execution_count": 52,
   "id": "e753397e",
   "metadata": {},
   "outputs": [],
   "source": [
    "# config\n",
    "magazine_urls = [\n",
    "    # 'https://www.churchofjesuschrist.org/study/magazines/liahona?lang=eng',\n",
    "    # 'https://www.churchofjesuschrist.org/study/magazines/ya-weekly?lang=eng',\n",
    "    # 'https://www.churchofjesuschrist.org/study/magazines/for-the-strength-of-youth?lang=eng',\n",
    "    'https://www.churchofjesuschrist.org/study/magazines/for-the-strength-of-youth/new-era-19712020?lang=eng',\n",
    "    # 'https://www.churchofjesuschrist.org/study/magazines/friend?lang=eng',\n",
    "    #'https://www.churchofjesuschrist.org/study/magazines/ensign-19712020?lang=eng'\n",
    "]\n",
    "base_dir = '../data/load/raw'\n",
    "bs_parser = 'html.parser'\n",
    "seconds_delay = 3"
   ]
  },
  {
   "cell_type": "code",
   "execution_count": 59,
   "id": "af2c51a9",
   "metadata": {},
   "outputs": [],
   "source": [
    "def _is_issue_link(url: str) -> bool:\n",
    "    path_components = urlparse(url).path.split('/')\n",
    "    print('is_issue_link', url, path_components)\n",
    "    # must be 5 components (first component is empty)\n",
    "    # new-era issue links have 6 path components\n",
    "    return len(path_components) == 5 or (len(path_components) == 6 and path_components[4] == 'new-era-19712020')\n",
    "\n",
    "\n",
    "def get_issue_links(base_url, html):\n",
    "    soup = BeautifulSoup(html, bs_parser)\n",
    "    return [urljoin(base_url, a['href']) for a in soup.find_all('a', href=True) \\\n",
    "            if _is_issue_link(urljoin(base_url, a['href']))]\n",
    "\n",
    "def get_year_month_links(url, html):\n",
    "    links = get_issue_links(url, html)\n",
    "    year_month_links = []\n",
    "    for link in tqdm(links):\n",
    "        path_components = urlparse(link).path.split('/')\n",
    "        print('link and components', link, path_components)\n",
    "        if len(path_components[-1]) == 2 or path_components[-1].endswith('-se'):\n",
    "            # year-month link\n",
    "            print('year-month link', link)\n",
    "            year_month_links.append(link)\n",
    "        elif len(path_components[-1]) == 4:\n",
    "            # year_only_link\n",
    "            print('year-only link', link)\n",
    "            time.sleep(seconds_delay)            \n",
    "            status_code, html = get_page(link)\n",
    "            if status_code != 200:\n",
    "                print(f\"Status code={status_code} url={link}\")\n",
    "                continue\n",
    "            new_links = get_issue_links(link, html)\n",
    "            for new_link in new_links:\n",
    "                print('issue link', new_link)\n",
    "                year_month_links.append(new_link)\n",
    "        else:\n",
    "            print('unexpected link', link, path_components[-1])    \n",
    "        # TODO remove break\n",
    "        break\n",
    "    return year_month_links\n",
    "\n",
    "def _is_article_link(url: str) -> bool:\n",
    "    path_components = urlparse(url).path.split('/')\n",
    "    # # must be 6 or 7 components (first component is empty)\n",
    "    return len(path_components) == 6 or len(path_components) == 7\n",
    "\n",
    "\n",
    "def get_article_links(base_url, html):\n",
    "    soup = BeautifulSoup(html, bs_parser)\n",
    "    return [urljoin(base_url, a['href']) for a in soup.find_all('a', href=True) \\\n",
    "            if _is_article_link(urljoin(base_url, a['href']))]\n",
    "\n",
    "\n",
    "def get_article_path(url):\n",
    "    path_components = urlparse(url).path.split('/')\n",
    "    path = '_'.join(path_components[2:])\n",
    "    return os.path.join(base_dir, f\"{path}.json\")"
   ]
  },
  {
   "cell_type": "code",
   "execution_count": 60,
   "id": "2f5ebfa4",
   "metadata": {},
   "outputs": [
    {
     "data": {
      "application/vnd.jupyter.widget-view+json": {
       "model_id": "a7c8554d8a074ab6b07bbcee01d85e65",
       "version_major": 2,
       "version_minor": 0
      },
      "text/plain": [
       "  0%|          | 0/1 [00:00<?, ?it/s]"
      ]
     },
     "metadata": {},
     "output_type": "display_data"
    },
    {
     "name": "stdout",
     "output_type": "stream",
     "text": [
      "is_issue_link https://www.churchofjesuschrist.org/study/lib?lang=eng ['', 'study', 'lib']\n",
      "is_issue_link https://www.churchofjesuschrist.org/study/magazines?lang=eng ['', 'study', 'magazines']\n",
      "is_issue_link https://www.churchofjesuschrist.org/study/magazines/for-the-strength-of-youth?lang=eng ['', 'study', 'magazines', 'for-the-strength-of-youth']\n",
      "is_issue_link https://www.churchofjesuschrist.org/notes ['', 'notes']\n",
      "is_issue_link https://www.churchofjesuschrist.org/study/magazines/for-the-strength-of-youth/new-era-19712020/2020?lang=eng ['', 'study', 'magazines', 'for-the-strength-of-youth', 'new-era-19712020', '2020']\n",
      "is_issue_link https://www.churchofjesuschrist.org/study/magazines/for-the-strength-of-youth/new-era-19712020/2019?lang=eng ['', 'study', 'magazines', 'for-the-strength-of-youth', 'new-era-19712020', '2019']\n",
      "is_issue_link https://www.churchofjesuschrist.org/study/magazines/for-the-strength-of-youth/new-era-19712020/2018?lang=eng ['', 'study', 'magazines', 'for-the-strength-of-youth', 'new-era-19712020', '2018']\n",
      "is_issue_link https://www.churchofjesuschrist.org/study/magazines/for-the-strength-of-youth/new-era-19712020/2017?lang=eng ['', 'study', 'magazines', 'for-the-strength-of-youth', 'new-era-19712020', '2017']\n",
      "is_issue_link https://www.churchofjesuschrist.org/study/magazines/for-the-strength-of-youth/new-era-19712020/2016?lang=eng ['', 'study', 'magazines', 'for-the-strength-of-youth', 'new-era-19712020', '2016']\n",
      "is_issue_link https://www.churchofjesuschrist.org/study/magazines/for-the-strength-of-youth/new-era-19712020/2015?lang=eng ['', 'study', 'magazines', 'for-the-strength-of-youth', 'new-era-19712020', '2015']\n",
      "is_issue_link https://www.churchofjesuschrist.org/study/magazines/for-the-strength-of-youth/new-era-19712020/2014?lang=eng ['', 'study', 'magazines', 'for-the-strength-of-youth', 'new-era-19712020', '2014']\n",
      "is_issue_link https://www.churchofjesuschrist.org/study/magazines/for-the-strength-of-youth/new-era-19712020/2013?lang=eng ['', 'study', 'magazines', 'for-the-strength-of-youth', 'new-era-19712020', '2013']\n",
      "is_issue_link https://www.churchofjesuschrist.org/study/magazines/for-the-strength-of-youth/new-era-19712020/2012?lang=eng ['', 'study', 'magazines', 'for-the-strength-of-youth', 'new-era-19712020', '2012']\n",
      "is_issue_link https://www.churchofjesuschrist.org/study/magazines/for-the-strength-of-youth/new-era-19712020/2011?lang=eng ['', 'study', 'magazines', 'for-the-strength-of-youth', 'new-era-19712020', '2011']\n",
      "is_issue_link https://www.churchofjesuschrist.org/study/magazines/for-the-strength-of-youth/new-era-19712020/2010?lang=eng ['', 'study', 'magazines', 'for-the-strength-of-youth', 'new-era-19712020', '2010']\n",
      "is_issue_link https://www.churchofjesuschrist.org/study/magazines/for-the-strength-of-youth/new-era-19712020/2009?lang=eng ['', 'study', 'magazines', 'for-the-strength-of-youth', 'new-era-19712020', '2009']\n",
      "is_issue_link https://www.churchofjesuschrist.org/study/magazines/for-the-strength-of-youth/new-era-19712020/2008?lang=eng ['', 'study', 'magazines', 'for-the-strength-of-youth', 'new-era-19712020', '2008']\n",
      "is_issue_link https://www.churchofjesuschrist.org/study/magazines/for-the-strength-of-youth/new-era-19712020/2007?lang=eng ['', 'study', 'magazines', 'for-the-strength-of-youth', 'new-era-19712020', '2007']\n",
      "is_issue_link https://www.churchofjesuschrist.org/study/magazines/for-the-strength-of-youth/new-era-19712020/2006?lang=eng ['', 'study', 'magazines', 'for-the-strength-of-youth', 'new-era-19712020', '2006']\n",
      "is_issue_link https://www.churchofjesuschrist.org/study/magazines/for-the-strength-of-youth/new-era-19712020/2005?lang=eng ['', 'study', 'magazines', 'for-the-strength-of-youth', 'new-era-19712020', '2005']\n",
      "is_issue_link https://www.churchofjesuschrist.org/study/magazines/for-the-strength-of-youth/new-era-19712020/2004?lang=eng ['', 'study', 'magazines', 'for-the-strength-of-youth', 'new-era-19712020', '2004']\n",
      "is_issue_link https://www.churchofjesuschrist.org/study/magazines/for-the-strength-of-youth/new-era-19712020/2003?lang=eng ['', 'study', 'magazines', 'for-the-strength-of-youth', 'new-era-19712020', '2003']\n",
      "is_issue_link https://www.churchofjesuschrist.org/study/magazines/for-the-strength-of-youth/new-era-19712020/2002?lang=eng ['', 'study', 'magazines', 'for-the-strength-of-youth', 'new-era-19712020', '2002']\n",
      "is_issue_link https://www.churchofjesuschrist.org/study/magazines/for-the-strength-of-youth/new-era-19712020/2001?lang=eng ['', 'study', 'magazines', 'for-the-strength-of-youth', 'new-era-19712020', '2001']\n",
      "is_issue_link https://www.churchofjesuschrist.org/study/magazines/for-the-strength-of-youth/new-era-19712020/2000?lang=eng ['', 'study', 'magazines', 'for-the-strength-of-youth', 'new-era-19712020', '2000']\n",
      "is_issue_link https://www.churchofjesuschrist.org/study/magazines/for-the-strength-of-youth/new-era-19712020/1999?lang=eng ['', 'study', 'magazines', 'for-the-strength-of-youth', 'new-era-19712020', '1999']\n",
      "is_issue_link https://www.churchofjesuschrist.org/study/magazines/for-the-strength-of-youth/new-era-19712020/1998?lang=eng ['', 'study', 'magazines', 'for-the-strength-of-youth', 'new-era-19712020', '1998']\n",
      "is_issue_link https://www.churchofjesuschrist.org/study/magazines/for-the-strength-of-youth/new-era-19712020/1997?lang=eng ['', 'study', 'magazines', 'for-the-strength-of-youth', 'new-era-19712020', '1997']\n",
      "is_issue_link https://www.churchofjesuschrist.org/study/magazines/for-the-strength-of-youth/new-era-19712020/1996?lang=eng ['', 'study', 'magazines', 'for-the-strength-of-youth', 'new-era-19712020', '1996']\n",
      "is_issue_link https://www.churchofjesuschrist.org/study/magazines/for-the-strength-of-youth/new-era-19712020/1995?lang=eng ['', 'study', 'magazines', 'for-the-strength-of-youth', 'new-era-19712020', '1995']\n",
      "is_issue_link https://www.churchofjesuschrist.org/study/magazines/for-the-strength-of-youth/new-era-19712020/1994?lang=eng ['', 'study', 'magazines', 'for-the-strength-of-youth', 'new-era-19712020', '1994']\n",
      "is_issue_link https://www.churchofjesuschrist.org/study/magazines/for-the-strength-of-youth/new-era-19712020/1993?lang=eng ['', 'study', 'magazines', 'for-the-strength-of-youth', 'new-era-19712020', '1993']\n",
      "is_issue_link https://www.churchofjesuschrist.org/study/magazines/for-the-strength-of-youth/new-era-19712020/1992?lang=eng ['', 'study', 'magazines', 'for-the-strength-of-youth', 'new-era-19712020', '1992']\n",
      "is_issue_link https://www.churchofjesuschrist.org/study/magazines/for-the-strength-of-youth/new-era-19712020/1991?lang=eng ['', 'study', 'magazines', 'for-the-strength-of-youth', 'new-era-19712020', '1991']\n",
      "is_issue_link https://www.churchofjesuschrist.org/study/magazines/for-the-strength-of-youth/new-era-19712020/1990?lang=eng ['', 'study', 'magazines', 'for-the-strength-of-youth', 'new-era-19712020', '1990']\n",
      "is_issue_link https://www.churchofjesuschrist.org/study/magazines/for-the-strength-of-youth/new-era-19712020/1989?lang=eng ['', 'study', 'magazines', 'for-the-strength-of-youth', 'new-era-19712020', '1989']\n",
      "is_issue_link https://www.churchofjesuschrist.org/study/magazines/for-the-strength-of-youth/new-era-19712020/1988?lang=eng ['', 'study', 'magazines', 'for-the-strength-of-youth', 'new-era-19712020', '1988']\n",
      "is_issue_link https://www.churchofjesuschrist.org/study/magazines/for-the-strength-of-youth/new-era-19712020/1987?lang=eng ['', 'study', 'magazines', 'for-the-strength-of-youth', 'new-era-19712020', '1987']\n",
      "is_issue_link https://www.churchofjesuschrist.org/study/magazines/for-the-strength-of-youth/new-era-19712020/1986?lang=eng ['', 'study', 'magazines', 'for-the-strength-of-youth', 'new-era-19712020', '1986']\n",
      "is_issue_link https://www.churchofjesuschrist.org/study/magazines/for-the-strength-of-youth/new-era-19712020/1985?lang=eng ['', 'study', 'magazines', 'for-the-strength-of-youth', 'new-era-19712020', '1985']\n",
      "is_issue_link https://www.churchofjesuschrist.org/study/magazines/for-the-strength-of-youth/new-era-19712020/1984?lang=eng ['', 'study', 'magazines', 'for-the-strength-of-youth', 'new-era-19712020', '1984']\n",
      "is_issue_link https://www.churchofjesuschrist.org/study/magazines/for-the-strength-of-youth/new-era-19712020/1983?lang=eng ['', 'study', 'magazines', 'for-the-strength-of-youth', 'new-era-19712020', '1983']\n",
      "is_issue_link https://www.churchofjesuschrist.org/study/magazines/for-the-strength-of-youth/new-era-19712020/1982?lang=eng ['', 'study', 'magazines', 'for-the-strength-of-youth', 'new-era-19712020', '1982']\n",
      "is_issue_link https://www.churchofjesuschrist.org/study/magazines/for-the-strength-of-youth/new-era-19712020/1981?lang=eng ['', 'study', 'magazines', 'for-the-strength-of-youth', 'new-era-19712020', '1981']\n",
      "is_issue_link https://www.churchofjesuschrist.org/study/magazines/for-the-strength-of-youth/new-era-19712020/1980?lang=eng ['', 'study', 'magazines', 'for-the-strength-of-youth', 'new-era-19712020', '1980']\n",
      "is_issue_link https://www.churchofjesuschrist.org/study/magazines/for-the-strength-of-youth/new-era-19712020/1979?lang=eng ['', 'study', 'magazines', 'for-the-strength-of-youth', 'new-era-19712020', '1979']\n",
      "is_issue_link https://www.churchofjesuschrist.org/study/magazines/for-the-strength-of-youth/new-era-19712020/1978?lang=eng ['', 'study', 'magazines', 'for-the-strength-of-youth', 'new-era-19712020', '1978']\n",
      "is_issue_link https://www.churchofjesuschrist.org/study/magazines/for-the-strength-of-youth/new-era-19712020/1977?lang=eng ['', 'study', 'magazines', 'for-the-strength-of-youth', 'new-era-19712020', '1977']\n",
      "is_issue_link https://www.churchofjesuschrist.org/study/magazines/for-the-strength-of-youth/new-era-19712020/1976?lang=eng ['', 'study', 'magazines', 'for-the-strength-of-youth', 'new-era-19712020', '1976']\n",
      "is_issue_link https://www.churchofjesuschrist.org/study/magazines/for-the-strength-of-youth/new-era-19712020/1975?lang=eng ['', 'study', 'magazines', 'for-the-strength-of-youth', 'new-era-19712020', '1975']\n",
      "is_issue_link https://www.churchofjesuschrist.org/study/magazines/for-the-strength-of-youth/new-era-19712020/1974?lang=eng ['', 'study', 'magazines', 'for-the-strength-of-youth', 'new-era-19712020', '1974']\n",
      "is_issue_link https://www.churchofjesuschrist.org/study/magazines/for-the-strength-of-youth/new-era-19712020/1973?lang=eng ['', 'study', 'magazines', 'for-the-strength-of-youth', 'new-era-19712020', '1973']\n",
      "is_issue_link https://www.churchofjesuschrist.org/study/magazines/for-the-strength-of-youth/new-era-19712020/1972?lang=eng ['', 'study', 'magazines', 'for-the-strength-of-youth', 'new-era-19712020', '1972']\n",
      "is_issue_link https://www.churchofjesuschrist.org/study/magazines/for-the-strength-of-youth/new-era-19712020/1971?lang=eng ['', 'study', 'magazines', 'for-the-strength-of-youth', 'new-era-19712020', '1971']\n"
     ]
    },
    {
     "data": {
      "application/vnd.jupyter.widget-view+json": {
       "model_id": "3d865e66dd964e12ad0f9d1c82916b9f",
       "version_major": 2,
       "version_minor": 0
      },
      "text/plain": [
       "  0%|          | 0/50 [00:00<?, ?it/s]"
      ]
     },
     "metadata": {},
     "output_type": "display_data"
    },
    {
     "name": "stdout",
     "output_type": "stream",
     "text": [
      "link and components https://www.churchofjesuschrist.org/study/magazines/for-the-strength-of-youth/new-era-19712020/2020?lang=eng ['', 'study', 'magazines', 'for-the-strength-of-youth', 'new-era-19712020', '2020']\n",
      "year-only link https://www.churchofjesuschrist.org/study/magazines/for-the-strength-of-youth/new-era-19712020/2020?lang=eng\n",
      "is_issue_link https://www.churchofjesuschrist.org/study/lib?lang=eng ['', 'study', 'lib']\n",
      "is_issue_link https://www.churchofjesuschrist.org/study/magazines?lang=eng ['', 'study', 'magazines']\n",
      "is_issue_link https://www.churchofjesuschrist.org/study/magazines/for-the-strength-of-youth?lang=eng ['', 'study', 'magazines', 'for-the-strength-of-youth']\n",
      "is_issue_link https://www.churchofjesuschrist.org/study/magazines/for-the-strength-of-youth/new-era-19712020?lang=eng ['', 'study', 'magazines', 'for-the-strength-of-youth', 'new-era-19712020']\n",
      "is_issue_link https://www.churchofjesuschrist.org/notes ['', 'notes']\n",
      "is_issue_link https://www.churchofjesuschrist.org/study/new-era/2020/01?lang=eng ['', 'study', 'new-era', '2020', '01']\n",
      "is_issue_link https://www.churchofjesuschrist.org/study/new-era/2020/02?lang=eng ['', 'study', 'new-era', '2020', '02']\n",
      "is_issue_link https://www.churchofjesuschrist.org/study/new-era/2020/03?lang=eng ['', 'study', 'new-era', '2020', '03']\n",
      "is_issue_link https://www.churchofjesuschrist.org/study/new-era/2020/04?lang=eng ['', 'study', 'new-era', '2020', '04']\n",
      "is_issue_link https://www.churchofjesuschrist.org/study/new-era/2020/05?lang=eng ['', 'study', 'new-era', '2020', '05']\n",
      "is_issue_link https://www.churchofjesuschrist.org/study/new-era/2020/06?lang=eng ['', 'study', 'new-era', '2020', '06']\n",
      "is_issue_link https://www.churchofjesuschrist.org/study/new-era/2020/07?lang=eng ['', 'study', 'new-era', '2020', '07']\n",
      "is_issue_link https://www.churchofjesuschrist.org/study/new-era/2020/08?lang=eng ['', 'study', 'new-era', '2020', '08']\n",
      "is_issue_link https://www.churchofjesuschrist.org/study/new-era/2020/09?lang=eng ['', 'study', 'new-era', '2020', '09']\n",
      "is_issue_link https://www.churchofjesuschrist.org/study/new-era/2020/10?lang=eng ['', 'study', 'new-era', '2020', '10']\n",
      "is_issue_link https://www.churchofjesuschrist.org/study/new-era/2020/11?lang=eng ['', 'study', 'new-era', '2020', '11']\n",
      "is_issue_link https://www.churchofjesuschrist.org/study/new-era/2020/12?lang=eng ['', 'study', 'new-era', '2020', '12']\n",
      "issue link https://www.churchofjesuschrist.org/study/magazines/for-the-strength-of-youth/new-era-19712020?lang=eng\n",
      "issue link https://www.churchofjesuschrist.org/study/new-era/2020/01?lang=eng\n",
      "issue link https://www.churchofjesuschrist.org/study/new-era/2020/02?lang=eng\n",
      "issue link https://www.churchofjesuschrist.org/study/new-era/2020/03?lang=eng\n",
      "issue link https://www.churchofjesuschrist.org/study/new-era/2020/04?lang=eng\n",
      "issue link https://www.churchofjesuschrist.org/study/new-era/2020/05?lang=eng\n",
      "issue link https://www.churchofjesuschrist.org/study/new-era/2020/06?lang=eng\n",
      "issue link https://www.churchofjesuschrist.org/study/new-era/2020/07?lang=eng\n",
      "issue link https://www.churchofjesuschrist.org/study/new-era/2020/08?lang=eng\n",
      "issue link https://www.churchofjesuschrist.org/study/new-era/2020/09?lang=eng\n",
      "issue link https://www.churchofjesuschrist.org/study/new-era/2020/10?lang=eng\n",
      "issue link https://www.churchofjesuschrist.org/study/new-era/2020/11?lang=eng\n",
      "issue link https://www.churchofjesuschrist.org/study/new-era/2020/12?lang=eng\n",
      "year-month-links 13\n"
     ]
    },
    {
     "data": {
      "application/vnd.jupyter.widget-view+json": {
       "model_id": "6a2b9ae30c784d5b850a6054774e7beb",
       "version_major": 2,
       "version_minor": 0
      },
      "text/plain": [
       "  0%|          | 0/13 [00:00<?, ?it/s]"
      ]
     },
     "metadata": {},
     "output_type": "display_data"
    },
    {
     "data": {
      "application/vnd.jupyter.widget-view+json": {
       "model_id": "58a8773db0044810bd0f73f3b69d32d5",
       "version_major": 2,
       "version_minor": 0
      },
      "text/plain": [
       "  0%|          | 0/50 [00:00<?, ?it/s]"
      ]
     },
     "metadata": {},
     "output_type": "display_data"
    },
    {
     "name": "stdout",
     "output_type": "stream",
     "text": [
      "path ../data/load/raw/magazines_for-the-strength-of-youth_new-era-19712020_2020.json https://www.churchofjesuschrist.org/study/magazines/for-the-strength-of-youth/new-era-19712020/2020?lang=eng\n",
      "     ../data/load/raw/magazines_for-the-strength-of-youth_new-era-19712020_2020.json\n",
      "path ../data/load/raw/magazines_for-the-strength-of-youth_new-era-19712020_2019.json https://www.churchofjesuschrist.org/study/magazines/for-the-strength-of-youth/new-era-19712020/2019?lang=eng\n",
      "     ../data/load/raw/magazines_for-the-strength-of-youth_new-era-19712020_2019.json\n",
      "path ../data/load/raw/magazines_for-the-strength-of-youth_new-era-19712020_2018.json https://www.churchofjesuschrist.org/study/magazines/for-the-strength-of-youth/new-era-19712020/2018?lang=eng\n",
      "     ../data/load/raw/magazines_for-the-strength-of-youth_new-era-19712020_2018.json\n",
      "path ../data/load/raw/magazines_for-the-strength-of-youth_new-era-19712020_2017.json https://www.churchofjesuschrist.org/study/magazines/for-the-strength-of-youth/new-era-19712020/2017?lang=eng\n",
      "     ../data/load/raw/magazines_for-the-strength-of-youth_new-era-19712020_2017.json\n",
      "path ../data/load/raw/magazines_for-the-strength-of-youth_new-era-19712020_2016.json https://www.churchofjesuschrist.org/study/magazines/for-the-strength-of-youth/new-era-19712020/2016?lang=eng\n",
      "     ../data/load/raw/magazines_for-the-strength-of-youth_new-era-19712020_2016.json\n",
      "path ../data/load/raw/magazines_for-the-strength-of-youth_new-era-19712020_2015.json https://www.churchofjesuschrist.org/study/magazines/for-the-strength-of-youth/new-era-19712020/2015?lang=eng\n",
      "     ../data/load/raw/magazines_for-the-strength-of-youth_new-era-19712020_2015.json\n",
      "path ../data/load/raw/magazines_for-the-strength-of-youth_new-era-19712020_2014.json https://www.churchofjesuschrist.org/study/magazines/for-the-strength-of-youth/new-era-19712020/2014?lang=eng\n",
      "     ../data/load/raw/magazines_for-the-strength-of-youth_new-era-19712020_2014.json\n",
      "path ../data/load/raw/magazines_for-the-strength-of-youth_new-era-19712020_2013.json https://www.churchofjesuschrist.org/study/magazines/for-the-strength-of-youth/new-era-19712020/2013?lang=eng\n",
      "     ../data/load/raw/magazines_for-the-strength-of-youth_new-era-19712020_2013.json\n",
      "path ../data/load/raw/magazines_for-the-strength-of-youth_new-era-19712020_2012.json https://www.churchofjesuschrist.org/study/magazines/for-the-strength-of-youth/new-era-19712020/2012?lang=eng\n",
      "     ../data/load/raw/magazines_for-the-strength-of-youth_new-era-19712020_2012.json\n",
      "path ../data/load/raw/magazines_for-the-strength-of-youth_new-era-19712020_2011.json https://www.churchofjesuschrist.org/study/magazines/for-the-strength-of-youth/new-era-19712020/2011?lang=eng\n",
      "     ../data/load/raw/magazines_for-the-strength-of-youth_new-era-19712020_2011.json\n",
      "path ../data/load/raw/magazines_for-the-strength-of-youth_new-era-19712020_2010.json https://www.churchofjesuschrist.org/study/magazines/for-the-strength-of-youth/new-era-19712020/2010?lang=eng\n",
      "     ../data/load/raw/magazines_for-the-strength-of-youth_new-era-19712020_2010.json\n",
      "path ../data/load/raw/magazines_for-the-strength-of-youth_new-era-19712020_2009.json https://www.churchofjesuschrist.org/study/magazines/for-the-strength-of-youth/new-era-19712020/2009?lang=eng\n",
      "     ../data/load/raw/magazines_for-the-strength-of-youth_new-era-19712020_2009.json\n",
      "path ../data/load/raw/magazines_for-the-strength-of-youth_new-era-19712020_2008.json https://www.churchofjesuschrist.org/study/magazines/for-the-strength-of-youth/new-era-19712020/2008?lang=eng\n",
      "     ../data/load/raw/magazines_for-the-strength-of-youth_new-era-19712020_2008.json\n",
      "path ../data/load/raw/magazines_for-the-strength-of-youth_new-era-19712020_2007.json https://www.churchofjesuschrist.org/study/magazines/for-the-strength-of-youth/new-era-19712020/2007?lang=eng\n",
      "     ../data/load/raw/magazines_for-the-strength-of-youth_new-era-19712020_2007.json\n",
      "path ../data/load/raw/magazines_for-the-strength-of-youth_new-era-19712020_2006.json https://www.churchofjesuschrist.org/study/magazines/for-the-strength-of-youth/new-era-19712020/2006?lang=eng\n",
      "     ../data/load/raw/magazines_for-the-strength-of-youth_new-era-19712020_2006.json\n",
      "path ../data/load/raw/magazines_for-the-strength-of-youth_new-era-19712020_2005.json https://www.churchofjesuschrist.org/study/magazines/for-the-strength-of-youth/new-era-19712020/2005?lang=eng\n",
      "     ../data/load/raw/magazines_for-the-strength-of-youth_new-era-19712020_2005.json\n",
      "path ../data/load/raw/magazines_for-the-strength-of-youth_new-era-19712020_2004.json https://www.churchofjesuschrist.org/study/magazines/for-the-strength-of-youth/new-era-19712020/2004?lang=eng\n",
      "     ../data/load/raw/magazines_for-the-strength-of-youth_new-era-19712020_2004.json\n",
      "path ../data/load/raw/magazines_for-the-strength-of-youth_new-era-19712020_2003.json https://www.churchofjesuschrist.org/study/magazines/for-the-strength-of-youth/new-era-19712020/2003?lang=eng\n",
      "     ../data/load/raw/magazines_for-the-strength-of-youth_new-era-19712020_2003.json\n",
      "path ../data/load/raw/magazines_for-the-strength-of-youth_new-era-19712020_2002.json https://www.churchofjesuschrist.org/study/magazines/for-the-strength-of-youth/new-era-19712020/2002?lang=eng\n",
      "     ../data/load/raw/magazines_for-the-strength-of-youth_new-era-19712020_2002.json\n",
      "path ../data/load/raw/magazines_for-the-strength-of-youth_new-era-19712020_2001.json https://www.churchofjesuschrist.org/study/magazines/for-the-strength-of-youth/new-era-19712020/2001?lang=eng\n",
      "     ../data/load/raw/magazines_for-the-strength-of-youth_new-era-19712020_2001.json\n",
      "path ../data/load/raw/magazines_for-the-strength-of-youth_new-era-19712020_2000.json https://www.churchofjesuschrist.org/study/magazines/for-the-strength-of-youth/new-era-19712020/2000?lang=eng\n",
      "     ../data/load/raw/magazines_for-the-strength-of-youth_new-era-19712020_2000.json\n",
      "path ../data/load/raw/magazines_for-the-strength-of-youth_new-era-19712020_1999.json https://www.churchofjesuschrist.org/study/magazines/for-the-strength-of-youth/new-era-19712020/1999?lang=eng\n",
      "     ../data/load/raw/magazines_for-the-strength-of-youth_new-era-19712020_1999.json\n",
      "path ../data/load/raw/magazines_for-the-strength-of-youth_new-era-19712020_1998.json https://www.churchofjesuschrist.org/study/magazines/for-the-strength-of-youth/new-era-19712020/1998?lang=eng\n",
      "     ../data/load/raw/magazines_for-the-strength-of-youth_new-era-19712020_1998.json\n",
      "path ../data/load/raw/magazines_for-the-strength-of-youth_new-era-19712020_1997.json https://www.churchofjesuschrist.org/study/magazines/for-the-strength-of-youth/new-era-19712020/1997?lang=eng\n",
      "     ../data/load/raw/magazines_for-the-strength-of-youth_new-era-19712020_1997.json\n",
      "path ../data/load/raw/magazines_for-the-strength-of-youth_new-era-19712020_1996.json https://www.churchofjesuschrist.org/study/magazines/for-the-strength-of-youth/new-era-19712020/1996?lang=eng\n",
      "     ../data/load/raw/magazines_for-the-strength-of-youth_new-era-19712020_1996.json\n",
      "path ../data/load/raw/magazines_for-the-strength-of-youth_new-era-19712020_1995.json https://www.churchofjesuschrist.org/study/magazines/for-the-strength-of-youth/new-era-19712020/1995?lang=eng\n",
      "     ../data/load/raw/magazines_for-the-strength-of-youth_new-era-19712020_1995.json\n",
      "path ../data/load/raw/magazines_for-the-strength-of-youth_new-era-19712020_1994.json https://www.churchofjesuschrist.org/study/magazines/for-the-strength-of-youth/new-era-19712020/1994?lang=eng\n",
      "     ../data/load/raw/magazines_for-the-strength-of-youth_new-era-19712020_1994.json\n",
      "path ../data/load/raw/magazines_for-the-strength-of-youth_new-era-19712020_1993.json https://www.churchofjesuschrist.org/study/magazines/for-the-strength-of-youth/new-era-19712020/1993?lang=eng\n",
      "     ../data/load/raw/magazines_for-the-strength-of-youth_new-era-19712020_1993.json\n",
      "path ../data/load/raw/magazines_for-the-strength-of-youth_new-era-19712020_1992.json https://www.churchofjesuschrist.org/study/magazines/for-the-strength-of-youth/new-era-19712020/1992?lang=eng\n",
      "     ../data/load/raw/magazines_for-the-strength-of-youth_new-era-19712020_1992.json\n",
      "path ../data/load/raw/magazines_for-the-strength-of-youth_new-era-19712020_1991.json https://www.churchofjesuschrist.org/study/magazines/for-the-strength-of-youth/new-era-19712020/1991?lang=eng\n",
      "     ../data/load/raw/magazines_for-the-strength-of-youth_new-era-19712020_1991.json\n",
      "path ../data/load/raw/magazines_for-the-strength-of-youth_new-era-19712020_1990.json https://www.churchofjesuschrist.org/study/magazines/for-the-strength-of-youth/new-era-19712020/1990?lang=eng\n",
      "     ../data/load/raw/magazines_for-the-strength-of-youth_new-era-19712020_1990.json\n",
      "path ../data/load/raw/magazines_for-the-strength-of-youth_new-era-19712020_1989.json https://www.churchofjesuschrist.org/study/magazines/for-the-strength-of-youth/new-era-19712020/1989?lang=eng\n",
      "     ../data/load/raw/magazines_for-the-strength-of-youth_new-era-19712020_1989.json\n",
      "path ../data/load/raw/magazines_for-the-strength-of-youth_new-era-19712020_1988.json https://www.churchofjesuschrist.org/study/magazines/for-the-strength-of-youth/new-era-19712020/1988?lang=eng\n",
      "     ../data/load/raw/magazines_for-the-strength-of-youth_new-era-19712020_1988.json\n",
      "path ../data/load/raw/magazines_for-the-strength-of-youth_new-era-19712020_1987.json https://www.churchofjesuschrist.org/study/magazines/for-the-strength-of-youth/new-era-19712020/1987?lang=eng\n",
      "     ../data/load/raw/magazines_for-the-strength-of-youth_new-era-19712020_1987.json\n",
      "path ../data/load/raw/magazines_for-the-strength-of-youth_new-era-19712020_1986.json https://www.churchofjesuschrist.org/study/magazines/for-the-strength-of-youth/new-era-19712020/1986?lang=eng\n",
      "     ../data/load/raw/magazines_for-the-strength-of-youth_new-era-19712020_1986.json\n",
      "path ../data/load/raw/magazines_for-the-strength-of-youth_new-era-19712020_1985.json https://www.churchofjesuschrist.org/study/magazines/for-the-strength-of-youth/new-era-19712020/1985?lang=eng\n",
      "     ../data/load/raw/magazines_for-the-strength-of-youth_new-era-19712020_1985.json\n"
     ]
    },
    {
     "ename": "KeyboardInterrupt",
     "evalue": "",
     "output_type": "error",
     "traceback": [
      "\u001b[0;31m---------------------------------------------------------------------------\u001b[0m",
      "\u001b[0;31mKeyboardInterrupt\u001b[0m                         Traceback (most recent call last)",
      "Cell \u001b[0;32mIn[60], line 22\u001b[0m\n\u001b[1;32m     20\u001b[0m     \u001b[38;5;28;01mcontinue\u001b[39;00m\n\u001b[1;32m     21\u001b[0m \u001b[38;5;28mprint\u001b[39m(\u001b[38;5;124m\"\u001b[39m\u001b[38;5;124m    \u001b[39m\u001b[38;5;124m\"\u001b[39m, path)\n\u001b[0;32m---> 22\u001b[0m time\u001b[38;5;241m.\u001b[39msleep(seconds_delay)\n\u001b[1;32m     23\u001b[0m status_code, html \u001b[38;5;241m=\u001b[39m get_page(article_link)\n\u001b[1;32m     24\u001b[0m \u001b[38;5;28;01mif\u001b[39;00m status_code \u001b[38;5;241m!=\u001b[39m \u001b[38;5;241m200\u001b[39m:\n",
      "\u001b[0;31mKeyboardInterrupt\u001b[0m: "
     ]
    }
   ],
   "source": [
    "for url in tqdm(magazine_urls):\n",
    "    time.sleep(seconds_delay)\n",
    "    status_code, html = get_page(url)\n",
    "    if status_code != 200:\n",
    "        print(f\"Status code={status_code} url={url}\")\n",
    "        continue\n",
    "    year_month_links = get_year_month_links(url, html)\n",
    "    print('year-month-links', len(year_month_links))\n",
    "    for link in tqdm(year_month_links):\n",
    "        time.sleep(seconds_delay)\n",
    "        status_code, html = get_page(link)\n",
    "        if status_code != 200:\n",
    "            print(f\"Status code={status_code} url={url}\")\n",
    "            continue        \n",
    "        article_links = get_article_links(link, html)\n",
    "        for article_link in tqdm(article_links):\n",
    "            path = get_article_path(article_link)\n",
    "            print('path', path, article_link)\n",
    "            if os.path.exists(path):\n",
    "                continue\n",
    "            print(\"    \", path)\n",
    "            time.sleep(seconds_delay)\n",
    "            status_code, html = get_page(article_link)\n",
    "            if status_code != 200:\n",
    "                print(f\"Status code={status_code} url={article_link}\")\n",
    "                continue\n",
    "            save_page(path, article_link, html)"
   ]
  },
  {
   "cell_type": "code",
   "execution_count": null,
   "id": "c6f58e52",
   "metadata": {},
   "outputs": [],
   "source": []
  }
 ],
 "metadata": {
  "kernelspec": {
   "display_name": "models",
   "language": "python",
   "name": "models"
  },
  "language_info": {
   "codemirror_mode": {
    "name": "ipython",
    "version": 3
   },
   "file_extension": ".py",
   "mimetype": "text/x-python",
   "name": "python",
   "nbconvert_exporter": "python",
   "pygments_lexer": "ipython3",
   "version": "3.11.6"
  }
 },
 "nbformat": 4,
 "nbformat_minor": 5
}
