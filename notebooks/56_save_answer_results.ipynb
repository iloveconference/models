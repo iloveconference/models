{
 "cells": [
  {
   "cell_type": "code",
   "execution_count": null,
   "metadata": {},
   "outputs": [],
   "source": [
    "%load_ext autoreload\n",
    "%autoreload 2"
   ]
  },
  {
   "cell_type": "code",
   "execution_count": null,
   "metadata": {},
   "outputs": [],
   "source": [
    "import csv\n",
    "import requests\n",
    "import time\n",
    "import os\n",
    "import json\n",
    "\n",
    "from tqdm import tqdm"
   ]
  },
  {
   "cell_type": "code",
   "execution_count": null,
   "metadata": {},
   "outputs": [],
   "source": [
    "# configure\n",
    "file_path = '../references/questions.txt'\n",
    "output_path = '../data/exports'\n",
    "delay_seconds = 5\n",
    "\n",
    "if not os.path.exists(output_path):\n",
    "    os.makedirs(output_path)"
   ]
  },
  {
   "cell_type": "code",
   "execution_count": null,
   "metadata": {},
   "outputs": [],
   "source": [
    "list_of_questions = []\n",
    "\n",
    "with open(file_path, 'rt') as txt_file:\n",
    "  for text in txt_file:\n",
    "    text = text.strip()\n",
    "    if text != '':\n",
    "        list_of_questions.append(text)"
   ]
  },
  {
   "cell_type": "code",
   "execution_count": null,
   "metadata": {},
   "outputs": [],
   "source": [
    "file_data = {}\n",
    "file_extra = {}\n",
    "\n",
    "for question in tqdm(list_of_questions):\n",
    "    list_data = []\n",
    "    list_data_extra = []\n",
    "    time.sleep(delay_seconds)\n",
    "    response = requests.get('https://scripturecentralqa.org/api/search', params={'q': question})\n",
    "    if response.status_code != 200:\n",
    "        print(f\"ERROR on query {question}: status_code {response.status_code}\")\n",
    "        continue\n",
    "    try:\n",
    "        res = response.content.decode('utf-8')\n",
    "        result_data = json.loads(res)\n",
    "    except Exception as e:\n",
    "        print(f\"ERROR on query {question} parsing response {res}\")\n",
    "        continue\n",
    "\n",
    "    time.sleep(delay_seconds)\n",
    "    gpt_response = requests.get('https://scripturecentralqa.org/api/search', params={'q': question, 'query_type': 'norag'})\n",
    "    if gpt_response.status_code != 200:\n",
    "        print(f\"ERROR on query {question}: status_code {gpt_response.status_code}\")\n",
    "        continue\n",
    "    try:\n",
    "        res = gpt_response.content.decode('utf-8')\n",
    "        gpt_result = json.loads(res)\n",
    "    except Exception as e:\n",
    "        print(f\"ERROR on gpt query {question} parsing response {res}\")\n",
    "        continue\n",
    "\n",
    "    for item in result_data['results']:\n",
    "        result_temp = json.dumps(item)\n",
    "        list_data.append(result_temp)\n",
    "        if len(list_data) > 4:\n",
    "            break\n",
    "\n",
    "    for item in result_data['results']:\n",
    "        result_temp = json.dumps(item)\n",
    "        list_data_extra.append(result_temp)\n",
    "        if len(list_data_extra) > 19:\n",
    "            break\n",
    "\n",
    "    result_set = '\\n--------\\n'.join(list_data)\n",
    "\n",
    "    file_data[question] = [result_set, result_data['answer'], gpt_result[\"answer\"]]\n",
    "    file_extra[question] = [list_data_extra, result_data['answer']]"
   ]
  },
  {
   "cell_type": "code",
   "execution_count": null,
   "metadata": {},
   "outputs": [],
   "source": [
    "with open(output_path + '/question-answers.csv', 'w') as csvfile:\n",
    "    writer = csv.writer(csvfile)\n",
    "    writer.writerow(['Question', 'Results', 'Answer', 'ChatGPT Answer'])  # header row\n",
    "    for key,value in file_data.items():\n",
    "        # for each question, the file should contain a line like this:\n",
    "        writer.writerow([key, value[0], value[1], value[2]])"
   ]
  },
  {
   "cell_type": "code",
   "execution_count": null,
   "metadata": {},
   "outputs": [],
   "source": [
    "with open(output_path + '/rank-question-answers.csv', 'w') as csvfile:\n",
    "    writer = csv.writer(csvfile)\n",
    "    writer.writerow(['Question', 'ResultRank', 'ResultURL', 'ResultTitle', 'ResultText'])  # header row\n",
    "    for key,value in file_extra.items():\n",
    "        for val in value[0]:\n",
    "            value_res = json.loads(val)\n",
    "            # for each question, the file should contain a line like this:\n",
    "            writer.writerow([key, value_res[\"index\"], value_res[\"url\"], value_res[\"title\"], value_res[\"text\"]])\n",
    "\n",
    "print('End')"
   ]
  },
  {
   "cell_type": "code",
   "execution_count": null,
   "metadata": {},
   "outputs": [],
   "source": []
  }
 ],
 "metadata": {
  "kernelspec": {
   "display_name": "Python 3 (ipykernel)",
   "language": "python",
   "name": "python3"
  },
  "language_info": {
   "codemirror_mode": {
    "name": "ipython",
    "version": 3
   },
   "file_extension": ".py",
   "mimetype": "text/x-python",
   "name": "python",
   "nbconvert_exporter": "python",
   "pygments_lexer": "ipython3",
   "version": "3.10.0"
  }
 },
 "nbformat": 4,
 "nbformat_minor": 4
}
