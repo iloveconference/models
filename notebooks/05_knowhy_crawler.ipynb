{
 "cells": [
  {
   "cell_type": "markdown",
   "id": "936d02dd",
   "metadata": {},
   "source": [
    "# Crawl KnoWhys talks from the Church of Jesus Christ of Latter-day Saints"
   ]
  },
  {
   "cell_type": "code",
   "execution_count": 1,
   "id": "7fe5bf12",
   "metadata": {},
   "outputs": [],
   "source": [
    "%load_ext autoreload\n",
    "%autoreload 2"
   ]
  },
  {
   "cell_type": "code",
   "execution_count": 2,
   "id": "4bca89a2",
   "metadata": {},
   "outputs": [],
   "source": [
    "import os\n",
    "from urllib.parse import urljoin, urlparse\n",
    "\n",
    "from bs4 import BeautifulSoup\n",
    "\n",
    "from models.crawl_utils import get_page, save_page"
   ]
  },
  {
   "cell_type": "code",
   "execution_count": 3,
   "id": "e753397e",
   "metadata": {},
   "outputs": [],
   "source": [
    "# config\n",
    "host = 'https://knowhy.bookofmormoncentral.org/reference-knowhy'\n",
    "base_dir = '../data/load/raw/knowhys'\n",
    "bs_parser = 'html.parser'\n",
    "delay_seconds = 30"
   ]
  },
  {
   "cell_type": "code",
   "execution_count": 4,
   "id": "267d2e05",
   "metadata": {},
   "outputs": [],
   "source": [
    "def extract_hrefs_from_views_field_title(html):\n",
    "    hrefs = []\n",
    "\n",
    "    # Parse the HTML content using BeautifulSoup\n",
    "    soup = BeautifulSoup(html, 'html.parser')\n",
    "\n",
    "    # Find all div tags with the class 'views-field-title'\n",
    "    divs_with_class = soup.find_all('div', class_='views-field-title')\n",
    "\n",
    "    for div in divs_with_class:\n",
    "        # Find all anchor tags within the div\n",
    "        anchor_tags = div.find_all('a')\n",
    "\n",
    "        # Extract href attribute from each anchor tag and append to the list\n",
    "        for anchor in anchor_tags:\n",
    "            href = anchor.get('href')\n",
    "            if href:\n",
    "                hrefs.append(urljoin(host, href))\n",
    "\n",
    "    return hrefs"
   ]
  },
  {
   "cell_type": "code",
   "execution_count": 5,
   "id": "8861659b-9805-45a3-a931-cfb74a293949",
   "metadata": {},
   "outputs": [],
   "source": [
    "def get_path(url):\n",
    "    path_components = urlparse(url).path.split('/')\n",
    "    return os.path.join(base_dir, f\"{path_components[-1]}.json\")\n",
    "    "
   ]
  },
  {
   "cell_type": "code",
   "execution_count": 6,
   "id": "e2d33629-31c0-4968-8346-db60b0549e58",
   "metadata": {},
   "outputs": [
    {
     "name": "stdout",
     "output_type": "stream",
     "text": [
      "0\n",
      "1\n",
      "2\n",
      "3\n",
      "4\n",
      "5\n",
      "6\n",
      "7\n",
      "8\n",
      "9\n",
      "10\n",
      "11\n",
      "12\n",
      "13\n",
      "14\n",
      "15\n",
      "16\n",
      "17\n",
      "18\n",
      "19\n",
      "20\n",
      "21\n",
      "22\n",
      "23\n",
      "24\n"
     ]
    }
   ],
   "source": [
    "knowhy_links = []\n",
    "\n",
    "page_counter = 0\n",
    "while True:\n",
    "    print(page_counter)\n",
    "    status_code, html = get_page(\"https://knowhy.bookofmormoncentral.org/reference-knowhy?page=\"+str(page_counter), delay_seconds)\n",
    "    if status_code != 200:\n",
    "        print(\"Error!\", status_code, page_counter)\n",
    "        continue\n",
    "    hrefs = extract_hrefs_from_views_field_title(html)\n",
    "    if len(hrefs) == 0:\n",
    "        break\n",
    "    else:\n",
    "        knowhy_links.extend(hrefs)\n",
    "        page_counter += 1"
   ]
  },
  {
   "cell_type": "code",
   "execution_count": 7,
   "id": "fa244c64-5d40-4d93-ac95-e5fce805b9fd",
   "metadata": {},
   "outputs": [
    {
     "name": "stdout",
     "output_type": "stream",
     "text": [
      "../data/load/raw/knowhys/what-does-the-new-testament-teach-about-the-great-apostasy.json\n",
      "../data/load/raw/knowhys/why-does-paul-quote-from-an-early-christian-hymn.json\n",
      "../data/load/raw/knowhys/how-often-do-the-articles-of-faith-track-sayings-of-paul.json\n",
      "../data/load/raw/knowhys/what-is-an-evangelist.json\n",
      "../data/load/raw/knowhys/why-is-grace-important-in-a-covenantal-community.json\n",
      "../data/load/raw/knowhys/how-are-faithfulness-and-grace-connected-to-the-right-hand-of-fellowship.json\n",
      "../data/load/raw/knowhys/what-did-early-christians-teach-about-the-three-degrees-of-glory.json\n",
      "../data/load/raw/knowhys/how-does-paul-use-chiasmus-to-teach-about-jesuss-atonement.json\n",
      "../data/load/raw/knowhys/why-are-people-baptized-for-the-dead.json\n",
      "../data/load/raw/knowhys/why-are-we-invited-to-partake-of-the-sacrament-with-our-right-hand.json\n",
      "../data/load/raw/knowhys/what-did-paul-really-teach-about-marriage.json\n",
      "../data/load/raw/knowhys/how-did-paul-understand-faith.json\n",
      "../data/load/raw/knowhys/what-did-grace-mean-to-paul.json\n",
      "../data/load/raw/knowhys/why-are-there-different-accounts-of-pauls-conversion.json\n",
      "../data/load/raw/knowhys/how-did-paul-interact-with-greek-philosophies-in-athens.json\n",
      "../data/load/raw/knowhys/why-was-the-jerusalem-council-important.json\n",
      "../data/load/raw/knowhys/why-did-stephen-rehearse-israelite-history.json\n",
      "../data/load/raw/knowhys/what-might-jesus-have-taught-his-apostles-for-forty-days.json\n",
      "../data/load/raw/knowhys/why-did-christ-appear-to-two-disciples-on-the-road-to-emmaus.json\n",
      "../data/load/raw/knowhys/why-was-jesus-put-on-trial-and-crucified.json\n",
      "../data/load/raw/knowhys/how-does-the-gospel-of-john-reflect-the-day-of-atonement.json\n",
      "../data/load/raw/knowhys/how-does-jesuss-intercessory-prayer-point-us-to-the-temple.json\n",
      "../data/load/raw/knowhys/why-did-peter-deny-knowing-jesus.json\n",
      "../data/load/raw/knowhys/how-does-the-parable-of-the-ten-virgins-offer-us-direction-in-life.json\n",
      "../data/load/raw/knowhys/how-does-the-parable-of-the-willing-and-unwilling-sons-teach-about-christ.json\n",
      "../data/load/raw/knowhys/what-does-the-parable-of-the-laborers-in-the-vineyard-teach-about-gods-mercy.json\n",
      "../data/load/raw/knowhys/how-does-the-parable-of-the-prodigal-son-teach-us-about-repentance.json\n",
      "../data/load/raw/knowhys/how-does-john-portray-jesus-as-the-way-of-the-temple.json\n",
      "../data/load/raw/knowhys/how-does-the-parable-of-the-good-samaritan-teach-us-about-the-plan-of-salvation.json\n",
      "../data/load/raw/knowhys/why-did-john-state-that-the-beasts-number-is-666.json\n",
      "../data/load/raw/knowhys/why-are-the-gospel-accounts-of-the-resurrection-credible.json\n",
      "../data/load/raw/knowhys/why-did-jesus-use-passover-imagery-in-his-bread-of-life-sermon.json\n",
      "../data/load/raw/knowhys/how-does-the-parable-of-the-sower-help-us-understand-lehis-vision-of-the-tree-of-life.json\n",
      "../data/load/raw/knowhys/what-do-the-parables-of-the-importuning-friend-and-widow-teach-us-about-prayer.json\n",
      "../data/load/raw/knowhys/why-are-there-hebraisms-in-the-book-of-mormon.json\n",
      "../data/load/raw/knowhys/what-does-the-parable-of-the-wheat-and-tares-teach-about-the-apostasy.json\n",
      "../data/load/raw/knowhys/how-can-we-build-our-foundations-on-a-rock.json\n",
      "../data/load/raw/knowhys/how-can-jesus-provide-to-all-people-the-waters-of-life.json\n",
      "../data/load/raw/knowhys/why-did-jesus-compare-himself-to-the-brazen-serpent.json\n",
      "../data/load/raw/knowhys/why-does-jesus-announce-that-isaiah-611-2-is-fulfilled.json\n",
      "../data/load/raw/knowhys/why-was-jesus-proclaimed-the-son-of-god-at-his-baptism.json\n",
      "../data/load/raw/knowhys/why-do-we-have-multiple-accounts-of-jesuss-birth.json\n",
      "../data/load/raw/knowhys/why-does-malachi-refer-to-the-sun-of-righteousness.json\n",
      "../data/load/raw/knowhys/what-is-the-sign-of-jonah.json\n",
      "../data/load/raw/knowhys/why-did-moroni-quote-from-the-book-of-joel.json\n",
      "../data/load/raw/knowhys/how-did-jeremiahs-and-lehis-ministries-reflect-one-another.json\n",
      "../data/load/raw/knowhys/when-lehis-party-arrived-in-the-land-did-they-find-horses-there.json\n",
      "../data/load/raw/knowhys/why-did-isaiah-prophesy-of-a-suffering-messiah.json\n",
      "../data/load/raw/knowhys/how-did-isaiah-prophesy-of-the-savior.json\n",
      "../data/load/raw/knowhys/were-there-fiery-flying-serpents-along-lehis-trail.json\n",
      "../data/load/raw/knowhys/why-did-isaiah-refer-to-the-heavenly-hosts-as-seraphim.json\n",
      "../data/load/raw/knowhys/what-does-it-mean-to-apply-your-heart-to-understanding.json\n",
      "../data/load/raw/knowhys/how-does-the-joseph-smith-translation-teach-us-about-melchizedek.json\n",
      "../data/load/raw/knowhys/why-does-the-psalmist-speak-about-grasping-gods-hand.json\n",
      "../data/load/raw/knowhys/does-psalm-22-really-say-they-pierced-my-hands-and-my-feet.json\n",
      "../data/load/raw/knowhys/how-can-the-book-of-job-teach-us-about-the-temple.json\n",
      "../data/load/raw/knowhys/why-were-women-important-in-ancient-israel.json\n",
      "../data/load/raw/knowhys/why-did-ancient-israelites-lift-their-hands-in-praise.json\n",
      "../data/load/raw/knowhys/why-did-the-lord-allow-jerusalem-to-be-destroyed.json\n",
      "../data/load/raw/knowhys/why-did-ancient-prophets-follow-literary-patterns.json\n",
      "../data/load/raw/knowhys/how-does-the-book-of-mormon-text-reflect-a-seventh-century-bc-israelite-writing-style.json\n",
      "../data/load/raw/knowhys/who-wrote-the-peace-maker-pamphlet.json\n",
      "../data/load/raw/knowhys/why-were-violent-acts-like-the-mountain-meadows-massacre-committed-by-latter-day-saints.json\n",
      "../data/load/raw/knowhys/did-joseph-smith-attempt-to-assassinate-missouri-governor-lilburn-boggs.json\n",
      "../data/load/raw/knowhys/why-were-particular-plagues-sent-against-egypt.json\n",
      "../data/load/raw/knowhys/why-did-abraham-and-sarah-receive-new-names-and-tokens.json\n",
      "../data/load/raw/knowhys/why-is-the-story-of-noah-and-the-ark-so-repetitive.json\n",
      "../data/load/raw/knowhys/why-did-joseph-smith-produce-a-new-translation-of-the-bible.json\n",
      "../data/load/raw/knowhys/why-were-man-and-woman-created-in-the-image-of-god.json\n",
      "../data/load/raw/knowhys/why-did-the-nauvoo-city-council-order-the-destruction-of-the-nauvoo-expositor-press.json\n",
      "../data/load/raw/knowhys/why-did-emma-smith-remain-in-nauvoo-after-the-death-of-joseph-smith.json\n",
      "../data/load/raw/knowhys/why-was-joseph-smith-murdered.json\n",
      "../data/load/raw/knowhys/why-did-joseph-smith-file-for-bankruptcy.json\n",
      "../data/load/raw/knowhys/why-was-the-nauvoo-city-charter-important-for-protecting-the-saints.json\n",
      "../data/load/raw/knowhys/why-did-joseph-write-his-famous-letter-from-liberty-jail.json\n",
      "../data/load/raw/knowhys/why-were-the-saints-driven-from-missouri-in-the-fall-of-1838.json\n",
      "../data/load/raw/knowhys/why-is-the-pentecostal-season-in-kirtland-believable.json\n",
      "../data/load/raw/knowhys/why-was-doctrine-and-covenants-section-88-quoted-in-section-109.json\n",
      "../data/load/raw/knowhys/why-must-there-be-unity-within-the-presiding-quorums-of-the-church.json\n",
      "../data/load/raw/knowhys/why-did-joseph-smith-file-a-legal-complaint-against-doctor-philastus-hurlbut.json\n",
      "../data/load/raw/knowhys/what-are-the-just-and-holy-principles-of-the-us-constitution.json\n",
      "../data/load/raw/knowhys/why-was-hyrum-faithful-to-his-witness-of-the-book-of-mormon.json\n",
      "../data/load/raw/knowhys/why-study-ancient-apocryphal-literature.json\n",
      "../data/load/raw/knowhys/why-did-rebecca-swain-williams-defend-the-book-of-mormon.json\n",
      "../data/load/raw/knowhys/why-did-william-e-mclellin-call-the-book-of-mormon-the-apple-of-my-eye.json\n",
      "../data/load/raw/knowhys/why-is-doctrine-and-covenants-65-called-a-revelation-on-prayer.json\n",
      "../data/load/raw/knowhys/why-did-david-whitmer-never-return-to-the-church.json\n",
      "../data/load/raw/knowhys/why-was-david-whitmer-excommunicated-from-the-church.json\n",
      "../data/load/raw/knowhys/why-did-martin-harris-come-back-to-the-church.json\n",
      "../data/load/raw/knowhys/why-was-martin-harris-cut-off-from-the-church.json\n",
      "../data/load/raw/knowhys/why-did-oliver-cowdery-come-back-to-the-church.json\n"
     ]
    },
    {
     "ename": "KeyboardInterrupt",
     "evalue": "",
     "output_type": "error",
     "traceback": [
      "\u001b[0;31m---------------------------------------------------------------------------\u001b[0m",
      "\u001b[0;31mKeyboardInterrupt\u001b[0m                         Traceback (most recent call last)",
      "\u001b[1;32m/home/jigga/models/notebooks/05_knowhy_crawler.ipynb Cell 8\u001b[0m line \u001b[0;36m6\n\u001b[1;32m      <a href='vscode-notebook-cell:/home/jigga/models/notebooks/05_knowhy_crawler.ipynb#X10sZmlsZQ%3D%3D?line=3'>4</a>\u001b[0m \u001b[39mif\u001b[39;00m os\u001b[39m.\u001b[39mpath\u001b[39m.\u001b[39mexists(path_file):\n\u001b[1;32m      <a href='vscode-notebook-cell:/home/jigga/models/notebooks/05_knowhy_crawler.ipynb#X10sZmlsZQ%3D%3D?line=4'>5</a>\u001b[0m     \u001b[39mcontinue\u001b[39;00m\n\u001b[0;32m----> <a href='vscode-notebook-cell:/home/jigga/models/notebooks/05_knowhy_crawler.ipynb#X10sZmlsZQ%3D%3D?line=5'>6</a>\u001b[0m status_code, html \u001b[39m=\u001b[39m get_page(url, delay_seconds)\n\u001b[1;32m      <a href='vscode-notebook-cell:/home/jigga/models/notebooks/05_knowhy_crawler.ipynb#X10sZmlsZQ%3D%3D?line=6'>7</a>\u001b[0m \u001b[39mif\u001b[39;00m status_code \u001b[39m!=\u001b[39m \u001b[39m200\u001b[39m:\n\u001b[1;32m      <a href='vscode-notebook-cell:/home/jigga/models/notebooks/05_knowhy_crawler.ipynb#X10sZmlsZQ%3D%3D?line=7'>8</a>\u001b[0m     \u001b[39mprint\u001b[39m(\u001b[39m\"\u001b[39m\u001b[39mError!\u001b[39m\u001b[39m\"\u001b[39m, status_code , url)\n",
      "File \u001b[0;32m~/models/models/crawl_utils.py:34\u001b[0m, in \u001b[0;36mget_page\u001b[0;34m(url, delay_seconds, headers, encoding, timeout)\u001b[0m\n\u001b[1;32m     19\u001b[0m     headers \u001b[39m=\u001b[39m {\n\u001b[1;32m     20\u001b[0m         \u001b[39m\"\u001b[39m\u001b[39mAccept\u001b[39m\u001b[39m\"\u001b[39m: \u001b[39m\"\u001b[39m\u001b[39mtext/html,application/xhtml+xml,application/xml;q=0.9,image/avif,image/webp,image/apng,*/*;q=0.8,application/signed-exchange;v=b3;q=0.9\u001b[39m\u001b[39m\"\u001b[39m,  \u001b[39m# noqa: B950\u001b[39;00m\n\u001b[1;32m     21\u001b[0m         \u001b[39m\"\u001b[39m\u001b[39mAccept-Encoding\u001b[39m\u001b[39m\"\u001b[39m: \u001b[39m\"\u001b[39m\u001b[39mgzip, deflate, br\u001b[39m\u001b[39m\"\u001b[39m,\n\u001b[0;32m   (...)\u001b[0m\n\u001b[1;32m     31\u001b[0m         \u001b[39m\"\u001b[39m\u001b[39mUser-Agent\u001b[39m\u001b[39m\"\u001b[39m: \u001b[39m\"\u001b[39m\u001b[39mMozilla/5.0 (X11; Linux x86_64) AppleWebKit/537.36 (KHTML, like Gecko) Chrome/105.0.0.0 Safari/537.36\u001b[39m\u001b[39m\"\u001b[39m,  \u001b[39m# noqa: B950\u001b[39;00m\n\u001b[1;32m     32\u001b[0m     }\n\u001b[1;32m     33\u001b[0m response \u001b[39m=\u001b[39m requests\u001b[39m.\u001b[39mget(url, headers\u001b[39m=\u001b[39mheaders, timeout\u001b[39m=\u001b[39mtimeout)\n\u001b[0;32m---> 34\u001b[0m time\u001b[39m.\u001b[39;49msleep(delay_seconds)\n\u001b[1;32m     35\u001b[0m \u001b[39mif\u001b[39;00m encoding:\n\u001b[1;32m     36\u001b[0m     response\u001b[39m.\u001b[39mencoding \u001b[39m=\u001b[39m encoding\n",
      "\u001b[0;31mKeyboardInterrupt\u001b[0m: "
     ]
    }
   ],
   "source": [
    "for url in knowhy_links:\n",
    "    path_file =  get_path(url)\n",
    "    print(path_file)\n",
    "    if os.path.exists(path_file):\n",
    "        continue\n",
    "    status_code, html = get_page(url, delay_seconds)\n",
    "    if status_code != 200:\n",
    "        print(\"Error!\", status_code , url)\n",
    "        continue\n",
    "    save_page(path_file,url,html)\n",
    "    \n",
    "print(\"End\")"
   ]
  }
 ],
 "metadata": {
  "kernelspec": {
   "display_name": "models",
   "language": "python",
   "name": "models"
  },
  "language_info": {
   "codemirror_mode": {
    "name": "ipython",
    "version": 3
   },
   "file_extension": ".py",
   "mimetype": "text/x-python",
   "name": "python",
   "nbconvert_exporter": "python",
   "pygments_lexer": "ipython3",
   "version": "3.10.0"
  }
 },
 "nbformat": 4,
 "nbformat_minor": 5
}
