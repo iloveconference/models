{
 "cells": [
  {
   "cell_type": "markdown",
   "id": "936d02dd",
   "metadata": {},
   "source": [
    "# Crawl KnoWhys talks from the Church of Jesus Christ of Latter-day Saints"
   ]
  },
  {
   "cell_type": "code",
   "execution_count": null,
   "id": "7fe5bf12",
   "metadata": {},
   "outputs": [],
   "source": [
    "%load_ext autoreload\n",
    "%autoreload 2"
   ]
  },
  {
   "cell_type": "code",
   "execution_count": null,
   "id": "4bca89a2",
   "metadata": {},
   "outputs": [],
   "source": [
    "import os\n",
    "from urllib.parse import urljoin, urlparse\n",
    "\n",
    "from bs4 import BeautifulSoup\n",
    "\n",
    "from models.crawl_utils import get_page, save_page"
   ]
  },
  {
   "cell_type": "code",
   "execution_count": null,
   "id": "e753397e",
   "metadata": {},
   "outputs": [],
   "source": [
    "# config\n",
    "host = 'https://knowhy.bookofmormoncentral.org/reference-knowhy'\n",
    "base_dir = '../data/raw/knowhys'\n",
    "bs_parser = 'html.parser'\n",
    "delay_seconds = 5"
   ]
  },
  {
   "cell_type": "code",
   "execution_count": null,
   "id": "267d2e05",
   "metadata": {},
   "outputs": [],
   "source": [
    "def extract_hrefs_from_views_field_title(html):\n",
    "    hrefs = []\n",
    "\n",
    "    # Parse the HTML content using BeautifulSoup\n",
    "    soup = BeautifulSoup(html, 'html.parser')\n",
    "\n",
    "    # Find all div tags with the class 'views-field-title'\n",
    "    divs_with_class = soup.find_all('div', class_='views-field-title')\n",
    "\n",
    "    for div in divs_with_class:\n",
    "        # Find all anchor tags within the div\n",
    "        anchor_tags = div.find_all('a')\n",
    "\n",
    "        # Extract href attribute from each anchor tag and append to the list\n",
    "        for anchor in anchor_tags:\n",
    "            href = anchor.get('href')\n",
    "            if href:\n",
    "                hrefs.append(urljoin(host, href))\n",
    "\n",
    "    return hrefs"
   ]
  },
  {
   "cell_type": "code",
   "execution_count": null,
   "id": "8861659b-9805-45a3-a931-cfb74a293949",
   "metadata": {},
   "outputs": [],
   "source": [
    "def get_path(url):\n",
    "    path_components = urlparse(url).path.split('/')\n",
    "    return os.path.join(base_dir, f\"{path_components[-1]}.json\")\n",
    "    "
   ]
  },
  {
   "cell_type": "code",
   "execution_count": null,
   "id": "e2d33629-31c0-4968-8346-db60b0549e58",
   "metadata": {},
   "outputs": [],
   "source": [
    "knowhy_links = []\n",
    "\n",
    "page_counter = 0\n",
    "while True:\n",
    "    print(page_counter)\n",
    "    status_code, html = get_page(\"https://knowhy.bookofmormoncentral.org/reference-knowhy?page=\"+str(page_counter), delay_seconds)\n",
    "    if status_code != 200:\n",
    "        print(\"Error!\", status_code, page_counter)\n",
    "        continue\n",
    "    hrefs = extract_hrefs_from_views_field_title(html)\n",
    "    if len(hrefs) == 0:\n",
    "        break\n",
    "    else:\n",
    "        knowhy_links.extend(hrefs)\n",
    "        page_counter += 1"
   ]
  },
  {
   "cell_type": "code",
   "execution_count": null,
   "id": "fa244c64-5d40-4d93-ac95-e5fce805b9fd",
   "metadata": {},
   "outputs": [],
   "source": [
    "for url in knowhy_links:\n",
    "    path_file =  get_path(url)\n",
    "    print(path_file)\n",
    "    if os.path.exists(path_file):\n",
    "        continue\n",
    "    status_code, html = get_page(url, delay_seconds)\n",
    "    if status_code != 200:\n",
    "        print(\"Error!\", status_code , url)\n",
    "        continue\n",
    "    save_page(path_file,url,html)\n",
    "    \n",
    "print(\"End\")"
   ]
  },
  {
   "cell_type": "code",
   "execution_count": null,
   "id": "16f4919c-b974-461a-9a82-bd5f7f71d667",
   "metadata": {},
   "outputs": [],
   "source": []
  }
 ],
 "metadata": {
  "kernelspec": {
   "display_name": "Python 3 (ipykernel)",
   "language": "python",
   "name": "python3"
  },
  "language_info": {
   "codemirror_mode": {
    "name": "ipython",
    "version": 3
   },
   "file_extension": ".py",
   "mimetype": "text/x-python",
   "name": "python",
   "nbconvert_exporter": "python",
   "pygments_lexer": "ipython3",
   "version": "3.11.5"
  }
 },
 "nbformat": 4,
 "nbformat_minor": 5
}
