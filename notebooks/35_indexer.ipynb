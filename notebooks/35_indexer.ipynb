{
 "cells": [
  {
   "cell_type": "markdown",
   "metadata": {},
   "source": [
    "# Index segments"
   ]
  },
  {
   "cell_type": "code",
   "execution_count": null,
   "metadata": {},
   "outputs": [],
   "source": [
    "%load_ext autoreload\n",
    "%autoreload 2\n",
    "%load_ext dotenv\n",
    "%dotenv"
   ]
  },
  {
   "cell_type": "code",
   "execution_count": null,
   "metadata": {},
   "outputs": [],
   "source": [
    "from datetime import datetime\n",
    "import os\n",
    "\n",
    "from langchain.embeddings.openai import OpenAIEmbeddings\n",
    "from langchain.vectorstores import Pinecone\n",
    "import pinecone\n",
    "\n",
    "from models.load_utils import load_docs_from_jsonl\n",
    "from models.index_utils import embed_documents, get_doc_id, index_documents, VoyageAIEmbedder"
   ]
  },
  {
   "cell_type": "code",
   "execution_count": null,
   "metadata": {},
   "outputs": [],
   "source": [
    "# configure\n",
    "split_paths = [\n",
    "    \"../data/split/bgbmm/2023-12-19.jsonl\",\n",
    "    \"../data/split/conference/2023-12-19.jsonl\",\n",
    "    \"../data/split/dc_historical_context/2023-12-19.jsonl\",\n",
    "    \"../data/split/dc_people/2023-12-19.jsonl\",\n",
    "    \"../data/split/dc_places/2023-12-19.jsonl\",\n",
    "    \"../data/split/dc_podcasts/2023-12-19.jsonl\",\n",
    "    \"../data/split/dc_verse_level/2023-12-19.jsonl\",\n",
    "    \"../data/split/encyclopedia/2023-12-19.jsonl\",\n",
    "    \"../data/split/evidence_central/2023-12-19.jsonl\",\n",
    "    \"../data/split/fair/2023-12-19.jsonl\",\n",
    "    \"../data/split/knowhys/2023-12-19.jsonl\",\n",
    "    \"../data/split/pdfs/2023-12-19.jsonl\",\n",
    "    \"../data/split/pearl_of_great_price/2023-12-19.jsonl\",\n",
    "    \"../data/split/redeemer_of_israel/2023-12-19.jsonl\",\n",
    "    \"../data/split/tnt/2023-12-19.jsonl\",\n",
    "]\n",
    "index_name = \"scqa\"\n",
    "batch_size = 80\n",
    "delay = 0.2\n",
    "text_field = \"text\"\n",
    "\n",
    "today = datetime.today().strftime('%Y-%m-%d')\n",
    "ids_path = f\"../data/exports/indexed-ids-{today}.txt\"\n",
    "\n",
    "embedding_model, embedding_len, embedding_metric = (\"text-embedding-ada-002\", 1536, \"cosine\")\n",
    "# embedding_model, embedding_len, embedding_metric = [\"voyage-01\", 1024, \"cosine\"]"
   ]
  },
  {
   "cell_type": "markdown",
   "metadata": {},
   "source": [
    "## Initialize embedder"
   ]
  },
  {
   "cell_type": "code",
   "execution_count": null,
   "metadata": {},
   "outputs": [],
   "source": [
    "embedder = OpenAIEmbeddings(\n",
    "    model=embedding_model,\n",
    "    openai_api_key=os.environ['OPENAI_API_KEY'],\n",
    ")\n",
    "# embedder = VoyageAIEmbedder(\n",
    "#     model=embedding_model\n",
    "# )"
   ]
  },
  {
   "cell_type": "markdown",
   "metadata": {},
   "source": [
    "## Initialize vector store"
   ]
  },
  {
   "cell_type": "code",
   "execution_count": null,
   "metadata": {},
   "outputs": [],
   "source": [
    "pinecone.init(\n",
    "    api_key=os.environ['PINECONE_API_KEY'],\n",
    "    environment=os.environ['PINECONE_ENV'],\n",
    ")"
   ]
  },
  {
   "cell_type": "code",
   "execution_count": null,
   "metadata": {},
   "outputs": [],
   "source": [
    "# pinecone.delete_index(index_name)\n",
    "# pinecone.list_indexes()"
   ]
  },
  {
   "cell_type": "code",
   "execution_count": null,
   "metadata": {},
   "outputs": [],
   "source": [
    "# First, check if our index already exists. If it doesn't, we create it\n",
    "if index_name not in pinecone.list_indexes():\n",
    "    # we create a new index\n",
    "    print('Creating index')\n",
    "    pinecone.create_index(\n",
    "        name=index_name,\n",
    "        metric=embedding_metric,\n",
    "        dimension=embedding_len\n",
    "    )\n",
    "\n",
    "index = pinecone.Index(index_name)"
   ]
  },
  {
   "cell_type": "code",
   "execution_count": null,
   "metadata": {},
   "outputs": [],
   "source": [
    "index_stats = index.describe_index_stats()\n",
    "total_vector_count = index_stats[\"total_vector_count\"]\n",
    "index_stats"
   ]
  },
  {
   "cell_type": "markdown",
   "metadata": {},
   "source": [
    "## Index splits"
   ]
  },
  {
   "cell_type": "code",
   "execution_count": null,
   "metadata": {},
   "outputs": [],
   "source": [
    "ids = set()\n",
    "for split_path in split_paths:\n",
    "    docs = load_docs_from_jsonl(split_path)\n",
    "    print(split_path, len(docs))\n",
    "    embeddings = embed_documents(embedder, docs, batch_size=batch_size, delay=delay)\n",
    "    print('  embeddings', len(embeddings))\n",
    "    index_documents(index, embeddings, docs, batch_size)\n",
    "    for doc in docs:\n",
    "        ids.add(get_doc_id(doc))"
   ]
  },
  {
   "cell_type": "code",
   "execution_count": null,
   "metadata": {},
   "outputs": [],
   "source": [
    "len(ids)"
   ]
  },
  {
   "cell_type": "markdown",
   "metadata": {},
   "source": [
    "## Save ids"
   ]
  },
  {
   "cell_type": "code",
   "execution_count": null,
   "metadata": {},
   "outputs": [],
   "source": [
    "with open(ids_path, \"w\") as f:\n",
    "    for _id in ids:\n",
    "        f.write(f\"{_id}\\n\")"
   ]
  },
  {
   "cell_type": "markdown",
   "metadata": {},
   "source": [
    "## Stats"
   ]
  },
  {
   "cell_type": "code",
   "execution_count": null,
   "metadata": {},
   "outputs": [],
   "source": [
    "index_stats = index.describe_index_stats()\n",
    "print(\"added\", index_stats[\"total_vector_count\"] - total_vector_count)\n",
    "index_stats"
   ]
  },
  {
   "cell_type": "markdown",
   "metadata": {},
   "source": [
    "## Test index"
   ]
  },
  {
   "cell_type": "code",
   "execution_count": null,
   "metadata": {},
   "outputs": [],
   "source": [
    "query = \"What do I need to do to qualify to serve a mission?\"\n",
    "\n",
    "vectorstore = Pinecone(index, embedder, text_field)\n",
    "query_result = vectorstore.similarity_search(query, k=10)\n",
    "for ix, result in enumerate(query_result):\n",
    "    print(ix, result.metadata[\"url\"], result.metadata[\"title\"], result.page_content[:80])"
   ]
  },
  {
   "cell_type": "code",
   "execution_count": null,
   "metadata": {},
   "outputs": [],
   "source": []
  }
 ],
 "metadata": {
  "kernelspec": {
   "display_name": "Python 3 (ipykernel)",
   "language": "python",
   "name": "python3"
  },
  "language_info": {
   "codemirror_mode": {
    "name": "ipython",
    "version": 3
   },
   "file_extension": ".py",
   "mimetype": "text/x-python",
   "name": "python",
   "nbconvert_exporter": "python",
   "pygments_lexer": "ipython3",
   "version": "3.10.0"
  }
 },
 "nbformat": 4,
 "nbformat_minor": 4
}
