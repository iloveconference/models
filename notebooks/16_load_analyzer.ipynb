{
 "cells": [
  {
   "cell_type": "markdown",
   "id": "b6aa8dde",
   "metadata": {},
   "source": [
    "# Analyze Documents\n",
    "\n",
    "Analyze loaded documents"
   ]
  },
  {
   "cell_type": "code",
   "execution_count": null,
   "id": "f61d4f41",
   "metadata": {},
   "outputs": [],
   "source": [
    "%load_ext autoreload\n",
    "%autoreload 2"
   ]
  },
  {
   "cell_type": "code",
   "execution_count": null,
   "id": "588c89bf",
   "metadata": {},
   "outputs": [],
   "source": [
    "import json\n",
    "import os\n",
    "\n",
    "from IPython.display import display, Markdown\n",
    "\n",
    "from models.load_utils import load_docs_from_jsonl"
   ]
  },
  {
   "cell_type": "code",
   "execution_count": null,
   "id": "25bf0ff7",
   "metadata": {},
   "outputs": [],
   "source": [
    "input_dir = '../data/load/output'\n",
    "input_filename = '2023-09-23.jsonl'"
   ]
  },
  {
   "cell_type": "code",
   "execution_count": null,
   "id": "c8526e22",
   "metadata": {},
   "outputs": [],
   "source": [
    "docs = load_docs_from_jsonl(os.path.join(input_dir, input_filename))"
   ]
  },
  {
   "cell_type": "code",
   "execution_count": null,
   "id": "71cf1427",
   "metadata": {},
   "outputs": [],
   "source": [
    "print(docs[0].metadata['title'])\n",
    "print(docs[0].metadata['author'])\n",
    "print(docs[0].metadata['author_role'])\n",
    "display(Markdown(docs[0].page_content))"
   ]
  },
  {
   "cell_type": "code",
   "execution_count": null,
   "id": "0313d460",
   "metadata": {},
   "outputs": [],
   "source": []
  }
 ],
 "metadata": {
  "kernelspec": {
   "display_name": "Python 3 (ipykernel)",
   "language": "python",
   "name": "python3"
  },
  "language_info": {
   "codemirror_mode": {
    "name": "ipython",
    "version": 3
   },
   "file_extension": ".py",
   "mimetype": "text/x-python",
   "name": "python",
   "nbconvert_exporter": "python",
   "pygments_lexer": "ipython3",
   "version": "3.8.5"
  }
 },
 "nbformat": 4,
 "nbformat_minor": 5
}
