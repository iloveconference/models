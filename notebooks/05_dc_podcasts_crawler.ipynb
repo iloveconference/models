{
 "cells": [
  {
   "cell_type": "markdown",
   "metadata": {},
   "source": [
    "# Crawl D&C podcasts from the Church of Jesus Christ of Latter-day Saints"
   ]
  },
  {
   "cell_type": "code",
   "execution_count": null,
   "metadata": {},
   "outputs": [],
   "source": [
    "%load_ext autoreload\n",
    "%autoreload 2"
   ]
  },
  {
   "cell_type": "code",
   "execution_count": null,
   "metadata": {},
   "outputs": [],
   "source": [
    "import os\n",
    "from urllib.parse import urljoin, urlparse\n",
    "\n",
    "from bs4 import BeautifulSoup\n",
    "\n",
    "from models.crawl_utils import get_page, save_page"
   ]
  },
  {
   "cell_type": "code",
   "execution_count": null,
   "metadata": {},
   "outputs": [],
   "source": [
    "# config\n",
    "base = 'https://doctrineandcovenantscentral.org'\n",
    "host = 'https://doctrineandcovenantscentral.org/church-history-matters-podcast/'\n",
    "base_dir = '../data/raw/dc_podcasts'\n",
    "bs_parser = 'html.parser'\n",
    "delay_seconds = 5\n",
    "\n",
    "if not os.path.exists(base_dir):\n",
    "    os.makedirs(base_dir)\n",
    "    "
   ]
  },
  {
   "cell_type": "code",
   "execution_count": null,
   "metadata": {},
   "outputs": [],
   "source": [
    "def extract_series_hrefs(html,base):\n",
    "    hrefs = []\n",
    "\n",
    "    # Parse the HTML content using BeautifulSoup\n",
    "    soup = BeautifulSoup(html, 'html.parser')\n",
    "\n",
    "    # Find all div tags with the class 'views-field-title'\n",
    "    link_tags = soup.find_all('div', {'data-column-clickable': True})\n",
    "\n",
    "    # Extract href attribute from each anchor tag and append to the list\n",
    "    for link in link_tags:\n",
    "        href = link.get('data-column-clickable')\n",
    "        if href:\n",
    "            if href.startswith(base):\n",
    "                path_components = urlparse(href).path.split('/')\n",
    "                # print(path_components)\n",
    "                if len(path_components) == 3:\n",
    "                    if not href in hrefs:\n",
    "                        hrefs.append(href)\n",
    "\n",
    "    return hrefs"
   ]
  },
  {
   "cell_type": "code",
   "execution_count": null,
   "metadata": {},
   "outputs": [],
   "source": [
    "def extract_links(html,base):\n",
    "    hrefs = []\n",
    "\n",
    "    # Parse the HTML content using BeautifulSoup\n",
    "    soup = BeautifulSoup(html, 'html.parser')\n",
    "\n",
    "    # Find all div tags with the class 'views-field-title'\n",
    "    link_tags = soup.find_all('div', {'data-column-clickable': True})\n",
    "\n",
    "    # Extract href attribute from each anchor tag and append to the list\n",
    "    for link in link_tags:\n",
    "        href = link.get('data-column-clickable')\n",
    "        if href:\n",
    "            if href.startswith(base):\n",
    "                hrefs.append(href)\n",
    "                # path_components = urlparse(href).path.split('/')\n",
    "                # print(path_components)\n",
    "                # if len(path_components) == 4:\n",
    "                #    if not href in hrefs:\n",
    "                #        hrefs.append(href)\n",
    "\n",
    "    return hrefs"
   ]
  },
  {
   "cell_type": "code",
   "execution_count": null,
   "metadata": {},
   "outputs": [],
   "source": [
    "def get_path(url):\n",
    "    path_components = urlparse(url).path.split('/')\n",
    "    # print(path_components)\n",
    "    return os.path.join(base_dir, f\"{path_components[-1]}.json\")"
   ]
  },
  {
   "cell_type": "code",
   "execution_count": null,
   "metadata": {},
   "outputs": [],
   "source": [
    "status_code, html = get_page(host, delay_seconds)\n",
    "if status_code != 200:\n",
    "    print(\"Error!\", status_code)\n",
    "series_hrefs = extract_series_hrefs(html,base)\n",
    "print(series_hrefs[:5])\n",
    "len(series_hrefs)"
   ]
  },
  {
   "cell_type": "code",
   "execution_count": null,
   "metadata": {},
   "outputs": [],
   "source": [
    "dc_podcasts_pages = []\n",
    "\n",
    "for series_link in series_hrefs:\n",
    "    status_code, html = get_page(series_link, delay_seconds)\n",
    "    if status_code != 200:\n",
    "        print(\"Error!\", status_code)\n",
    "    episodes_hrefs = extract_links(html,base)\n",
    "    print(series_link, len(episodes_hrefs), episodes_hrefs[:3])\n",
    "    if len(episodes_hrefs) != 0:\n",
    "        dc_podcasts_pages.extend(episodes_hrefs)\n",
    "    \n",
    "print(dc_podcasts_pages[:5])\n",
    "len(dc_podcasts_pages)"
   ]
  },
  {
   "cell_type": "code",
   "execution_count": null,
   "metadata": {},
   "outputs": [],
   "source": [
    "for url in dc_podcasts_pages:\n",
    "    if url.endswith('/'):\n",
    "        url = url[:-1]\n",
    "    path_file =  get_path(url)\n",
    "    print(path_file)\n",
    "    if os.path.exists(path_file):\n",
    "        continue\n",
    "    status_code, html = get_page(url, delay_seconds)\n",
    "    if status_code != 200:\n",
    "        print(\"Error!\", status_code , url)\n",
    "        continue\n",
    "    \n",
    "    save_page(path_file,url,html)\n",
    "    \n",
    "print(\"End\")"
   ]
  },
  {
   "cell_type": "code",
   "execution_count": null,
   "metadata": {},
   "outputs": [],
   "source": []
  }
 ],
 "metadata": {
  "kernelspec": {
   "display_name": "models-5vTMPdpX-py3.10",
   "language": "python",
   "name": "python3"
  },
  "language_info": {
   "codemirror_mode": {
    "name": "ipython",
    "version": 3
   },
   "file_extension": ".py",
   "mimetype": "text/x-python",
   "name": "python",
   "nbconvert_exporter": "python",
   "pygments_lexer": "ipython3",
   "version": "3.10.0"
  }
 },
 "nbformat": 4,
 "nbformat_minor": 4
}
