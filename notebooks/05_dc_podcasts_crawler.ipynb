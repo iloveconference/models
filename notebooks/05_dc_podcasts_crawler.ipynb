{
 "cells": [
  {
   "cell_type": "markdown",
   "metadata": {},
   "source": [
    "# Crawl D&C podcasts from the Church of Jesus Christ of Latter-day Saints"
   ]
  },
  {
   "cell_type": "code",
   "execution_count": 132,
   "metadata": {},
   "outputs": [
    {
     "name": "stdout",
     "output_type": "stream",
     "text": [
      "The autoreload extension is already loaded. To reload it, use:\n",
      "  %reload_ext autoreload\n"
     ]
    }
   ],
   "source": [
    "%load_ext autoreload\n",
    "%autoreload 2"
   ]
  },
  {
   "cell_type": "code",
   "execution_count": 133,
   "metadata": {},
   "outputs": [],
   "source": [
    "import os\n",
    "from urllib.parse import urljoin, urlparse\n",
    "\n",
    "from bs4 import BeautifulSoup\n",
    "\n",
    "from models.crawl_utils import get_page, save_page"
   ]
  },
  {
   "cell_type": "code",
   "execution_count": 134,
   "metadata": {},
   "outputs": [],
   "source": [
    "# config\n",
    "base = 'https://doctrineandcovenantscentral.org'\n",
    "host = 'https://doctrineandcovenantscentral.org/church-history-matters-podcast/'\n",
    "base_dir = '../data/raw/dc_podcasts'\n",
    "bs_parser = 'html.parser'\n",
    "delay_seconds = 30\n",
    "\n",
    "if not os.path.exists(base_dir):\n",
    "    os.makedirs(base_dir)\n",
    "    "
   ]
  },
  {
   "cell_type": "code",
   "execution_count": 135,
   "metadata": {},
   "outputs": [],
   "source": [
    "def extract_hrefs(html,base):\n",
    "    hrefs = []\n",
    "\n",
    "    # Parse the HTML content using BeautifulSoup\n",
    "    soup = BeautifulSoup(html, 'html.parser')\n",
    "\n",
    "    # Find all div tags with the class 'views-field-title'\n",
    "    link_tags = soup.find_all('div', {'data-column-clickable': True})\n",
    "\n",
    "    # Extract href attribute from each anchor tag and append to the list\n",
    "    for link in link_tags:\n",
    "        href = link.get('data-column-clickable')\n",
    "        if href:\n",
    "            if href.startswith(base):\n",
    "                path_components = urlparse(href).path.split('/')\n",
    "                # print(path_components)\n",
    "                if len(path_components) == 3:\n",
    "                    if not href in hrefs:\n",
    "                        hrefs.append(href)\n",
    "\n",
    "    return hrefs"
   ]
  },
  {
   "cell_type": "code",
   "execution_count": 136,
   "metadata": {},
   "outputs": [],
   "source": [
    "def extract_links(html,base):\n",
    "    hrefs = []\n",
    "\n",
    "    # Parse the HTML content using BeautifulSoup\n",
    "    soup = BeautifulSoup(html, 'html.parser')\n",
    "\n",
    "    # Find all div tags with the class 'views-field-title'\n",
    "    link_tags = soup.find_all('div', {'data-column-clickable': True})\n",
    "\n",
    "    # Extract href attribute from each anchor tag and append to the list\n",
    "    for link in link_tags:\n",
    "        href = link.get('data-column-clickable')\n",
    "        if href:\n",
    "            if href.startswith(base):\n",
    "                hrefs.append(href)\n",
    "                # path_components = urlparse(href).path.split('/')\n",
    "                # print(path_components)\n",
    "                # if len(path_components) == 4:\n",
    "                #    if not href in hrefs:\n",
    "                #        hrefs.append(href)\n",
    "\n",
    "    return hrefs"
   ]
  },
  {
   "cell_type": "code",
   "execution_count": 137,
   "metadata": {},
   "outputs": [],
   "source": [
    "def extract_html(html):\n",
    "    hrefs = []\n",
    "    htmls = ''\n",
    "\n",
    "    # Parse the HTML content using BeautifulSoup\n",
    "    soup = BeautifulSoup(html, 'html.parser')\n",
    "\n",
    "    # Find all div tags with the class 'views-field-title'\n",
    "    links = soup.find_all('div', class_ = 'elementor-element-dc21b84')\n",
    "    for item in links:\n",
    "        hrefs.append(item.prettify())\n",
    "    \n",
    "    htmls = ''.join(hrefs)\n",
    "    return htmls"
   ]
  },
  {
   "cell_type": "code",
   "execution_count": 138,
   "metadata": {},
   "outputs": [],
   "source": [
    "def get_path(url):\n",
    "    path_components = urlparse(url).path.split('/')\n",
    "    # print(path_components)\n",
    "    return os.path.join(base_dir, f\"{path_components[-1]}.json\")"
   ]
  },
  {
   "cell_type": "code",
   "execution_count": 139,
   "metadata": {},
   "outputs": [
    {
     "name": "stdout",
     "output_type": "stream",
     "text": [
      "['https://doctrineandcovenantscentral.org/podcast-episode/why-are-there-different-accounts-of-the-first-vision', 'https://doctrineandcovenantscentral.org/podcast-episode/whats-unique-about-joseph-smiths-1835-and-1838-accounts-of-his-first-vision', 'https://doctrineandcovenantscentral.org/podcast-episode/how-did-orson-pratt-influence-joseph-smiths-1842-first-vision-narrative', 'https://doctrineandcovenantscentral.org/podcast-episode/how-do-2nd-and-3rd-hand-accounts-add-to-our-understanding-of-the-first-vision', 'https://doctrineandcovenantscentral.org/podcast-episode/qr-what-about-others-who-claimed-similar-visions-in-joseph-smiths-day-etc', 'https://doctrineandcovenantscentral.org/podcast-episode/joseph-smiths-second-vision-and-the-coming-forth-of-the-book-of-mormon', 'https://doctrineandcovenantscentral.org/podcast-episode/joseph-smiths-creative-efforts-to-outsource-the-book-of-mormon-translation', 'https://doctrineandcovenantscentral.org/podcast-episode/translating-the-book-of-mormon-with-stones-in-a-hat', 'https://doctrineandcovenantscentral.org/podcast-episode/if-not-a-supernatural-translation-then-what-examining-the-other-bm-translation-theories', 'https://doctrineandcovenantscentral.org/podcast-episode/what-is-the-best-external-evidence-for-the-book-of-mormon', 'https://doctrineandcovenantscentral.org/podcast-episode/qr-tackling-tough-book-of-mormon-translation-questions', 'https://doctrineandcovenantscentral.org/podcast-episode/why-did-plural-marriage-begin-in-the-church', 'https://doctrineandcovenantscentral.org/podcast-episode/joseph-smiths-trial-and-error-approach-to-plural-marriage/', 'https://doctrineandcovenantscentral.org/podcast-episode/plural-marriage-troubles-part-1-john-c-bennett-hyrum-smith-emma', 'https://doctrineandcovenantscentral.org/podcast-episode/plural-marriage-troubles-part-2-emmas-fury-and-josephs-martyrdom', 'https://doctrineandcovenantscentral.org/podcast-episode/the-rocky-end-to-plural-marriage-in-the-church', 'https://doctrineandcovenantscentral.org/podcast-episode/qr-tough-polygamy-questions-with-dr-brian-hales', 'https://doctrineandcovenantscentral.org/podcast-episode/the-racist-american-context-the-church-was-born-into/', 'https://doctrineandcovenantscentral.org/podcast-episode/joseph-smith-and-black-africans/', 'https://doctrineandcovenantscentral.org/podcast-episode/1852-and-the-beginnings-of-the-priesthood-temple-ban-in-the-church/', 'https://doctrineandcovenantscentral.org/podcast-episode/how-the-priesthood-temple-ban-became-fully-entrenched-policy-in-the-church/', 'https://doctrineandcovenantscentral.org/podcast-episode/was-the-racial-ban-church-policy-or-doctrine-setting-the-stage-for-a-revelation-from-1908-1978/', 'https://doctrineandcovenantscentral.org/podcast-episode/the-1978-revelation-of-reversion-and-repair/', 'https://doctrineandcovenantscentral.org/podcast-episode/qr-tough-questions-with-paul-reeve/', 'https://doctrineandcovenantscentral.org/podcast-episode/what-do-we-actually-know-about-the-jst/', 'https://doctrineandcovenantscentral.org/podcast-episode/the-jst-as-revelatory-springboard/', 'https://doctrineandcovenantscentral.org/podcast-episode/did-joseph-smith-plagiarize-part-of-the-jst/', 'https://doctrineandcovenantscentral.org/podcast-episode/qr-tough-jst-questions-with-kent-jackson/', 'https://doctrineandcovenantscentral.org/podcast-episode/exploring-the-divine-human-partnership-in-scripture-creation-featuring-the-dc/', 'https://doctrineandcovenantscentral.org/podcast-episode/how-has-canonizing-de-canonizing-happened-in-the-doctrine-covenants/', 'https://doctrineandcovenantscentral.org/podcast-episode/the-book-of-abraham-origins-and-controversies/', 'https://doctrineandcovenantscentral.org/podcast-episode/the-abraham-facsimile-conundrum-is-it-all-or-nothing/', 'https://doctrineandcovenantscentral.org/podcast-episode/beyond-book-of-abraham-controversies/', 'https://doctrineandcovenantscentral.org/podcast-episode/qr-with-dr-kerry-muhlestein-tough-book-of-abraham-questions/']\n"
     ]
    },
    {
     "data": {
      "text/plain": [
       "34"
      ]
     },
     "execution_count": 139,
     "metadata": {},
     "output_type": "execute_result"
    }
   ],
   "source": [
    "dc_podcasts_pages = []\n",
    "\n",
    "status_code, html = get_page(host, delay_seconds)\n",
    "if status_code != 200:\n",
    "    print(\"Error!\", status_code)\n",
    "series_hrefs = extract_hrefs(html,base)\n",
    "# print(series_hrefs)\n",
    "\n",
    "for series_link in series_hrefs:\n",
    "    status_code, html = get_page(series_link, delay_seconds)\n",
    "    if status_code != 200:\n",
    "        print(\"Error!\", status_code)\n",
    "    episodes_hrefs = extract_links(html,base)\n",
    "    # print(episodes_hrefs)\n",
    "    if len(episodes_hrefs) != 0:\n",
    "        dc_podcasts_pages.extend(episodes_hrefs)\n",
    "    \n",
    "print(dc_podcasts_pages)\n",
    "len(dc_podcasts_pages)"
   ]
  },
  {
   "cell_type": "code",
   "execution_count": 142,
   "metadata": {},
   "outputs": [
    {
     "name": "stdout",
     "output_type": "stream",
     "text": [
      "../data/raw/dc_podcasts/why-are-there-different-accounts-of-the-first-vision.json\n",
      "../data/raw/dc_podcasts/whats-unique-about-joseph-smiths-1835-and-1838-accounts-of-his-first-vision.json\n",
      "../data/raw/dc_podcasts/how-did-orson-pratt-influence-joseph-smiths-1842-first-vision-narrative.json\n",
      "../data/raw/dc_podcasts/how-do-2nd-and-3rd-hand-accounts-add-to-our-understanding-of-the-first-vision.json\n",
      "../data/raw/dc_podcasts/qr-what-about-others-who-claimed-similar-visions-in-joseph-smiths-day-etc.json\n",
      "../data/raw/dc_podcasts/joseph-smiths-second-vision-and-the-coming-forth-of-the-book-of-mormon.json\n",
      "../data/raw/dc_podcasts/joseph-smiths-creative-efforts-to-outsource-the-book-of-mormon-translation.json\n",
      "../data/raw/dc_podcasts/translating-the-book-of-mormon-with-stones-in-a-hat.json\n",
      "../data/raw/dc_podcasts/if-not-a-supernatural-translation-then-what-examining-the-other-bm-translation-theories.json\n",
      "../data/raw/dc_podcasts/what-is-the-best-external-evidence-for-the-book-of-mormon.json\n",
      "../data/raw/dc_podcasts/qr-tackling-tough-book-of-mormon-translation-questions.json\n",
      "../data/raw/dc_podcasts/why-did-plural-marriage-begin-in-the-church.json\n",
      "../data/raw/dc_podcasts/joseph-smiths-trial-and-error-approach-to-plural-marriage.json\n",
      "../data/raw/dc_podcasts/plural-marriage-troubles-part-1-john-c-bennett-hyrum-smith-emma.json\n",
      "../data/raw/dc_podcasts/plural-marriage-troubles-part-2-emmas-fury-and-josephs-martyrdom.json\n"
     ]
    },
    {
     "ename": "KeyboardInterrupt",
     "evalue": "",
     "output_type": "error",
     "traceback": [
      "\u001b[0;31m---------------------------------------------------------------------------\u001b[0m",
      "\u001b[0;31mKeyboardInterrupt\u001b[0m                         Traceback (most recent call last)",
      "\u001b[1;32m/home/jigga/models/notebooks/05_dc_podcasts_crawler.ipynb Cell 10\u001b[0m line \u001b[0;36m8\n\u001b[1;32m      <a href='vscode-notebook-cell:/home/jigga/models/notebooks/05_dc_podcasts_crawler.ipynb#X22sZmlsZQ%3D%3D?line=5'>6</a>\u001b[0m \u001b[39mif\u001b[39;00m os\u001b[39m.\u001b[39mpath\u001b[39m.\u001b[39mexists(path_file):\n\u001b[1;32m      <a href='vscode-notebook-cell:/home/jigga/models/notebooks/05_dc_podcasts_crawler.ipynb#X22sZmlsZQ%3D%3D?line=6'>7</a>\u001b[0m     \u001b[39mcontinue\u001b[39;00m\n\u001b[0;32m----> <a href='vscode-notebook-cell:/home/jigga/models/notebooks/05_dc_podcasts_crawler.ipynb#X22sZmlsZQ%3D%3D?line=7'>8</a>\u001b[0m status_code, html \u001b[39m=\u001b[39m get_page(url, delay_seconds)\n\u001b[1;32m      <a href='vscode-notebook-cell:/home/jigga/models/notebooks/05_dc_podcasts_crawler.ipynb#X22sZmlsZQ%3D%3D?line=8'>9</a>\u001b[0m \u001b[39mif\u001b[39;00m status_code \u001b[39m!=\u001b[39m \u001b[39m200\u001b[39m:\n\u001b[1;32m     <a href='vscode-notebook-cell:/home/jigga/models/notebooks/05_dc_podcasts_crawler.ipynb#X22sZmlsZQ%3D%3D?line=9'>10</a>\u001b[0m     \u001b[39mprint\u001b[39m(\u001b[39m\"\u001b[39m\u001b[39mError!\u001b[39m\u001b[39m\"\u001b[39m, status_code , url)\n",
      "File \u001b[0;32m~/models/models/crawl_utils.py:34\u001b[0m, in \u001b[0;36mget_page\u001b[0;34m(url, delay_seconds, headers, encoding, timeout)\u001b[0m\n\u001b[1;32m     19\u001b[0m     headers \u001b[39m=\u001b[39m {\n\u001b[1;32m     20\u001b[0m         \u001b[39m\"\u001b[39m\u001b[39mAccept\u001b[39m\u001b[39m\"\u001b[39m: \u001b[39m\"\u001b[39m\u001b[39mtext/html,application/xhtml+xml,application/xml;q=0.9,image/avif,image/webp,image/apng,*/*;q=0.8,application/signed-exchange;v=b3;q=0.9\u001b[39m\u001b[39m\"\u001b[39m,  \u001b[39m# noqa: B950\u001b[39;00m\n\u001b[1;32m     21\u001b[0m         \u001b[39m\"\u001b[39m\u001b[39mAccept-Encoding\u001b[39m\u001b[39m\"\u001b[39m: \u001b[39m\"\u001b[39m\u001b[39mgzip, deflate, br\u001b[39m\u001b[39m\"\u001b[39m,\n\u001b[0;32m   (...)\u001b[0m\n\u001b[1;32m     31\u001b[0m         \u001b[39m\"\u001b[39m\u001b[39mUser-Agent\u001b[39m\u001b[39m\"\u001b[39m: \u001b[39m\"\u001b[39m\u001b[39mMozilla/5.0 (X11; Linux x86_64) AppleWebKit/537.36 (KHTML, like Gecko) Chrome/105.0.0.0 Safari/537.36\u001b[39m\u001b[39m\"\u001b[39m,  \u001b[39m# noqa: B950\u001b[39;00m\n\u001b[1;32m     32\u001b[0m     }\n\u001b[1;32m     33\u001b[0m response \u001b[39m=\u001b[39m requests\u001b[39m.\u001b[39mget(url, headers\u001b[39m=\u001b[39mheaders, timeout\u001b[39m=\u001b[39mtimeout)\n\u001b[0;32m---> 34\u001b[0m time\u001b[39m.\u001b[39;49msleep(delay_seconds)\n\u001b[1;32m     35\u001b[0m \u001b[39mif\u001b[39;00m encoding:\n\u001b[1;32m     36\u001b[0m     response\u001b[39m.\u001b[39mencoding \u001b[39m=\u001b[39m encoding\n",
      "\u001b[0;31mKeyboardInterrupt\u001b[0m: "
     ]
    }
   ],
   "source": [
    "for url in dc_podcasts_pages:\n",
    "    if url.endswith('/'):\n",
    "        url = url[:-1]\n",
    "    path_file =  get_path(url)\n",
    "    print(path_file)\n",
    "    if os.path.exists(path_file):\n",
    "        continue\n",
    "    status_code, html = get_page(url, delay_seconds)\n",
    "    if status_code != 200:\n",
    "        print(\"Error!\", status_code , url)\n",
    "        continue\n",
    "    href_html = extract_html(html)\n",
    "    \n",
    "    save_page(path_file,url,href_html)\n",
    "    \n",
    "print(\"End\")"
   ]
  }
 ],
 "metadata": {
  "kernelspec": {
   "display_name": "models",
   "language": "python",
   "name": "models"
  },
  "language_info": {
   "codemirror_mode": {
    "name": "ipython",
    "version": 3
   },
   "file_extension": ".py",
   "mimetype": "text/x-python",
   "name": "python",
   "nbconvert_exporter": "python",
   "pygments_lexer": "ipython3",
   "version": "3.10.0"
  }
 },
 "nbformat": 4,
 "nbformat_minor": 2
}
