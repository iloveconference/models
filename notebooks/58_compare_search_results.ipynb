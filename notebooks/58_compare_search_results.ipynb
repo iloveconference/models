{
 "cells": [
  {
   "cell_type": "markdown",
   "metadata": {},
   "source": [
    "## Compute NDCG Scores"
   ]
  },
  {
   "cell_type": "code",
   "execution_count": 1,
   "metadata": {},
   "outputs": [],
   "source": [
    "import csv\n",
    "\n",
    "from models.rank_eval import get_ndcg"
   ]
  },
  {
   "cell_type": "markdown",
   "metadata": {},
   "source": [
    "## Write functions to read two different csv files - scored-results.csv and question-results.csv"
   ]
  },
  {
   "cell_type": "code",
   "execution_count": 2,
   "metadata": {},
   "outputs": [],
   "source": [
    "# Function to read the first CSV file with \"Question,\" \"ResultId,\" and \"Score\" columns\n",
    "def read_true_csv(file_path):\n",
    "    data_dict = {}\n",
    "    with open(file_path, 'r') as file:\n",
    "        reader = csv.DictReader(file)\n",
    "        for row in reader:\n",
    "            question = row.get('Question', '')  # Use get to handle missing 'Question' key\n",
    "            result_id = row.get('ResultId', '')  # Use get to handle missing 'ResultId' key\n",
    "            score = float(row.get('Score', 0))  # Use get to handle missing 'Score' key and convert to float\n",
    "            if question and result_id:  # Check if both 'Question' and 'ResultId' are present\n",
    "                if question not in data_dict:\n",
    "                    data_dict[question] = []\n",
    "                data_dict[question].append({'id': result_id, 'score': score})\n",
    "    return data_dict\n",
    "\n",
    "# Function to read the second CSV file with \"Question,\" \"ResultId,\" and \"ResultRank\" columns\n",
    "def read_predicted_csv(file_path):\n",
    "    data_dict = {}\n",
    "    with open(file_path, 'r') as file:\n",
    "        reader = csv.DictReader(file)\n",
    "        for row in reader:\n",
    "            question = row.get('Question', '')  # Use get to handle missing 'Question' key\n",
    "            result_id = row.get('ResultId', '')  # Use get to handle missing 'ResultId' key\n",
    "            result_rank = int(row.get('ResultRank', 0))  # Use get to handle missing 'ResultRank' key and convert to int\n",
    "            if question and result_id:  # Check if both 'Question' and 'ResultId' are present\n",
    "                if question not in data_dict:\n",
    "                    data_dict[question] = []\n",
    "                data_dict[question].append({'id': result_id, 'score': result_rank})\n",
    "    return data_dict\n",
    "\n"
   ]
  },
  {
   "cell_type": "markdown",
   "metadata": {},
   "source": [
    "## Write a function to compute the NDCG scores"
   ]
  },
  {
   "cell_type": "code",
   "execution_count": 31,
   "metadata": {},
   "outputs": [],
   "source": [
    "# Function to convert ranks 1..20 to scores 20..1\n",
    "# get_ndcg needs the top-ranked item (rank=1) to have the highest score (20) \n",
    "# and the bottom-ranked item (rank=20) to have the lowest score(1)\n",
    "def ranks_to_scores(ranks):\n",
    "    return [{'id': rank['id'], 'score': 21-rank['score']} for rank in ranks]"
   ]
  },
  {
   "cell_type": "code",
   "execution_count": 32,
   "metadata": {},
   "outputs": [],
   "source": [
    "# Function to calculate NDCG scores\n",
    "def calculate_ndcg(true_results, predicted_results, k_values):\n",
    "    ndcg_scores = {}\n",
    "    single_document_questions = []  # Keep track of questions with only one document\n",
    "    \n",
    "    for question in true_results:\n",
    "        true_list = true_results[question]\n",
    "        predicted_list = predicted_results.get(question, [])\n",
    "\n",
    "        if len(true_list) == 1:\n",
    "            # Append details of questions with only one document\n",
    "            single_document_questions.append({\n",
    "                'question': question,\n",
    "                'true_result': true_list[0],\n",
    "                'predicted_result': predicted_list[0] if predicted_list else None\n",
    "            })\n",
    "        else:\n",
    "            # Calculate NDCG scores for questions with more than one document\n",
    "            ndcg_scores[question] = [get_ndcg(true_list, ranks_to_scores(predicted_list), k) for k in k_values]\n",
    "    \n",
    "    # Print questions with only one document\n",
    "    if len(single_document_questions) > 0:\n",
    "        print(\"Questions with Only One Document:\")\n",
    "    for item in single_document_questions:\n",
    "        print(f\"Question: {item['question']}\")\n",
    "        print(f\"True Result: {item['true_result']}\")\n",
    "        print(f\"Predicted Result: {item['predicted_result']}\")\n",
    "        print()\n",
    "    \n",
    "    return ndcg_scores"
   ]
  },
  {
   "cell_type": "markdown",
   "metadata": {},
   "source": [
    "## Call the functions to read the csv files and to compute NDCG scores"
   ]
  },
  {
   "cell_type": "code",
   "execution_count": 33,
   "metadata": {},
   "outputs": [
    {
     "name": "stdout",
     "output_type": "stream",
     "text": [
      "NDCG Scores:\n",
      "Question: Who is Oliver Cowdery?, NDCG Scores: [0.09637771110074016, 0.0, 0.326803922706866]\n",
      "Question: Who wrote the Book of Mormon?, NDCG Scores: [0.15101961822780524, 0.0, 0.2741708125981703]\n",
      "Question: How do the Bible and Book of Mormon work together?, NDCG Scores: [0.3451913422468693, 0.29608191096586517, 0.5174228122293323]\n",
      "Question: Where is the Hill Cumorah?, NDCG Scores: [0.2340771373576302, 0.09869397032195507, 0.45282232161847336]\n",
      "Question: What archaeological proof is there for the Book of Mormon?, NDCG Scores: [0.482881526673006, 0.3393978490514598, 0.6346891887826417]\n",
      "Question: Where did we get the Book of Abraham?, NDCG Scores: [0.0, 0.0, 0.0]\n",
      "Question: How long did it take to translate the Book of Mormon?, NDCG Scores: [0.6843515475204854, 0.7653606369886217, 0.7139291466664222]\n",
      "Question: How was the Book of Mormon translated?, NDCG Scores: [0.7336401894092817, 0.6161648742095498, 0.687725895933025]\n",
      "Question: What was the Book of Commandments?, NDCG Scores: [0.588222988084506, 0.4897595753409188, 0.6992295067888007]\n",
      "Question: Why aren't the Lectures on Faith in the Doctrine and Covenants any more?, NDCG Scores: [0.6744897018992443, 0.5307212739772434, 0.6266131298403139]\n",
      "Question: Where do we learn about the temple in the scriptures?, NDCG Scores: [0.8432115724046806, 0.8435737579924144, 0.8390210862571278]\n",
      "Question: Why do we need to serve missions?, NDCG Scores: [0.37225313894720036, 0.43202730365528835, 0.4660237272719683]\n",
      "Question: Did the Three Witnesses leave the Church?, NDCG Scores: [0.632362595263134, 0.665164091752885, 0.7024423315710124]\n",
      "Question: What is the Joseph Smith Translation?, NDCG Scores: [0.46165558402442936, 0.2551202123295406, 0.4517665629874067]\n",
      "Question: What led to the Church discontinuing polygamy?, NDCG Scores: [0.2680424157249006, 0.27676702515809, 0.3972918101124915]\n",
      "Question: What led to the revelation on the priesthood in 1978?, NDCG Scores: [0.4755358309512979, 0.4692787260227565, 0.6239229803327512]\n",
      "Question: How many women are in the Book of Mormon?, NDCG Scores: [0.41378374911103927, 0.5474918470265493, 0.5457983249552237]\n",
      "Question: What is the covenant path?, NDCG Scores: [0.18422965086858398, 0.1696989245257299, 0.29964332224202495]\n",
      "Question: How can we draw unto Christ?, NDCG Scores: [0.49826553820150077, 0.625704968030342, 0.5718557135146504]\n",
      "Question: Why is the Book of Mormon the most correct book?, NDCG Scores: [0.8524321923887621, 0.9999999999999999, 0.7928748840357903]\n",
      "Question: When did the Apostasy happen?, NDCG Scores: [0.3713407894899536, 0.29608191096586517, 0.4218947437599344]\n",
      "Question: Why did the Apostasy happen?, NDCG Scores: [0.30046561909165526, 0.3838351257904501, 0.3413042020902475]\n",
      "Question: What makes \"scripture\" scripture?, NDCG Scores: [0.7507870966196645, 0.8435737579924144, 0.7316463100678628]\n",
      "Question: What is the Promised Land?, NDCG Scores: [0.29951569925534466, 0.0, 0.5068720624928628]\n",
      "Question: What is the Book of Mormon?, NDCG Scores: [0.2573211763501469, 0.0, 0.3838483639981594]\n",
      "Question: Who was Joseph Smith?, NDCG Scores: [0.0, 0.0, 0.0]\n",
      "Question: Doesn't the Bible say we can't have more scripture?, NDCG Scores: [0.6377336948617924, 0.6871475159848288, 0.5549204291930724]\n",
      "Question: Do you believe in faith and works?, NDCG Scores: [0.94088803584128, 0.9217868789962071, 0.8035625747751096]\n",
      "Question: What do you believe about the Reformers?, NDCG Scores: [0.273579117830414, 0.28507032503695073, 0.4209673784531352]\n",
      "Question: Do you worship Joseph Smith?, NDCG Scores: [0.31628225048007114, 0.3393978490514598, 0.46594616224588414]\n",
      "Question: Did anyone see the Gold Plates?, NDCG Scores: [0.44382945925549655, 0.4525081529734507, 0.5772940701924772]\n",
      "Question: Do you still practice polygamy?, NDCG Scores: [0.3868528072345415, 0.3868528072345415, 0.5714285040141095]\n",
      "Question: Why don't you drink or smoke?, NDCG Scores: [0.886946598242128, 0.8435737579924144, 0.836882533375463]\n",
      "Question: Do you really baptize dead people?, NDCG Scores: [0.9999999999999998, 0.9999999999999999, 0.8521705090845471]\n",
      "Question: What do Mormons believe?, NDCG Scores: [0.6971432225619741, 0.8435737579924144, 0.5810101371658073]\n",
      "Question: Why do you serve missions?, NDCG Scores: [0.5781119907985042, 0.5307212739772434, 0.6661245822017301]\n",
      "Question: Do you not believe in hell?, NDCG Scores: [0.32651788039530355, 0.43202730365528835, 0.3774025410006569]\n",
      "Question: How are your leaders picked?, NDCG Scores: [0.43864844327772284, 0.4525081529734507, 0.4089657511434443]\n",
      "Question: Why do I have to be baptized to be Mormon?, NDCG Scores: [0.5275631199251661, 0.6089343949810362, 0.5302833040949875]\n",
      "Question: Do Mormons believe in the Bible?, NDCG Scores: [0.6234781945322727, 0.7039180890341348, 0.6346599768168157]\n",
      "Question: How did you guys end up in Utah?, NDCG Scores: [0.3300206979327021, 0.2551202123295406, 0.45677819497526173]\n",
      "Question: Why do you believe in a planet called Kolob?, NDCG Scores: [0.7507870966196645, 0.8435737579924144, 0.7199777514598288]\n",
      "Question: What's the Salamander Letter?, NDCG Scores: [0.6893059716306069, 0.7653606369886217, 0.7676715297745861]\n",
      "Question: Isn't your church rich?, NDCG Scores: [0.7878483464942909, 0.9072836011519265, 0.8026339605756544]\n",
      "Question: Why was Joseph Smith killed?, NDCG Scores: [0.37225313894720036, 0.43202730365528835, 0.5303221692120761]\n",
      "Question: Why did Joseph marry a teenager?, NDCG Scores: [0.4696647867602903, 0.4686845880533151, 0.6072419154246297]\n",
      "Question: Why didn't Joseph show anyone else the plates?, NDCG Scores: [0.4495791347196088, 0.2781491965442198, 0.6019698069778131]\n",
      "Question: What is View of the Hebrews?, NDCG Scores: [0.3048671564291101, 0.09869397032195507, 0.4079299548212977]\n",
      "Question: Why do people think Solomon Spaulding wrote the Book of Mormon?, NDCG Scores: [0.33682469738126836, 0.29898566352758515, 0.4897701014661558]\n",
      "Question: What is the First Book of Napoleon?, NDCG Scores: [0.2784056260796453, 0.2398124665681314, 0.5062014419478157]\n",
      "Question: What is The Late War?, NDCG Scores: [0.24673532676900284, 0.28507032503695073, 0.2779952019612181]\n",
      "Question: How was the Church involved in the Mountain Meadows Massacre?, NDCG Scores: [0.6535239046767299, 0.6089343949810362, 0.5948979732316267]\n",
      "Question: How do we deal with Jesus Christ being known by the Nephites by name?, NDCG Scores: [0.656503069231919, 0.5497655832101642, 0.6166939588562868]\n",
      "Question: Did the Church hide that Joseph Smith used a seer stone?, NDCG Scores: [0.463556410148551, 0.5, 0.6196496600563748]\n",
      "Question: Isn't the Church just a big corporation today?, NDCG Scores: [0.7429498456882973, 0.7653606369886217, 0.6613695374920049]\n",
      "Question: Hasn't the Church hidden its history?, NDCG Scores: [0.8020040617452145, 0.7448797876704594, 0.7466713932646852]\n",
      "Question: Doesn't the temple copy stuff from Freemasons?, NDCG Scores: [0.7373242853179036, 0.7039180890341348, 0.6898079741040001]\n",
      "Question: Why do we pay tithing if the Church has so much money?, NDCG Scores: [0.858886074267415, 0.9999999999999999, 0.7628518650603283]\n",
      "Question: Why would God appear to some kid like Joseph Smith?, NDCG Scores: [0.6814687206992397, 0.6871475159848288, 0.608934453483799]\n",
      "Question: Why is the church so patriarchal?, NDCG Scores: [0.6043130938474478, 0.4525081529734507, 0.5543916110164281]\n",
      "Question: Wasn't Joseph super-involved with magic and digging for treasure?, NDCG Scores: [0.18906468613321328, 0.1769070913257478, 0.4381448541894195]\n",
      "Question: Doesn't the Book of Mormon plagiarize the Bible a bunch?, NDCG Scores: [0.7458326725095431, 0.8435737579924144, 0.7616206169353854]\n",
      "Question: Was Brigham Young actually a prophet?, NDCG Scores: [0.6307520992519768, 0.5939462358400547, 0.5940928154139711]\n",
      "Question: Is the Book of Mormon historical?, NDCG Scores: [0.1652088752615721, 0.0, 0.1652088752615721]\n",
      "Question: What do we do about Deutero-Isaiah in the Book of Mormon?, NDCG Scores: [0.456234365013657, 0.5102404246590811, 0.41949841303841207]\n",
      "Question: Where did the Book of Mormon happen?, NDCG Scores: [0.241440763336503, 0.1696989245257299, 0.4145412576345739]\n",
      "Question: Did Emma Smith leave the Church?, NDCG Scores: [0.3477930420749695, 0.23463936301137825, 0.44892646605423436]\n",
      "Question: Did Paul write the Epistle to the Hebrews?, NDCG Scores: [0.26568017875804384, 0.3393978490514598, 0.38267159938939804]\n",
      "Question: What do we think about the Catholic Church?, NDCG Scores: [0.5, 0.5, 0.5]\n",
      "Question: Why did we choose Utah?, NDCG Scores: [0.23614223626057912, 0.10500099787698206, 0.2633404518023505]\n",
      "Question: How many prophets have there been?, NDCG Scores: [0.20547787754288813, 0.1564262420075855, 0.36114994866187256]\n",
      "Question: What do you believe about the Catholic Church?, NDCG Scores: [0.9026211001048623, 0.9999999999999999, 0.7924738823621781]\n",
      "Question: Why did you guys have more than one wife?, NDCG Scores: [0.0, 0.0, 0.0763665556193467]\n",
      "Question: What happens in your temples?, NDCG Scores: [0.4379466124270636, 0.39106560501896376, 0.42954053158998845]\n",
      "Question: How much do your leaders get paid?, NDCG Scores: [0.25019415247199905, 0.0, 0.2932718127781591]\n",
      "Question: Why can't I go to my friend's wedding?, NDCG Scores: [0.6366824387328316, 0.7653606369886218, 0.7757386182436072]\n",
      "Question: Didn't you not baptize people of African descent?, NDCG Scores: [0.9762388637052952, 0.894999002123018, 0.9762388637052952]\n",
      "Question: Why does the Book of Mormon have a musical?, NDCG Scores: [0.6233569103176181, 0.72323297484191, 0.8712647550441807]\n",
      "Question: Do you believe that you'll get your own planet one day?, NDCG Scores: [0.5551553341043619, 0.5865984075284456, 0.6754266554465402]\n",
      "Question: Why do you not give women your priesthood?, NDCG Scores: [0.6666666666666666, 0.6666666666666666, 0.8145067410982747]\n",
      "Question: Don't you read the Book of Mormon instead of the Bible?, NDCG Scores: [0.3010141127712788, 0.10706810063236011, 0.39566754806851784]\n",
      "Question: Did Joseph Smith plagiarize from Adam Clarke?, NDCG Scores: [0.4930658060476898, 0.5474918470265493, 0.49568727989951933]\n",
      "Question: Did Brigham Young have Joseph Smith killed?, NDCG Scores: [0.2661060872182145, 0.1199062332840657, 0.5066064197072535]\n",
      "Question: Is the Book of Mormon racist?, NDCG Scores: [0.10918487464734664, 0.13291299131469791, 0.3695407459259713]\n",
      "Question: Don't Egyptologists say that the Book of Abraham is wrong?, NDCG Scores: [0.7165902417430503, 0.7346393630113782, 0.7802153547674866]\n",
      "Question: Did the Church hide the different accounts of the First Vision?, NDCG Scores: [0.7100154110787431, 0.6199062332840657, 0.6716665297182864]\n",
      "Question: Was there really a global flood?, NDCG Scores: [0.5320076774284791, 0.7039180890341348, 0.5820728172491332]\n",
      "Question: Why did I have to serve a mission?, NDCG Scores: [0.46319916811486295, 0.4525081529734507, 0.4460415523409541]\n",
      "Question: Doesn't DNA disprove the Book of Mormon?, NDCG Scores: [0.5712981457626134, 0.6089343949810362, 0.6032421044981575]\n",
      "Question: Why is the Church so against LGBTQ people?, NDCG Scores: [0.36092706240739525, 0.43202730365528835, 0.6640739544179091]\n"
     ]
    }
   ],
   "source": [
    "# Define file paths\n",
    "true_results_file = '../references/scored-results.csv'\n",
    "predicted_results_file = '../data/exports/question-results.csv'\n",
    "    \n",
    "# Read the first CSV file with true results\n",
    "true_results = read_true_csv(true_results_file)\n",
    "\n",
    "# Read the second CSV file with predicted results\n",
    "predicted_results = read_predicted_csv(predicted_results_file)\n",
    "\n",
    "# Calculate NDCG scores\n",
    "k_values = [5, 3, 10]\n",
    "ndcg_scores = calculate_ndcg(true_results, predicted_results, k_values)\n",
    "# print(\"predicted results\", predicted_results)\n",
    "# print()\n",
    "# print(\"true results\", true_results)\n",
    "# Print NDCG scores\n",
    "print(\"NDCG Scores:\")\n",
    "for question, scores in ndcg_scores.items():\n",
    "    print(f\"Question: {question}, NDCG Scores: {scores}\")"
   ]
  },
  {
   "cell_type": "code",
   "execution_count": 34,
   "metadata": {},
   "outputs": [
    {
     "data": {
      "text/plain": [
       "90"
      ]
     },
     "execution_count": 34,
     "metadata": {},
     "output_type": "execute_result"
    }
   ],
   "source": [
    "len(ndcg_scores)"
   ]
  },
  {
   "cell_type": "markdown",
   "metadata": {},
   "source": [
    "## Average NDCG scores"
   ]
  },
  {
   "cell_type": "code",
   "execution_count": 35,
   "metadata": {},
   "outputs": [
    {
     "name": "stdout",
     "output_type": "stream",
     "text": [
      "\n",
      "Average NDCG Scores:\n",
      "At k=5: 0.48690831259697737\n",
      "At k=3: 0.47149845304054544\n",
      "At k=10: 0.5475981121403847\n"
     ]
    }
   ],
   "source": [
    "# Calculate and print average NDCG scores\n",
    "avg_ndcg_scores = {k: sum(scores) / len(scores) for k, scores in zip(k_values, zip(*ndcg_scores.values()))}\n",
    "print(\"\\nAverage NDCG Scores:\")\n",
    "for k, avg_score in avg_ndcg_scores.items():\n",
    "    print(f\"At k={k}: {avg_score}\")"
   ]
  },
  {
   "cell_type": "markdown",
   "metadata": {},
   "source": [
    "## Look at an individual question"
   ]
  },
  {
   "cell_type": "code",
   "execution_count": 51,
   "metadata": {},
   "outputs": [
    {
     "name": "stdout",
     "output_type": "stream",
     "text": [
      "NDCG=0.5781119907985042\n",
      "Scores of the top 5 search results\n",
      "1 1.0 7fb6ff9c23fe2401fc301bbe13054babaa7db09d116face6b3f88965ea65c334\n",
      "2 3.0 5714a015089a55c3b941aa1b79553bfbb11154f935fbac955e0469789f4dd0fb\n",
      "3 1.0 3b52341e94eb71dafff9f6518f992c8b48217c6b048b75c97c8b1e04e95fef45\n",
      "4 2.0 3789ca3f53c0e1c0a682f7cee5db1f389cd31b3ab9321bfead2166f3d16470ef\n",
      "5 1.0 a66ff3ec432f9f5d3a10094b6470869c35327b2add39fa70224130663168b4d4\n",
      "Ideal top search results\n",
      "1 3.0 5714a015089a55c3b941aa1b79553bfbb11154f935fbac955e0469789f4dd0fb\n",
      "2 3.0 0947d33fb826ad1bf3a5b999d60a85e286a666de617569bf0f51e84006e5c922\n",
      "3 3.0 41c63c695d10cd390ed58db1d58a0422d015c462e799f647749c52cefc6ebcec\n",
      "-----\n",
      "4 2.0 3789ca3f53c0e1c0a682f7cee5db1f389cd31b3ab9321bfead2166f3d16470ef\n",
      "5 2.0 c873981632bad88c58c334bc89af2dfc0278246d451c5d7c92343aa5dcab4a5e\n",
      "6 2.0 2036aa60f0dfe035a2da9336b5fe9c5accc51d46963851f6241de4b46dff4db6\n",
      "7 2.0 ffd4994b33c72bee01b2f550782b42d510a03dd57d8855973913bfd1d95fb6de\n"
     ]
    }
   ],
   "source": [
    "q = \"Why do you serve missions?\"\n",
    "k = 5\n",
    "\n",
    "ndcg = get_ndcg(true_results[q], ranks_to_scores(predicted_results[q]), k)\n",
    "print(f\"NDCG={ndcg}\")\n",
    "\n",
    "print(f\"Scores of the top {k} search results\")\n",
    "scores = {id_score['id']: id_score['score'] for id_score in true_results[q]}\n",
    "rankings = {id_score['score']: id_score['id'] for id_score in predicted_results[q]}\n",
    "for ix in range(1, k+1):\n",
    "    _id = rankings.get(ix, 0)\n",
    "    print(ix, scores.get(_id, 0), _id)\n",
    "\n",
    "print(\"Ideal top search results\")\n",
    "sorted_scores = sorted(true_results[q], key=lambda x: x['score'], reverse=True)\n",
    "curr_score = 3\n",
    "for ix in range(len(sorted_scores)):\n",
    "    id_score = sorted_scores[ix]\n",
    "    if id_score['score'] < curr_score:\n",
    "        if ix >= k:\n",
    "            break\n",
    "        print('-----')\n",
    "    print(ix+1, id_score['score'], id_score['id'])\n",
    "    curr_score = id_score['score']"
   ]
  },
  {
   "cell_type": "code",
   "execution_count": null,
   "metadata": {},
   "outputs": [],
   "source": []
  }
 ],
 "metadata": {
  "kernelspec": {
   "display_name": "Python 3 (ipykernel)",
   "language": "python",
   "name": "python3"
  },
  "language_info": {
   "codemirror_mode": {
    "name": "ipython",
    "version": 3
   },
   "file_extension": ".py",
   "mimetype": "text/x-python",
   "name": "python",
   "nbconvert_exporter": "python",
   "pygments_lexer": "ipython3",
   "version": "3.10.0"
  }
 },
 "nbformat": 4,
 "nbformat_minor": 4
}
