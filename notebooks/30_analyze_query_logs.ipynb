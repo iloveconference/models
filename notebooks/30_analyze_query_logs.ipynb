{
 "cells": [
  {
   "cell_type": "code",
   "execution_count": null,
   "id": "d04df096",
   "metadata": {},
   "outputs": [],
   "source": [
    "%load_ext autoreload\n",
    "%autoreload 2\n",
    "%load_ext dotenv\n",
    "%dotenv"
   ]
  },
  {
   "cell_type": "code",
   "execution_count": null,
   "id": "a98c95f4",
   "metadata": {},
   "outputs": [],
   "source": [
    "from models.analysis_utils import load_logs, get_log_messages"
   ]
  },
  {
   "cell_type": "code",
   "execution_count": null,
   "id": "7ff3224d",
   "metadata": {},
   "outputs": [],
   "source": [
    "# load logs\n",
    "logs = load_logs('iloveconference.logs')"
   ]
  },
  {
   "cell_type": "markdown",
   "id": "1504134d",
   "metadata": {},
   "source": [
    "## Analyze searches"
   ]
  },
  {
   "cell_type": "code",
   "execution_count": null,
   "id": "c9f935e1",
   "metadata": {},
   "outputs": [],
   "source": [
    "# get search messages from log\n",
    "searches = get_log_messages(logs, \"search\")"
   ]
  },
  {
   "cell_type": "code",
   "execution_count": null,
   "id": "44c6c893",
   "metadata": {},
   "outputs": [],
   "source": [
    "queries = set([msg[\"response\"][\"q\"].lower() for msg in searches])"
   ]
  },
  {
   "cell_type": "code",
   "execution_count": null,
   "id": "bb90f2f1",
   "metadata": {},
   "outputs": [],
   "source": [
    "len(queries)"
   ]
  },
  {
   "cell_type": "code",
   "execution_count": null,
   "id": "d8d41afa",
   "metadata": {},
   "outputs": [],
   "source": [
    "queries"
   ]
  },
  {
   "cell_type": "markdown",
   "id": "5a179211",
   "metadata": {},
   "source": [
    "## Analyze ratings"
   ]
  },
  {
   "cell_type": "code",
   "execution_count": null,
   "id": "1f41ab95",
   "metadata": {},
   "outputs": [],
   "source": [
    "# get rate messages from log\n",
    "ratings = get_log_messages(logs, \"rate\")"
   ]
  },
  {
   "cell_type": "code",
   "execution_count": null,
   "id": "d3ee0db1",
   "metadata": {},
   "outputs": [],
   "source": [
    "ratings"
   ]
  },
  {
   "cell_type": "code",
   "execution_count": null,
   "id": "44d90b4b",
   "metadata": {},
   "outputs": [],
   "source": []
  }
 ],
 "metadata": {
  "kernelspec": {
   "display_name": "ilc-models",
   "language": "python",
   "name": "ilc-models"
  },
  "language_info": {
   "codemirror_mode": {
    "name": "ipython",
    "version": 3
   },
   "file_extension": ".py",
   "mimetype": "text/x-python",
   "name": "python",
   "nbconvert_exporter": "python",
   "pygments_lexer": "ipython3",
   "version": "3.10.9"
  }
 },
 "nbformat": 4,
 "nbformat_minor": 5
}
