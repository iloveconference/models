{
 "cells": [
  {
   "cell_type": "markdown",
   "metadata": {},
   "source": [
    "# Crawl Evidence Central from the Church of Jesus Christ of Latter-day Saints"
   ]
  },
  {
   "cell_type": "code",
   "execution_count": null,
   "metadata": {},
   "outputs": [],
   "source": [
    "%load_ext autoreload\n",
    "%autoreload 2"
   ]
  },
  {
   "cell_type": "code",
   "execution_count": null,
   "metadata": {},
   "outputs": [],
   "source": [
    "import os\n",
    "from urllib.parse import urljoin, urlparse\n",
    "\n",
    "from bs4 import BeautifulSoup\n",
    "import requests\n",
    "\n",
    "from models.crawl_utils import get_page, save_page"
   ]
  },
  {
   "cell_type": "code",
   "execution_count": null,
   "metadata": {},
   "outputs": [],
   "source": [
    "# config\n",
    "host = 'https://evidencecentral.org/sitemap.xml'\n",
    "base_dir = '../data/raw/evidence_central'\n",
    "bs_parser = 'xml'\n",
    "delay_seconds = 5\n",
    "\n",
    "if not os.path.exists(base_dir):\n",
    "    os.makedirs(base_dir)\n",
    "    "
   ]
  },
  {
   "cell_type": "code",
   "execution_count": null,
   "metadata": {},
   "outputs": [],
   "source": [
    "# def extract_series_hrefs(html,base):\n",
    "#     hrefs = []\n",
    "\n",
    "#     # Parse the HTML content using BeautifulSoup\n",
    "#     soup = BeautifulSoup(html, 'html.parser')\n",
    "\n",
    "#     # Find all div tags with the class 'views-field-title'\n",
    "#     link_tags = soup.find_all('div', {'data-column-clickable': True})\n",
    "\n",
    "#     # Extract href attribute from each anchor tag and append to the list\n",
    "#     for link in link_tags:\n",
    "#         href = link.get('data-column-clickable')\n",
    "#         if href:\n",
    "#             if href.startswith(base):\n",
    "#                 path_components = urlparse(href).path.split('/')\n",
    "#                 # print(path_components)\n",
    "#                 if len(path_components) == 3:\n",
    "#                     if not href in hrefs:\n",
    "#                         hrefs.append(href)\n",
    "\n",
    "#     return hrefs"
   ]
  },
  {
   "cell_type": "code",
   "execution_count": null,
   "metadata": {},
   "outputs": [],
   "source": [
    "def extract_text(xml_content):\n",
    "    #Parse the XML content using BeautifulSoup\n",
    "    soup = BeautifulSoup(xml_content, 'xml')\n",
    "\n",
    "    #Find all <loc> tags in the XML\n",
    "    loc_tags = soup.find_all('loc')\n",
    "\n",
    "    #Extract and store the text inside each <loc> tag\n",
    "    loc_texts = [loc.get_text() for loc in loc_tags]\n",
    "\n",
    "    return loc_texts"
   ]
  },
  {
   "cell_type": "code",
   "execution_count": null,
   "metadata": {},
   "outputs": [],
   "source": [
    "# def extract_links(html,base):\n",
    "#     hrefs = []\n",
    "\n",
    "#     # Parse the HTML content using BeautifulSoup\n",
    "#     soup = BeautifulSoup(html, 'html.parser')\n",
    "\n",
    "#     # Find all div tags with the class 'views-field-title'\n",
    "#     link_tags = soup.find_all('div', {'data-column-clickable': True})\n",
    "\n",
    "    # # Extract href attribute from each anchor tag and append to the list\n",
    "    # for link in link_tags:\n",
    "    #     href = link.get('data-column-clickable')\n",
    "    #     if href:\n",
    "    #         if href.startswith(base):\n",
    "    #             hrefs.append(href)\n",
    "    #             # path_components = urlparse(href).path.split('/')\n",
    "    #             # print(path_components)\n",
    "    #             # if len(path_components) == 4:\n",
    "    #             #    if not href in hrefs:\n",
    "    #             #        hrefs.append(href)\n",
    "\n",
    "    # return hrefs"
   ]
  },
  {
   "cell_type": "code",
   "execution_count": null,
   "metadata": {},
   "outputs": [],
   "source": [
    "def get_path(url):\n",
    "    path_components = urlparse(url).path.split('/')\n",
    "    # print(path_components)\n",
    "    return os.path.join(base_dir, f\"{path_components[-1]}.json\")"
   ]
  },
  {
   "cell_type": "code",
   "execution_count": null,
   "metadata": {},
   "outputs": [],
   "source": [
    "xml_content = \"\"\"\"\"\""
   ]
  },
  {
   "cell_type": "code",
   "execution_count": null,
   "metadata": {},
   "outputs": [],
   "source": [
    "\n",
    "def get_http(requests):\n",
    "    headers = {\n",
    "        'Content-Type': 'application/json',\n",
    "    }\n",
    "\n",
    "    json_data = {\n",
    "        'tblnm': 'virctnrnyvw',\n",
    "        'templateId': 116,\n",
    "        'parameters': '{\"tblEty\":314,\"prnFomtplhdrID\":116,\"path\":\"/recency/evidence/make-a-record\",\"templateKey\":\"PAGES/CONTENT_RECENCY_VIEWER\",\"uiKey\":\"AF24A18C-F8BD-4742-AAF8-955E7AF86206\",\"dynamicStateGuid\":\"d0450ef1-aa1e-4240-8ef5-a1721f3e3564\",\"isFormValid\":true,\"fileTemplate\":\"recency\"}',\n",
    "        'formValues': '{\"tblEty\":314}',\n",
    "    }\n",
    "\n",
    "    response = requests.post(host, headers=headers, json=json_data)\n",
    "\n",
    "    return response\n",
    "\n",
    "    # Note: json_data will not be serialized by requests\n",
    "    # exactly as it was in the original request.\n",
    "    #data = '{\"tblnm\":\"virctnrnyvw\",\"templateId\":116,\"parameters\":\"{\\\\\"tblEty\\\\\":314,\\\\\"prnFomtplhdrID\\\\\":116,\\\\\"path\\\\\":\\\\\"/recency/evidence/make-a-record\\\\\",\\\\\"templateKey\\\\\":\\\\\"PAGES/CONTENT_RECENCY_VIEWER\\\\\",\\\\\"uiKey\\\\\":\\\\\"AF24A18C-F8BD-4742-AAF8-955E7AF86206\\\\\",\\\\\"dynamicStateGuid\\\\\":\\\\\"d0450ef1-aa1e-4240-8ef5-a1721f3e3564\\\\\",\\\\\"isFormValid\\\\\":true,\\\\\"fileTemplate\\\\\":\\\\\"recency\\\\\"}\",\"formValues\":\"{\\\\\"tblEty\\\\\":314}\"}'\n",
    "    #response = requests.post('https://evidencecentral.org/api/fileTemplate/process/html', headers=headers, data=data)"
   ]
  },
  {
   "cell_type": "code",
   "execution_count": null,
   "metadata": {},
   "outputs": [],
   "source": [
    "# status_code, html = get_page(host, delay_seconds)\n",
    "response = get_http(requests)\n",
    "print(response.content)\n",
    "if status_code != 200:\n",
    "    print(\"Error!\", status_code)\n",
    "# series_hrefs = extract_text(html)\n",
    "# print(series_hrefs[:5])\n",
    "# len(series_hrefs)"
   ]
  },
  {
   "cell_type": "code",
   "execution_count": null,
   "metadata": {},
   "outputs": [],
   "source": [
    "dc_podcasts_pages = []\n",
    "\n",
    "for series_link in series_hrefs:\n",
    "    status_code, html = get_page(series_link, delay_seconds)\n",
    "    if status_code != 200:\n",
    "        print(\"Error!\", status_code)\n",
    "    episodes_hrefs = extract_links(html,base)\n",
    "    print(series_link, len(episodes_hrefs), episodes_hrefs[:3])\n",
    "    if len(episodes_hrefs) != 0:\n",
    "        dc_podcasts_pages.extend(episodes_hrefs)\n",
    "    \n",
    "print(dc_podcasts_pages[:5])\n",
    "len(dc_podcasts_pages)"
   ]
  },
  {
   "cell_type": "code",
   "execution_count": null,
   "metadata": {},
   "outputs": [],
   "source": [
    "for url in dc_podcasts_pages:\n",
    "    if url.endswith('/'):\n",
    "        url = url[:-1]\n",
    "    path_file =  get_path(url)\n",
    "    print(path_file)\n",
    "    if os.path.exists(path_file):\n",
    "        continue\n",
    "    status_code, html = get_page(url, delay_seconds)\n",
    "    if status_code != 200:\n",
    "        print(\"Error!\", status_code , url)\n",
    "        continue\n",
    "    \n",
    "    save_page(path_file,url,html)\n",
    "    \n",
    "print(\"End\")"
   ]
  },
  {
   "cell_type": "code",
   "execution_count": null,
   "metadata": {},
   "outputs": [],
   "source": []
  }
 ],
 "metadata": {
  "kernelspec": {
   "display_name": "models",
   "language": "python",
   "name": "models"
  },
  "language_info": {
   "codemirror_mode": {
    "name": "ipython",
    "version": 3
   },
   "file_extension": ".py",
   "mimetype": "text/x-python",
   "name": "python",
   "nbconvert_exporter": "python",
   "pygments_lexer": "ipython3",
   "version": "3.10.0"
  }
 },
 "nbformat": 4,
 "nbformat_minor": 4
}
