{
 "cells": [
  {
   "cell_type": "markdown",
   "metadata": {},
   "source": [
    "# Crawl Evidence Central from the Church of Jesus Christ of Latter-day Saints"
   ]
  },
  {
   "cell_type": "code",
   "execution_count": null,
   "metadata": {},
   "outputs": [],
   "source": [
    "%load_ext autoreload\n",
    "%autoreload 2"
   ]
  },
  {
   "cell_type": "code",
   "execution_count": null,
   "metadata": {},
   "outputs": [],
   "source": [
    "import os\n",
    "from urllib.parse import urljoin, urlparse\n",
    "\n",
    "from bs4 import BeautifulSoup\n",
    "import requests\n",
    "import time\n",
    "\n",
    "from models.crawl_utils import save_page"
   ]
  },
  {
   "cell_type": "code",
   "execution_count": null,
   "metadata": {},
   "outputs": [],
   "source": [
    "# config\n",
    "host = 'https://evidencecentral.org/sitemap.xml'\n",
    "base_dir = '../data/raw/evidence_central'\n",
    "delay_seconds = 5\n",
    "\n",
    "if not os.path.exists(base_dir):\n",
    "    os.makedirs(base_dir)\n"
   ]
  },
  {
   "cell_type": "code",
   "execution_count": null,
   "metadata": {},
   "outputs": [],
   "source": [
    "def extract_links(xml_content):\n",
    "    #Parse the XML content using BeautifulSoup\n",
    "    soup = BeautifulSoup(xml_content, 'xml')\n",
    "\n",
    "    #Find all <loc> tags in the XML\n",
    "    loc_tags = soup.find_all('loc')\n",
    "\n",
    "    #Extract and store the text inside each <loc> tag\n",
    "    loc_texts = [loc.get_text() for loc in loc_tags]\n",
    "\n",
    "    return loc_texts"
   ]
  },
  {
   "cell_type": "code",
   "execution_count": null,
   "metadata": {},
   "outputs": [],
   "source": [
    "def get_path(url):\n",
    "    path_components = urlparse(url).path.split('/')\n",
    "    # print(path_components)\n",
    "    return os.path.join(base_dir, f\"{path_components[-1]}.json\")"
   ]
  },
  {
   "cell_type": "code",
   "execution_count": null,
   "metadata": {},
   "outputs": [],
   "source": [
    "def get_sitemap(host):\n",
    "    headers = {\n",
    "        'Content-Type': 'text/xml',\n",
    "    }\n",
    "    response = requests.get(host, headers=headers)\n",
    "    return response"
   ]
  },
  {
   "cell_type": "code",
   "execution_count": null,
   "metadata": {},
   "outputs": [],
   "source": [
    "def get_page_from_post(path):\n",
    "    path_route = path.replace(\"https://evidencecentral.org\", \"\")\n",
    "    headers = {\n",
    "        'Content-Type': 'application/json',\n",
    "    }\n",
    "\n",
    "    json_data = {\n",
    "        'tblnm': 'virctnrnyvw',\n",
    "        'templateId': 116,\n",
    "        'parameters': '{\"tblEty\":314,\"prnFomtplhdrID\":116,\"path\":\"'+path_route+'\",\"templateKey\":\"PAGES/CONTENT_RECENCY_VIEWER\",\"uiKey\":\"AF24A18C-F8BD-4742-AAF8-955E7AF86206\",\"dynamicStateGuid\":\"d0450ef1-aa1e-4240-8ef5-a1721f3e3564\",\"isFormValid\":true,\"fileTemplate\":\"recency\"}',\n",
    "        'formValues': '{\"tblEty\":314}',\n",
    "    }\n",
    "    response = requests.post('https://evidencecentral.org/api/fileTemplate/process/html', headers=headers, json=json_data)\n",
    "\n",
    "    return response\n",
    "\n",
    "    # Note: json_data will not be serialized by requests\n",
    "    # exactly as it was in the original request.\n",
    "    #data = '{\"tblnm\":\"virctnrnyvw\",\"templateId\":116,\"parameters\":\"{\\\\\"tblEty\\\\\":314,\\\\\"prnFomtplhdrID\\\\\":116,\\\\\"path\\\\\":\\\\\"/recency/evidence/make-a-record\\\\\",\\\\\"templateKey\\\\\":\\\\\"PAGES/CONTENT_RECENCY_VIEWER\\\\\",\\\\\"uiKey\\\\\":\\\\\"AF24A18C-F8BD-4742-AAF8-955E7AF86206\\\\\",\\\\\"dynamicStateGuid\\\\\":\\\\\"d0450ef1-aa1e-4240-8ef5-a1721f3e3564\\\\\",\\\\\"isFormValid\\\\\":true,\\\\\"fileTemplate\\\\\":\\\\\"recency\\\\\"}\",\"formValues\":\"{\\\\\"tblEty\\\\\":314}\"}'\n",
    "    #response = requests.post('https://evidencecentral.org/api/fileTemplate/process/html', headers=headers, data=data)"
   ]
  },
  {
   "cell_type": "code",
   "execution_count": null,
   "metadata": {},
   "outputs": [],
   "source": [
    "response = get_sitemap(host)\n",
    "if response.status_code != 200:\n",
    "    print(f\"ERROR {response.status_code}\")\n",
    "xml_content = response.content"
   ]
  },
  {
   "cell_type": "code",
   "execution_count": null,
   "metadata": {},
   "outputs": [],
   "source": [
    "xml_links = extract_links(xml_content)\n",
    "print(len(xml_links))\n",
    "print(xml_links[2])"
   ]
  },
  {
   "cell_type": "code",
   "execution_count": null,
   "metadata": {},
   "outputs": [],
   "source": [
    "for url in xml_links:\n",
    "    # print(url)\n",
    "    path_file =  get_path(url)\n",
    "    print(path_file)\n",
    "    if os.path.exists(path_file):\n",
    "        continue\n",
    "    response = get_page_from_post(url)\n",
    "    if response.status_code != 200:\n",
    "        print(\"Error!\", response.status_code , url)\n",
    "        continue\n",
    "    time.sleep(delay_seconds)\n",
    "    save_page(path_file,url,response.content.decode('utf-8'))\n",
    "\n",
    "print(\"End\")"
   ]
  },
  {
   "cell_type": "code",
   "execution_count": null,
   "metadata": {},
   "outputs": [],
   "source": []
  }
 ],
 "metadata": {
  "kernelspec": {
   "display_name": "scqa-models",
   "language": "python",
   "name": "scqa-models"
  },
  "language_info": {
   "codemirror_mode": {
    "name": "ipython",
    "version": 3
   },
   "file_extension": ".py",
   "mimetype": "text/x-python",
   "name": "python",
   "nbconvert_exporter": "python",
   "pygments_lexer": "ipython3",
   "version": "3.10.0"
  }
 },
 "nbformat": 4,
 "nbformat_minor": 4
}
