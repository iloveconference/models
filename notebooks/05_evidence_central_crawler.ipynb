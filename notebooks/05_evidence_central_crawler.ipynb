{
 "cells": [
  {
   "cell_type": "markdown",
   "metadata": {},
   "source": [
    "# Crawl Evidence Central from the Church of Jesus Christ of Latter-day Saints"
   ]
  },
  {
   "cell_type": "code",
   "execution_count": null,
   "metadata": {},
   "outputs": [],
   "source": [
    "%load_ext autoreload\n",
    "%autoreload 2"
   ]
  },
  {
   "cell_type": "code",
   "execution_count": null,
   "metadata": {},
   "outputs": [],
   "source": [
    "import os\n",
    "from urllib.parse import urljoin, urlparse\n",
    "\n",
    "from bs4 import BeautifulSoup\n",
    "import requests\n",
    "\n",
    "from models.crawl_utils import get_page, save_page"
   ]
  },
  {
   "cell_type": "code",
   "execution_count": null,
   "metadata": {},
   "outputs": [],
   "source": [
    "# config\n",
    "host = 'https://evidencecentral.org/sitemap.xml'\n",
    "base_dir = '../data/raw/evidence_central'\n",
    "bs_parser = 'xml'\n",
    "delay_seconds = 5\n",
    "\n",
    "if not os.path.exists(base_dir):\n",
    "    os.makedirs(base_dir)\n",
    "    "
   ]
  },
  {
   "cell_type": "code",
   "execution_count": null,
   "metadata": {},
   "outputs": [],
   "source": [
    "def extract_text(xml_content):\n",
    "    #Parse the XML content using BeautifulSoup\n",
    "    soup = BeautifulSoup(xml_content, 'html.parser')\n",
    "\n",
    "    #Find all <loc> tags in the XML\n",
    "    loc_tags = soup.find_all('loc')\n",
    "\n",
    "    #Extract and store the text inside each <loc> tag\n",
    "    loc_texts = [loc.get_text() for loc in loc_tags]\n",
    "\n",
    "    return loc_texts"
   ]
  },
  {
   "cell_type": "code",
   "execution_count": null,
   "metadata": {},
   "outputs": [],
   "source": [
    "def get_path(url):\n",
    "    path_components = urlparse(url).path.split('/')\n",
    "    # print(path_components)\n",
    "    return os.path.join(base_dir, f\"{path_components[-1]}.json\")"
   ]
  },
  {
   "cell_type": "code",
   "execution_count": null,
   "metadata": {},
   "outputs": [],
   "source": [
    "\n",
    "def get_http(requests, host):\n",
    "    headers = {\n",
    "        'Content-Type': 'application/json',\n",
    "    }\n",
    "    response = requests.get(host, headers=headers)\n",
    "\n",
    "    return response\n",
    "\n",
    "    # Note: json_data will not be serialized by requests\n",
    "    # exactly as it was in the original request.\n",
    "    #data = '{\"tblnm\":\"virctnrnyvw\",\"templateId\":116,\"parameters\":\"{\\\\\"tblEty\\\\\":314,\\\\\"prnFomtplhdrID\\\\\":116,\\\\\"path\\\\\":\\\\\"/recency/evidence/make-a-record\\\\\",\\\\\"templateKey\\\\\":\\\\\"PAGES/CONTENT_RECENCY_VIEWER\\\\\",\\\\\"uiKey\\\\\":\\\\\"AF24A18C-F8BD-4742-AAF8-955E7AF86206\\\\\",\\\\\"dynamicStateGuid\\\\\":\\\\\"d0450ef1-aa1e-4240-8ef5-a1721f3e3564\\\\\",\\\\\"isFormValid\\\\\":true,\\\\\"fileTemplate\\\\\":\\\\\"recency\\\\\"}\",\"formValues\":\"{\\\\\"tblEty\\\\\":314}\"}'\n",
    "    #response = requests.post('https://evidencecentral.org/api/fileTemplate/process/html', headers=headers, data=data)"
   ]
  },
  {
   "cell_type": "code",
   "execution_count": null,
   "metadata": {},
   "outputs": [],
   "source": [
    "def call_http(requests, path):\n",
    "    path_route = path.replace(\"https://evidencecentral.org\", \"\")\n",
    "    print(path_route)\n",
    "    headers = {\n",
    "        'Content-Type': 'application/json',\n",
    "    }\n",
    "\n",
    "    json_data = {\n",
    "        'tblnm': 'virctnrnyvw',\n",
    "        'templateId': 116,\n",
    "        'parameters': '{\"tblEty\":314,\"prnFomtplhdrID\":116,\"path\":\"'+path_route+'\",\"templateKey\":\"PAGES/CONTENT_RECENCY_VIEWER\",\"uiKey\":\"AF24A18C-F8BD-4742-AAF8-955E7AF86206\",\"dynamicStateGuid\":\"d0450ef1-aa1e-4240-8ef5-a1721f3e3564\",\"isFormValid\":true,\"fileTemplate\":\"recency\"}',\n",
    "        'formValues': '{\"tblEty\":314}',\n",
    "    }\n",
    "    response = requests.post('https://evidencecentral.org/api/fileTemplate/process/html', headers=headers, json=json_data)\n",
    "\n",
    "    return response\n",
    "\n",
    "    # Note: json_data will not be serialized by requests\n",
    "    # exactly as it was in the original request.\n",
    "    #data = '{\"tblnm\":\"virctnrnyvw\",\"templateId\":116,\"parameters\":\"{\\\\\"tblEty\\\\\":314,\\\\\"prnFomtplhdrID\\\\\":116,\\\\\"path\\\\\":\\\\\"/recency/evidence/make-a-record\\\\\",\\\\\"templateKey\\\\\":\\\\\"PAGES/CONTENT_RECENCY_VIEWER\\\\\",\\\\\"uiKey\\\\\":\\\\\"AF24A18C-F8BD-4742-AAF8-955E7AF86206\\\\\",\\\\\"dynamicStateGuid\\\\\":\\\\\"d0450ef1-aa1e-4240-8ef5-a1721f3e3564\\\\\",\\\\\"isFormValid\\\\\":true,\\\\\"fileTemplate\\\\\":\\\\\"recency\\\\\"}\",\"formValues\":\"{\\\\\"tblEty\\\\\":314}\"}'\n",
    "    #response = requests.post('https://evidencecentral.org/api/fileTemplate/process/html', headers=headers, data=data)"
   ]
  },
  {
   "cell_type": "code",
   "execution_count": null,
   "metadata": {},
   "outputs": [],
   "source": [
    "# status_code, html = get_page(host, delay_seconds)\n",
    "response = get_http(requests, host)\n",
    "xml_content = response.content\n",
    "xml_links = extract_text(xml_content)\n",
    "print(xml_links[2])\n"
   ]
  },
  {
   "cell_type": "code",
   "execution_count": null,
   "metadata": {},
   "outputs": [],
   "source": [
    "for url in xml_links:\n",
    "    # print(url)\n",
    "    path_file =  get_path(url)\n",
    "    print(path_file)\n",
    "    if os.path.exists(path_file):\n",
    "        continue\n",
    "    html = call_http(requests, url)\n",
    "    print(html.content)\n",
    "    # if status_code != 200:\n",
    "    #     print(\"Error!\", status_code , url)\n",
    "    #     continue\n",
    "    save_page(path_file,url,html.content.decode('utf-8'))\n",
    "    \n",
    "print(\"End\")"
   ]
  }
 ],
 "metadata": {
  "kernelspec": {
   "display_name": "models",
   "language": "python",
   "name": "models"
  },
  "language_info": {
   "codemirror_mode": {
    "name": "ipython",
    "version": 3
   },
   "file_extension": ".py",
   "mimetype": "text/x-python",
   "name": "python",
   "nbconvert_exporter": "python",
   "pygments_lexer": "ipython3",
   "version": "3.10.0"
  }
 },
 "nbformat": 4,
 "nbformat_minor": 4
}
