{
 "cells": [
  {
   "cell_type": "code",
   "execution_count": null,
   "metadata": {},
   "outputs": [],
   "source": [
    "%load_ext autoreload\n",
    "%autoreload 2"
   ]
  },
  {
   "cell_type": "code",
   "execution_count": null,
   "metadata": {},
   "outputs": [],
   "source": [
    "from datetime import datetime\n",
    "import os\n",
    "from urllib.parse import urlparse\n",
    "from langchain.document_loaders import UnstructuredWordDocumentLoader\n",
    "from langchain.schema.document import Document\n",
    "from langchain.text_splitter import RecursiveCharacterTextSplitter\n",
    "\n",
    "from models.load_utils import save_docs_to_jsonl"
   ]
  },
  {
   "cell_type": "code",
   "execution_count": null,
   "metadata": {},
   "outputs": [],
   "source": [
    "\n",
    "path_dir  = '../data/raw/tnt/'\n",
    "output_dir = '../data/split/tnt/'\n",
    "docxs = []\n",
    "\n",
    "chunk_size = 2000\n",
    "chunk_overlap = 200\n",
    "length_function = len\n",
    "today = datetime.today().strftime('%Y-%m-%d')\n",
    "\n",
    "if not os.path.exists(output_dir):\n",
    "    os.makedirs(output_dir)\n",
    "\n",
    "if not os.path.exists(path_dir):\n",
    "    os.makedirs(path_dir)"
   ]
  },
  {
   "cell_type": "code",
   "execution_count": null,
   "metadata": {},
   "outputs": [],
   "source": [
    "file_data = []\n",
    "file_names = os.listdir(path_dir)\n",
    "for file in file_names:\n",
    "    docxs.append(path_dir + file)\n",
    "for doc in docxs:\n",
    "    loader = UnstructuredWordDocumentLoader(doc, mode=\"elements\")\n",
    "    data = []\n",
    "    data = loader.load()\n",
    "    file_data.extend(data)\n"
   ]
  },
  {
   "cell_type": "code",
   "execution_count": null,
   "metadata": {},
   "outputs": [],
   "source": [
    "text_splitter = RecursiveCharacterTextSplitter(\n",
    "    chunk_size=chunk_size,\n",
    "    chunk_overlap=chunk_overlap,\n",
    "    length_function=length_function,\n",
    ")"
   ]
  },
  {
   "cell_type": "code",
   "execution_count": null,
   "metadata": {},
   "outputs": [],
   "source": [
    "def load_docx(page_cont, page_met, page_title) -> Document:\n",
    "    \"\"\"Load docxs from tnt document\"\"\"\n",
    "    title = page_title\n",
    "    content = page_cont\n",
    "    page_met[\"title\"] = page_title\n",
    "    metadata = page_met\n",
    "\n",
    "    return Document(page_content=content, metadata=metadata)"
   ]
  },
  {
   "cell_type": "code",
   "execution_count": null,
   "metadata": {},
   "outputs": [],
   "source": [
    "len(file_data)"
   ]
  },
  {
   "cell_type": "code",
   "execution_count": null,
   "metadata": {},
   "outputs": [],
   "source": [
    "docs = []\n",
    "pages = []\n",
    "for item in file_data:\n",
    "    if item.metadata.get(\"page_number\") is None:\n",
    "        page_num = \"\"\n",
    "    else:\n",
    "        page_num = str(item.metadata[\"page_number\"])\n",
    "\n",
    "    title = item.metadata[\"filename\"].replace(\".docx\", \"\") + \" - page_number:\" + page_num\n",
    "    content = item.page_content\n",
    "    pages.append(load_docx(content, item.metadata, title))\n",
    "\n",
    "splits = text_splitter.split_documents(pages)\n",
    "print(f\"Created {len(splits)} splits\")\n",
    "for ix, split in enumerate(splits[:10]):\n",
    "    print(ix, split.metadata[\"page_number\"], split.metadata[\"title\"])\n",
    "    print(split.page_content)\n",
    "    print(\"\\n!!! SPLIT !!!\\n\")\n",
    "    docs.extend(splits)"
   ]
  },
  {
   "cell_type": "code",
   "execution_count": null,
   "metadata": {},
   "outputs": [],
   "source": [
    "len(docs)"
   ]
  },
  {
   "cell_type": "code",
   "execution_count": null,
   "metadata": {},
   "outputs": [],
   "source": [
    "filename = os.path.join(output_dir, f\"{today}.jsonl\")\n",
    "save_docs_to_jsonl(docs, filename)\n"
   ]
  },
  {
   "cell_type": "code",
   "execution_count": null,
   "metadata": {},
   "outputs": [],
   "source": []
  }
 ],
 "metadata": {
  "kernelspec": {
   "display_name": "models",
   "language": "python",
   "name": "models"
  },
  "language_info": {
   "codemirror_mode": {
    "name": "ipython",
    "version": 3
   },
   "file_extension": ".py",
   "mimetype": "text/x-python",
   "name": "python",
   "nbconvert_exporter": "python",
   "pygments_lexer": "ipython3",
   "version": "3.10.0"
  }
 },
 "nbformat": 4,
 "nbformat_minor": 4
}
