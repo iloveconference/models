{
 "cells": [
  {
   "cell_type": "markdown",
   "metadata": {},
   "source": [
    "# Crawl, load, and split PDFs"
   ]
  },
  {
   "cell_type": "code",
   "execution_count": null,
   "metadata": {},
   "outputs": [],
   "source": [
    "%load_ext autoreload\n",
    "%autoreload 2\n",
    "%load_ext dotenv\n",
    "%dotenv"
   ]
  },
  {
   "cell_type": "code",
   "execution_count": null,
   "metadata": {},
   "outputs": [],
   "source": [
    "from datetime import datetime\n",
    "import os\n",
    "import re\n",
    "\n",
    "from langchain.document_loaders import UnstructuredFileLoader\n",
    "from langchain.schema.document import Document\n",
    "import urllib.request\n",
    "\n",
    "from models.load_utils import create_pages_from_unstructured_elements, save_docs_to_jsonl\n",
    "from models.split_model import SyntacticEmbeddingSplitter"
   ]
  },
  {
   "cell_type": "code",
   "execution_count": null,
   "metadata": {},
   "outputs": [],
   "source": [
    "# configure\n",
    "# url, title, first page\n",
    "pdfs = [\n",
    "    (\"https://archive.bookofmormoncentral.org/sites/default/files/archive-files/pdf/smoot/2021-12-25/pgp_study_edition_stephen_o_smoot.pdf\",\n",
    "     \"The Pearl of Great Price: A Study Edition for Latter-day Saints\",\n",
    "     7),\n",
    "    (\"https://archive.bookofmormoncentral.org/sites/default/files/archive-files/pdf/bennett/2019-03-04/jim_bennett_a_faithful_reply_to_the_ces_letter_from_a_former_ces_employee_2018.pdf\",\n",
    "     \"A CES Letter Reply: Faithful Answers For Those Who Doubt\",\n",
    "    9),\n",
    "    (\"https://archive.bookofmormoncentral.org/sites/default/files/archive-files/pdf/ash/2016-08-10/bamboozled-by-the-ces-letter-final1.pdf\",\n",
    "     \"Bamboozled by the CES Letter\",\n",
    "    12),\n",
    "    ('https://archive.bookofmormoncentral.org/sites/default/files/archive-files/pdf/welch/2020-01-10/jww_notes_combined.pdf',\n",
    "     'John W. Welch Notes - Come Follow Me',\n",
    "     1),\n",
    "]\n",
    "\n",
    "path_dir  = '../data/raw/pdfs/'\n",
    "output_dir = '../data/split/pdfs/'\n",
    "\n",
    "today = datetime.today().strftime('%Y-%m-%d')\n",
    "\n",
    "if not os.path.exists(output_dir):\n",
    "    os.makedirs(output_dir)\n",
    "\n",
    "if not os.path.exists(path_dir):\n",
    "    os.makedirs(path_dir)"
   ]
  },
  {
   "cell_type": "code",
   "execution_count": null,
   "metadata": {},
   "outputs": [],
   "source": [
    "def get_path(dir, title):\n",
    "    return os.path.join(dir, re.sub('[^a-zA-Z0-9]', '-', title).lower()+'.pdf')"
   ]
  },
  {
   "cell_type": "code",
   "execution_count": null,
   "metadata": {},
   "outputs": [],
   "source": [
    "text_splitter = SyntacticEmbeddingSplitter()"
   ]
  },
  {
   "cell_type": "code",
   "execution_count": null,
   "metadata": {},
   "outputs": [],
   "source": [
    "docs = []\n",
    "for url, title, first_page in pdfs:\n",
    "    path = get_path(path_dir, title)\n",
    "    print(f\"Processing {url} {path}\")\n",
    "    # download file if it doesn't exist\n",
    "    if not os.path.exists(path):\n",
    "        response = urllib.request.urlretrieve(url, path)\n",
    "        print(response)\n",
    "        print(f\"Downloaded {url}\")\n",
    "    # load file\n",
    "    loader = UnstructuredFileLoader(path, mode=\"elements\")\n",
    "    elements = loader.load()\n",
    "    # create pages\n",
    "    pages = create_pages_from_unstructured_elements(elements, title, first_page, url)\n",
    "    print(f\"Processed {len(pages)} pages\")\n",
    "    # split pages\n",
    "    splits = text_splitter.split_documents(pages, verbose=True)\n",
    "    print(f\"Created {len(splits)} splits\")\n",
    "    for ix, split in enumerate(splits[:10]):\n",
    "        print(ix, split.metadata[\"url\"], split.metadata[\"title\"])\n",
    "        print(split.page_content)\n",
    "        print(\"\\n!!! SPLIT !!!\\n\")\n",
    "    docs.extend(splits)"
   ]
  },
  {
   "cell_type": "code",
   "execution_count": null,
   "metadata": {},
   "outputs": [],
   "source": [
    "len(docs)"
   ]
  },
  {
   "cell_type": "code",
   "execution_count": null,
   "metadata": {},
   "outputs": [],
   "source": [
    "filename = os.path.join(output_dir, f\"{today}.jsonl\")\n",
    "save_docs_to_jsonl(docs, filename)"
   ]
  },
  {
   "cell_type": "code",
   "execution_count": null,
   "metadata": {},
   "outputs": [],
   "source": []
  }
 ],
 "metadata": {
  "kernelspec": {
   "display_name": "scqa-models",
   "language": "python",
   "name": "scqa-models"
  },
  "language_info": {
   "codemirror_mode": {
    "name": "ipython",
    "version": 3
   },
   "file_extension": ".py",
   "mimetype": "text/x-python",
   "name": "python",
   "nbconvert_exporter": "python",
   "pygments_lexer": "ipython3",
   "version": "3.10.0"
  }
 },
 "nbformat": 4,
 "nbformat_minor": 4
}
