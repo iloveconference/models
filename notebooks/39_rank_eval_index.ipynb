{
 "cells": [
  {
   "cell_type": "markdown",
   "metadata": {},
   "source": [
    "# Evaluate a ranking algorithm\n",
    "Compare results of querying an index against the labeled results using NDCG."
   ]
  },
  {
   "cell_type": "code",
   "execution_count": null,
   "metadata": {},
   "outputs": [],
   "source": [
    "%load_ext autoreload\n",
    "%autoreload 2\n",
    "%load_ext dotenv\n",
    "%dotenv"
   ]
  },
  {
   "cell_type": "code",
   "execution_count": null,
   "metadata": {},
   "outputs": [],
   "source": [
    "import hashlib\n",
    "import json\n",
    "import os\n",
    "import re\n",
    "\n",
    "import openai\n",
    "import pinecone\n",
    "from tqdm.autonotebook import tqdm\n",
    "\n",
    "from models.rank_eval import get_ndcg"
   ]
  },
  {
   "cell_type": "code",
   "execution_count": null,
   "metadata": {},
   "outputs": [],
   "source": [
    "# configure\n",
    "labels_path = '../data/rank/labeled_results/2023-04-21.json'\n",
    "ndcg_at = 10\n",
    "\n",
    "# pinecone\n",
    "pinecone_key = os.environ['PINECONE_KEY']\n",
    "pinecone_region = 'us-west1-gcp'\n",
    "pinecone_index = 'conf-ada-002'\n",
    "\n",
    "# index embedder\n",
    "embedding_model = 'text-embedding-ada-002'\n",
    "embedding_len = 1536\n",
    "embedding_metric = 'cosine'"
   ]
  },
  {
   "cell_type": "code",
   "execution_count": null,
   "metadata": {},
   "outputs": [],
   "source": [
    "def get_query_embedding(query):\n",
    "    return openai.Embedding.create(input=query, \n",
    "                                   engine=embedding_model)['data'][0]['embedding']"
   ]
  },
  {
   "cell_type": "code",
   "execution_count": null,
   "metadata": {},
   "outputs": [],
   "source": [
    "# init pinecone\n",
    "pinecone.init(\n",
    "    api_key=pinecone_key,\n",
    "    environment=pinecone_region,\n",
    ")\n",
    "# connect to index\n",
    "index = pinecone.Index(pinecone_index)"
   ]
  },
  {
   "cell_type": "code",
   "execution_count": null,
   "metadata": {},
   "outputs": [],
   "source": [
    "# init openai\n",
    "openai.organization = os.environ['OPENAI_ORG']\n",
    "openai.api_key = os.environ['OPENAI_KEY']\n",
    "openai.Engine.list()"
   ]
  },
  {
   "cell_type": "markdown",
   "metadata": {},
   "source": [
    "## Read labels"
   ]
  },
  {
   "cell_type": "code",
   "execution_count": null,
   "metadata": {},
   "outputs": [],
   "source": [
    "with open(labels_path, 'r') as f:\n",
    "    labels = json.load(f)\n",
    "print(len(labels))"
   ]
  },
  {
   "cell_type": "markdown",
   "metadata": {},
   "source": [
    "### Make result id a hash of result contents so we can compare prod to dev ids"
   ]
  },
  {
   "cell_type": "code",
   "execution_count": null,
   "metadata": {},
   "outputs": [],
   "source": [
    "def hash_result(text):\n",
    "    text = re.sub(r\"\\s+\", \"\", text).lower().strip()\n",
    "    return hashlib.md5(text.encode()).hexdigest()"
   ]
  },
  {
   "cell_type": "code",
   "execution_count": null,
   "metadata": {},
   "outputs": [],
   "source": [
    "labels = [{'query': label['query'],\n",
    "           'results': [\n",
    "               {'id': hash_result(result['text']),\n",
    "                'score': result['score'],\n",
    "                'text': result['text']\n",
    "               } for result in label['results']]\n",
    "          } for label in labels]"
   ]
  },
  {
   "cell_type": "code",
   "execution_count": null,
   "metadata": {},
   "outputs": [],
   "source": [
    "labels[0]"
   ]
  },
  {
   "cell_type": "markdown",
   "metadata": {},
   "source": [
    "## Issue queries"
   ]
  },
  {
   "cell_type": "code",
   "execution_count": null,
   "metadata": {},
   "outputs": [],
   "source": [
    "total_ndcg = 0.0\n",
    "for label in labels:\n",
    "    query = label['query']\n",
    "    query_embedding = get_query_embedding(query)\n",
    "    res = index.query([query_embedding], top_k=20, include_metadata=True)\n",
    "    results = [{\n",
    "        'id': hash_result(match['metadata']['text']),\n",
    "        'score': match['score'],\n",
    "        'text': match['metadata']['text'],\n",
    "    } for match in res['matches']]\n",
    "    ndcg = get_ndcg(label['results'], results, k=ndcg_at)\n",
    "    print(query, ndcg)\n",
    "    total_ndcg += ndcg\n",
    "avg_ndcg = total_ndcg / len(labels)"
   ]
  },
  {
   "cell_type": "markdown",
   "metadata": {},
   "source": [
    "## Print Average Normalized Discounted Cumulative Gain"
   ]
  },
  {
   "cell_type": "code",
   "execution_count": null,
   "metadata": {},
   "outputs": [],
   "source": [
    "print(\"avg_ndcg\", avg_ndcg)"
   ]
  },
  {
   "cell_type": "code",
   "execution_count": null,
   "metadata": {},
   "outputs": [],
   "source": []
  }
 ],
 "metadata": {
  "kernelspec": {
   "display_name": "ilc-models",
   "language": "python",
   "name": "ilc-models"
  },
  "language_info": {
   "codemirror_mode": {
    "name": "ipython",
    "version": 3
   },
   "file_extension": ".py",
   "mimetype": "text/x-python",
   "name": "python",
   "nbconvert_exporter": "python",
   "pygments_lexer": "ipython3",
   "version": "3.10.9"
  }
 },
 "nbformat": 4,
 "nbformat_minor": 1
}
