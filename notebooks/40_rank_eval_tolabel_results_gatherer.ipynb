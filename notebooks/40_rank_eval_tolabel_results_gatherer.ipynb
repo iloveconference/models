{
 "cells": [
  {
   "cell_type": "markdown",
   "id": "88bde2ca",
   "metadata": {},
   "source": [
    "# Analyze search and ratings logs to generate unrated queries and results from rated queries to label\n",
    "\n"
   ]
  },
  {
   "cell_type": "code",
   "execution_count": null,
   "id": "d04df096",
   "metadata": {},
   "outputs": [],
   "source": [
    "%load_ext autoreload\n",
    "%autoreload 2\n",
    "%load_ext dotenv\n",
    "%dotenv"
   ]
  },
  {
   "cell_type": "code",
   "execution_count": null,
   "id": "a98c95f4",
   "metadata": {},
   "outputs": [],
   "source": [
    "from datetime import datetime\n",
    "import os\n",
    "\n",
    "import pandas as pd\n",
    "\n",
    "from models.rank_eval_utils import load_logs, get_log_messages"
   ]
  },
  {
   "cell_type": "code",
   "execution_count": null,
   "id": "e5e6735d",
   "metadata": {},
   "outputs": [],
   "source": [
    "# config\n",
    "query_dir = '../data/rank_eval/queries'\n",
    "results_dir = '../data/rank_eval/unlabeled_results'\n",
    "today = datetime.today().strftime('%Y-%m-%d')\n",
    "log_bucket = 'iloveconference.logs'"
   ]
  },
  {
   "cell_type": "code",
   "execution_count": null,
   "id": "7ff3224d",
   "metadata": {},
   "outputs": [],
   "source": [
    "# load logs\n",
    "logs = load_logs(log_bucket)"
   ]
  },
  {
   "cell_type": "markdown",
   "id": "1504134d",
   "metadata": {},
   "source": [
    "## Analyze searches"
   ]
  },
  {
   "cell_type": "code",
   "execution_count": null,
   "id": "c9f935e1",
   "metadata": {},
   "outputs": [],
   "source": [
    "# get search messages from log\n",
    "searches = get_log_messages(logs, \"search\")\n",
    "len(searches)"
   ]
  },
  {
   "cell_type": "code",
   "execution_count": null,
   "id": "7bcbd6ef",
   "metadata": {},
   "outputs": [],
   "source": [
    "# get session -> query\n",
    "session_queries = {msg[\"response\"][\"session\"]: msg[\"response\"][\"q\"].lower() for msg in searches}\n",
    "len(session_queries)"
   ]
  },
  {
   "cell_type": "code",
   "execution_count": null,
   "id": "f64388fc",
   "metadata": {},
   "outputs": [],
   "source": [
    "# get session queries as a dataframe\n",
    "session_queries_df = pd.DataFrame([{\"session\": k, \"query\": v} \\\n",
    "                                   for k, v in session_queries.items()])"
   ]
  },
  {
   "cell_type": "code",
   "execution_count": null,
   "id": "e4aa958a",
   "metadata": {},
   "outputs": [],
   "source": [
    "# get unique queries\n",
    "queries = set(session_queries.values())\n",
    "len(queries)"
   ]
  },
  {
   "cell_type": "code",
   "execution_count": null,
   "id": "2b050598",
   "metadata": {},
   "outputs": [],
   "source": [
    "# get results dataframe\n",
    "results = {result[\"id\"]: result[\"text\"]\n",
    "           for msg in searches for result in msg[\"response\"][\"results\"]}\n",
    "results_df = pd.DataFrame([{\"result\": k, \"text\": v.replace(\"\\n\", \" \")} \\\n",
    "                           for k, v in results.items()])\n",
    "print(results_df.shape)\n",
    "results_df.head(3)                        "
   ]
  },
  {
   "cell_type": "markdown",
   "id": "5a179211",
   "metadata": {},
   "source": [
    "## Analyze ratings"
   ]
  },
  {
   "cell_type": "code",
   "execution_count": null,
   "id": "1f41ab95",
   "metadata": {},
   "outputs": [],
   "source": [
    "# get rate messages from log\n",
    "ratings = get_log_messages(logs, \"rate\")\n",
    "len(ratings)"
   ]
  },
  {
   "cell_type": "code",
   "execution_count": null,
   "id": "d3ee0db1",
   "metadata": {},
   "outputs": [],
   "source": [
    "ratings[-1]"
   ]
  },
  {
   "cell_type": "code",
   "execution_count": null,
   "id": "44d90b4b",
   "metadata": {},
   "outputs": [],
   "source": [
    "# convert to a dataframe so we can do some math\n",
    "ratings_df = pd.DataFrame(ratings)[[\"session\", \"user\", \"result\", \"score\"]]\n",
    "print(ratings_df.shape)\n",
    "ratings_df.head(3)"
   ]
  },
  {
   "cell_type": "code",
   "execution_count": null,
   "id": "4f5d7451",
   "metadata": {},
   "outputs": [],
   "source": [
    "# sum score by (session, result)\n",
    "ratings_df = ratings_df.groupby([\"session\", \"user\", \"result\"]).agg({\"score\": \"sum\"})\n",
    "ratings_df = ratings_df.reset_index()\n",
    "print(ratings_df.shape)\n",
    "ratings_df.head(3)"
   ]
  },
  {
   "cell_type": "code",
   "execution_count": null,
   "id": "e71e6da3",
   "metadata": {},
   "outputs": [],
   "source": [
    "# count the number of positively-rated results in each session\n",
    "pos_results_df = ratings_df[ratings_df[\"score\"] > 0]\n",
    "print(pos_results_df.shape)\n",
    "pos_results_df.head(3)"
   ]
  },
  {
   "cell_type": "code",
   "execution_count": null,
   "id": "863d969f",
   "metadata": {},
   "outputs": [],
   "source": [
    "rated_sessions_df = pos_results_df.groupby([\"session\", \"user\"]) \\\n",
    "                                  .size().reset_index(name=\"count\")\n",
    "print(rated_sessions_df.shape)\n",
    "rated_sessions_df.head(3)"
   ]
  },
  {
   "cell_type": "markdown",
   "id": "d743bd58",
   "metadata": {},
   "source": [
    "## Find sessions with multiple ratings"
   ]
  },
  {
   "cell_type": "code",
   "execution_count": null,
   "id": "0e77f9ed",
   "metadata": {},
   "outputs": [],
   "source": [
    "# find sessions with at least 3 positive ratings\n",
    "rated_sessions_df = rated_sessions_df[rated_sessions_df[\"count\"] >= 3]\n",
    "print(rated_sessions_df.shape)\n",
    "rated_sessions_df"
   ]
  },
  {
   "cell_type": "markdown",
   "id": "92f26476",
   "metadata": {},
   "source": [
    "## Find users who have rated multiple sessions"
   ]
  },
  {
   "cell_type": "code",
   "execution_count": null,
   "id": "59e56e9f",
   "metadata": {},
   "outputs": [],
   "source": [
    "user_sessions_df = rated_sessions_df.groupby([\"user\"]) \\\n",
    "                                  .size().reset_index(name=\"count\")\n",
    "print(user_sessions_df.shape)\n",
    "user_sessions_df"
   ]
  },
  {
   "cell_type": "code",
   "execution_count": null,
   "id": "7a9892c0",
   "metadata": {},
   "outputs": [],
   "source": [
    "# join rated_sessions_df (user, session) with session_queries_df (session_query) \n",
    "# and sort by user to see which users have rated which queries\n",
    "user_queries_df = pd.merge(rated_sessions_df[[\"session\", \"user\"]],\n",
    "                           session_queries_df[[\"session\", \"query\"]], on =\"session\")\n",
    "user_queries_df.sort_values(\"user\")"
   ]
  },
  {
   "cell_type": "code",
   "execution_count": null,
   "id": "3ed31f10",
   "metadata": {},
   "outputs": [],
   "source": [
    "expected_raters = set([-22456524306, -15390087832, -7946136890, -7192848417, -4647803836, 9431498551, 10333592859, 22258490670])\n",
    "unexpected_raters = set([-8626982686, 32997089357])"
   ]
  },
  {
   "cell_type": "code",
   "execution_count": null,
   "id": "39a53eb4",
   "metadata": {},
   "outputs": [],
   "source": [
    "rated_sessions_df[rated_sessions_df[\"user\"].isin(unexpected_raters)]"
   ]
  },
  {
   "cell_type": "markdown",
   "id": "070ce7bc",
   "metadata": {},
   "source": [
    "## Find rated queries"
   ]
  },
  {
   "cell_type": "code",
   "execution_count": null,
   "id": "904db440",
   "metadata": {},
   "outputs": [],
   "source": [
    "rated_sessions = rated_sessions_df[\"session\"].tolist()\n",
    "rated_queries = {v for k, v in session_queries.items() if k in rated_sessions}\n",
    "len(rated_queries)"
   ]
  },
  {
   "cell_type": "markdown",
   "id": "a475bc20",
   "metadata": {},
   "source": [
    "## Write unrated queries"
   ]
  },
  {
   "cell_type": "code",
   "execution_count": null,
   "id": "38b519d1",
   "metadata": {},
   "outputs": [],
   "source": [
    "unrated_queries = queries - rated_queries\n",
    "len(unrated_queries)"
   ]
  },
  {
   "cell_type": "code",
   "execution_count": null,
   "id": "35384eb4",
   "metadata": {},
   "outputs": [],
   "source": [
    "filename = os.path.join(query_dir, f\"{today}.csv\")\n",
    "unrated_queries_df = pd.DataFrame(unrated_queries, columns=[\"Query\"])\n",
    "unrated_queries_df.to_csv(filename, index=False)"
   ]
  },
  {
   "cell_type": "markdown",
   "id": "2742982b",
   "metadata": {},
   "source": [
    "## Write rated queries with results for labeling"
   ]
  },
  {
   "cell_type": "code",
   "execution_count": null,
   "id": "743db8c7",
   "metadata": {},
   "outputs": [],
   "source": [
    "# join rated_sessions_df (session, user) with pos_results_df (session, result),\n",
    "# results_df (result, text, anchor) and session_queries_df (session, query)\n",
    "# to create unlabeled_results (query, result, text, session, user)\n",
    "unlabeled_results_df = pd.merge(rated_sessions_df[[\"session\", \"user\"]], \n",
    "                               pos_results_df[[\"session\", \"result\"]], on=\"session\")\n",
    "unlabeled_results_df = pd.merge(unlabeled_results_df, results_df, on=\"result\")   \n",
    "unlabeled_results_df = pd.merge(unlabeled_results_df, session_queries_df, on=\"session\")\n",
    "unlabeled_results_df = unlabeled_results_df[[\"query\", \"text\", \"result\"]]\n",
    "unlabeled_results_df = unlabeled_results_df.drop_duplicates()\n",
    "unlabeled_results_df = unlabeled_results_df.sort_values([\"query\", \"result\"])\n",
    "print(unlabeled_results_df.shape)\n",
    "unlabeled_results_df.head(3)"
   ]
  },
  {
   "cell_type": "code",
   "execution_count": null,
   "id": "4924d208",
   "metadata": {},
   "outputs": [],
   "source": [
    "# write unlabeled results\n",
    "filename = os.path.join(results_dir, f\"{today}.csv\")\n",
    "unlabeled_results_df.to_csv(filename, index=False)"
   ]
  },
  {
   "cell_type": "code",
   "execution_count": null,
   "id": "7b581126",
   "metadata": {},
   "outputs": [],
   "source": []
  }
 ],
 "metadata": {
  "kernelspec": {
   "display_name": "Python 3 (ipykernel)",
   "language": "python",
   "name": "python3"
  },
  "language_info": {
   "codemirror_mode": {
    "name": "ipython",
    "version": 3
   },
   "file_extension": ".py",
   "mimetype": "text/x-python",
   "name": "python",
   "nbconvert_exporter": "python",
   "pygments_lexer": "ipython3",
   "version": "3.8.5"
  }
 },
 "nbformat": 4,
 "nbformat_minor": 5
}
