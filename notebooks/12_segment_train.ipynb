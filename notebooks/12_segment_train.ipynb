{
 "cells": [
  {
   "cell_type": "markdown",
   "id": "ae18a72b",
   "metadata": {},
   "source": [
    "# Train a segment classifier\n",
    "Given two texts, train a classifier to predict whether they belong to the same segment."
   ]
  },
  {
   "cell_type": "code",
   "execution_count": null,
   "id": "ad22063f",
   "metadata": {},
   "outputs": [],
   "source": [
    "%load_ext autoreload\n",
    "%autoreload 2"
   ]
  },
  {
   "cell_type": "code",
   "execution_count": null,
   "id": "591d7b62",
   "metadata": {},
   "outputs": [],
   "source": [
    "from datetime import datetime\n",
    "import json\n",
    "import math\n",
    "import os\n",
    "\n",
    "from transformers import pipeline\n",
    "\n",
    "from models.segment_eval import eval_segment_boundaries"
   ]
  },
  {
   "cell_type": "code",
   "execution_count": null,
   "id": "7b256625",
   "metadata": {},
   "outputs": [],
   "source": [
    "# configure\n",
    "input_dir = '../data/segment/labeled/'\n",
    "in_filename = '2023-03-18.json'\n",
    "\n",
    "output_dir = '../data/segment/model/'\n",
    "today = datetime.today().strftime('%Y-%m-%d')\n"
   ]
  },
  {
   "cell_type": "code",
   "execution_count": null,
   "id": "99e02209",
   "metadata": {},
   "outputs": [],
   "source": [
    "pipe = pipeline(\"text-classification\", model=\"dennlinger/bert-wiki-paragraphs\")"
   ]
  },
  {
   "cell_type": "code",
   "execution_count": null,
   "id": "541af210",
   "metadata": {},
   "outputs": [],
   "source": [
    "# read labeled data\n",
    "with open(os.path.join(input_dir, in_filename)) as f:\n",
    "    talk_sections = json.load(f)"
   ]
  },
  {
   "cell_type": "code",
   "execution_count": null,
   "id": "8c63efc1",
   "metadata": {},
   "outputs": [],
   "source": [
    "# predict segments using bert-wiki-paragraphs to begin\n",
    "def predict_segments(paragraphs, threshold):\n",
    "    current = 1\n",
    "    segments = [current]\n",
    "    for i in range(1, len(paragraphs)):\n",
    "        para_pair = f\"{paragraphs[i-1]} [SEP] {paragraphs[i]}\"\n",
    "        result = pipe(para_pair, truncation=True)[0]\n",
    "        if result['score'] < threshold:\n",
    "            current += 1\n",
    "        segments.append(current)\n",
    "    return segments"
   ]
  },
  {
   "cell_type": "code",
   "execution_count": null,
   "id": "a25797b1",
   "metadata": {},
   "outputs": [],
   "source": [
    "# predict segments for each talk_section\n",
    "for talk_section in talk_sections:\n",
    "    paragraphs = [paragraph_segment['text'] for paragraph_segment in talk_section['paragraphs']]\n",
    "    true_segments = [paragraph_segment['segment'] for paragraph_segment in talk_section['paragraphs']]\n",
    "    print(true_segments)\n",
    "    # predict\n",
    "    pred_segments = predict_segments(paragraphs, 0.85)\n",
    "    print(pred_segments)\n",
    "    # eval - lower is better\n",
    "    pk_diff, window_diff = eval_segment_boundaries(true_segments, pred_segments)\n",
    "    print(pk_diff, window_diff)"
   ]
  },
  {
   "cell_type": "markdown",
   "id": "f546d104",
   "metadata": {},
   "source": [
    "Consider training a model by generating pairs of paragraph n-grams: (paragraph n-grams, paragraph n-grams). For each sequence of paragraph n-grams in the pair, the paragraphs must all belong to the same segment. Label the pair with a 1 if both sequences of paragraph n-grams belong to the same segment, or a 0 if the sequences of paragraph n-grams belong to different segments."
   ]
  }
 ],
 "metadata": {
  "kernelspec": {
   "display_name": "ilc-models",
   "language": "python",
   "name": "ilc-models"
  },
  "language_info": {
   "codemirror_mode": {
    "name": "ipython",
    "version": 3
   },
   "file_extension": ".py",
   "mimetype": "text/x-python",
   "name": "python",
   "nbconvert_exporter": "python",
   "pygments_lexer": "ipython3",
   "version": "3.10.9"
  }
 },
 "nbformat": 4,
 "nbformat_minor": 5
}
