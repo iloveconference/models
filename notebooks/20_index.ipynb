{
 "cells": [
  {
   "cell_type": "code",
   "execution_count": null,
   "metadata": {},
   "outputs": [],
   "source": [
    "%load_ext autoreload\n",
    "%autoreload 2\n",
    "%load_ext dotenv\n",
    "%dotenv"
   ]
  },
  {
   "cell_type": "code",
   "execution_count": null,
   "metadata": {},
   "outputs": [],
   "source": [
    "import json\n",
    "import os\n",
    "import pickle\n",
    "import re\n",
    "\n",
    "from IPython.display import display, Markdown\n",
    "import openai\n",
    "import pinecone\n",
    "from sentence_transformers import SentenceTransformer\n",
    "import spacy\n",
    "from tqdm import tqdm\n",
    "\n",
    "from models.data_utils import get_paragraph_texts_and_ids, get_segment_texts_and_ids\n",
    "from models.segment_train import get_mpnet_embedder, get_openai_embedder,\\\n",
    "    syntactic_paragraph_features, predict_using_features_and_ensemble"
   ]
  },
  {
   "cell_type": "code",
   "execution_count": null,
   "metadata": {},
   "outputs": [],
   "source": [
    "# configure\n",
    "data_dir = '../data/pre_process'\n",
    "segment_model_path = '../data/segment/model/2023-04-12.pkl'\n",
    "segment_threshold = 0.55\n",
    "max_segment_len = 500\n",
    "\n",
    "# pinecone\n",
    "pinecone_key = os.environ['PINECONE_KEY']\n",
    "pinecone_region = 'us-west1-gcp'\n",
    "pinecone_index = 'conf-ada-002'\n",
    "pinecone_batch_size = 32\n",
    "\n",
    "# spacy\n",
    "parser = spacy.load(\"en_core_web_sm\")\n",
    "\n",
    "# mpnet embedder for segmentation\n",
    "mpnet = SentenceTransformer('sentence-transformers/all-mpnet-base-v2')\n",
    "mpnet_embedder = get_mpnet_embedder(mpnet)\n",
    "\n",
    "# openai embedder for segmentation\n",
    "openai.organization = os.environ['OPENAI_ORG']\n",
    "openai.api_key = os.environ['OPENAI_KEY']\n",
    "openai.Engine.list()\n",
    "openai_embedder = get_openai_embedder(openai)\n",
    "\n",
    "# index embedder\n",
    "embedding_model = 'text-embedding-ada-002'\n",
    "embedding_len = 1536\n",
    "embedding_metric = 'cosine'"
   ]
  },
  {
   "cell_type": "code",
   "execution_count": null,
   "metadata": {},
   "outputs": [],
   "source": [
    "# load segment classifier\n",
    "with open(segment_model_path,'rb') as f:\n",
    "    clf = pickle.load(f)"
   ]
  },
  {
   "cell_type": "code",
   "execution_count": null,
   "metadata": {},
   "outputs": [],
   "source": [
    "# create pinecone index\n",
    "pinecone.init(\n",
    "    api_key=pinecone_key,\n",
    "    environment=pinecone_region,\n",
    ")\n",
    "# check if index already exists (only create index if not)\n",
    "if pinecone_index not in pinecone.list_indexes():\n",
    "    pinecone.create_index(pinecone_index, dimension=embedding_len, metric=embedding_metric)\n",
    "# connect to index\n",
    "index = pinecone.Index(pinecone_index)"
   ]
  },
  {
   "cell_type": "markdown",
   "metadata": {},
   "source": [
    "## Read and prepare conference talks"
   ]
  },
  {
   "cell_type": "code",
   "execution_count": null,
   "metadata": {},
   "outputs": [],
   "source": [
    "# create segmenter\n",
    "predictor = predict_using_features_and_ensemble(syntactic_paragraph_features,\n",
    "                                                openai_embedder,\n",
    "                                                mpnet_embedder,\n",
    "                                                parser,\n",
    "                                                clf,\n",
    "                                                segment_threshold)"
   ]
  },
  {
   "cell_type": "code",
   "execution_count": null,
   "metadata": {},
   "outputs": [],
   "source": [
    "# read conf talks\n",
    "index_entries = []\n",
    "for filename in tqdm(os.path.join(data_dir, f)\n",
    "                 for f in os.listdir(data_dir) if os.path.isfile(os.path.join(data_dir, f))):\n",
    "    with open(filename, 'r') as f:\n",
    "        data = json.load(f)\n",
    "\n",
    "    # get paragraphs\n",
    "    paragraph_texts_and_ids = get_paragraph_texts_and_ids(data['content'])\n",
    "    paragraphs = [paragraph_text_id[0] for paragraph_text_id in paragraph_texts_and_ids]\n",
    "\n",
    "    # get segments\n",
    "    segmentation = predictor(paragraphs)\n",
    "    segment_texts_and_ids = get_segment_texts_and_ids(paragraph_texts_and_ids,\n",
    "                                                      segmentation,\n",
    "                                                      max_segment_len = max_segment_len,\n",
    "                                                     )\n",
    "\n",
    "    # create index_entry for each segment\n",
    "    for segment_text_and_id in segment_texts_and_ids:\n",
    "        index_entries.append({\n",
    "            'year': data['year'],\n",
    "            'month': data['month'],\n",
    "            'url': data['url'],\n",
    "            'anchor': segment_text_and_id[1],\n",
    "            'title': data['title'],\n",
    "            'author': data['author'],\n",
    "            'text': segment_text_and_id[0],\n",
    "        })\n",
    "len(index_entries)"
   ]
  },
  {
   "cell_type": "code",
   "execution_count": null,
   "metadata": {},
   "outputs": [],
   "source": [
    "index_entries[0]"
   ]
  },
  {
   "cell_type": "markdown",
   "metadata": {},
   "source": [
    "## Get embeddings for and index conference talks"
   ]
  },
  {
   "cell_type": "code",
   "execution_count": null,
   "metadata": {
    "pycharm": {
     "is_executing": true
    }
   },
   "outputs": [],
   "source": [
    "# index conf talks\n",
    "count = 0  # we'll use the count to create unique IDs\n",
    "for i in tqdm(range(0, len(index_entries), pinecone_batch_size)):\n",
    "    # set end position of batch\n",
    "    i_end = min(i+pinecone_batch_size, len(index_entries))\n",
    "    # get batch of lines and IDs\n",
    "    index_batch = index_entries[i: i+pinecone_batch_size]\n",
    "    lines_batch = [index_entry['text'] for index_entry in index_batch]\n",
    "    ids_batch = [str(n) for n in range(i, i_end)]\n",
    "    # create embeddings\n",
    "    res = openai.Embedding.create(inpuhttp://localhost:8888/notebooks/notebooks/20_index.ipynb#t=lines_batch, engine=embedding_model)\n",
    "    embeds = [record['embedding'] for record in res['data']]\n",
    "    # upsert batch\n",
    "    to_upsert = zip(ids_batch, embeds, index_batch)\n",
    "    # upsert to Pinecone\n",
    "    index.upsert(vectors=list(to_upsert))"
   ]
  },
  {
   "cell_type": "markdown",
   "metadata": {},
   "source": [
    "## Test index"
   ]
  },
  {
   "cell_type": "code",
   "execution_count": null,
   "metadata": {
    "pycharm": {
     "is_executing": true
    }
   },
   "outputs": [],
   "source": [
    "# create embedding for query\n",
    "query = \"What are the blessings of keeping the sabbath day holy?\"\n",
    "\n",
    "query_embedding = openai.Embedding.create(input=query, engine=embedding_model)['data'][0]['embedding']"
   ]
  },
  {
   "cell_type": "code",
   "execution_count": null,
   "metadata": {
    "pycharm": {
     "is_executing": true
    }
   },
   "outputs": [],
   "source": [
    "# query pinecone\n",
    "res = index.query([query_embedding], top_k=5, include_metadata=True)\n",
    "res"
   ]
  },
  {
   "cell_type": "code",
   "execution_count": null,
   "metadata": {},
   "outputs": [],
   "source": []
  }
 ],
 "metadata": {
  "kernelspec": {
   "display_name": "ilc-models",
   "language": "python",
   "name": "ilc-models"
  },
  "language_info": {
   "codemirror_mode": {
    "name": "ipython",
    "version": 3
   },
   "file_extension": ".py",
   "mimetype": "text/x-python",
   "name": "python",
   "nbconvert_exporter": "python",
   "pygments_lexer": "ipython3",
   "version": "3.10.9"
  }
 },
 "nbformat": 4,
 "nbformat_minor": 1
}
