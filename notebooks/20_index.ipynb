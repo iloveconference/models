{
 "cells": [
  {
   "cell_type": "markdown",
   "metadata": {},
   "source": [
    "# Index segments"
   ]
  },
  {
   "cell_type": "code",
   "execution_count": null,
   "metadata": {},
   "outputs": [],
   "source": [
    "%load_ext autoreload\n",
    "%autoreload 2\n",
    "%load_ext dotenv\n",
    "%dotenv"
   ]
  },
  {
   "cell_type": "code",
   "execution_count": null,
   "metadata": {},
   "outputs": [],
   "source": [
    "import json\n",
    "import os\n",
    "import pickle\n",
    "import re\n",
    "\n",
    "from IPython.display import display, Markdown\n",
    "import openai\n",
    "import pinecone\n",
    "from sentence_transformers import SentenceTransformer\n",
    "import spacy\n",
    "from tqdm.autonotebook import tqdm\n",
    "\n",
    "from models.data_utils import get_paragraph_texts_and_ids, get_segment_texts_and_ids\n",
    "from models.segment_train import get_mpnet_embedder, get_openai_embedder,\\\n",
    "    syntactic_paragraph_features, predict_using_features_and_ensemble"
   ]
  },
  {
   "cell_type": "code",
   "execution_count": null,
   "metadata": {},
   "outputs": [],
   "source": [
    "# configure\n",
    "data_dir = '../data/pre_process'\n",
    "segment_path = '../data/segment/output/2023-04-21.json'\n",
    "\n",
    "# pinecone\n",
    "pinecone_key = os.environ['PINECONE_KEY']\n",
    "pinecone_region = 'us-west1-gcp'\n",
    "pinecone_index = 'conf-ada-002'\n",
    "pinecone_batch_size = 32\n",
    "\n",
    "# index embedder\n",
    "embedding_model = 'text-embedding-ada-002'\n",
    "embedding_len = 1536\n",
    "embedding_metric = 'cosine'"
   ]
  },
  {
   "cell_type": "code",
   "execution_count": null,
   "metadata": {},
   "outputs": [],
   "source": [
    "# init pinecone\n",
    "pinecone.init(\n",
    "    api_key=pinecone_key,\n",
    "    environment=pinecone_region,\n",
    ")"
   ]
  },
  {
   "cell_type": "code",
   "execution_count": null,
   "metadata": {},
   "outputs": [],
   "source": [
    "# init openai\n",
    "openai.organization = os.environ['OPENAI_ORG']\n",
    "openai.api_key = os.environ['OPENAI_KEY']\n",
    "openai.Engine.list()"
   ]
  },
  {
   "cell_type": "markdown",
   "metadata": {},
   "source": [
    "## Read segments"
   ]
  },
  {
   "cell_type": "code",
   "execution_count": null,
   "metadata": {},
   "outputs": [],
   "source": [
    "with open(segment_path, 'r') as f:\n",
    "    segments = json.load(f)\n",
    "print(len(segments))\n",
    "segments[0]"
   ]
  },
  {
   "cell_type": "markdown",
   "metadata": {},
   "source": [
    "## Add segments to index"
   ]
  },
  {
   "cell_type": "code",
   "execution_count": null,
   "metadata": {},
   "outputs": [],
   "source": [
    "# delete pinecone index\n",
    "pinecone.delete_index(pinecone_index)\n",
    "\n",
    "# create pineconde index\n",
    "pinecone.create_index(pinecone_index, \n",
    "                      pod_type='p1.x1',\n",
    "                      dimension=embedding_len, \n",
    "                      metric=embedding_metric,\n",
    "                     )\n",
    "\n",
    "# connect to index\n",
    "index = pinecone.Index(pinecone_index)"
   ]
  },
  {
   "cell_type": "code",
   "execution_count": null,
   "metadata": {
    "pycharm": {
     "is_executing": true
    }
   },
   "outputs": [],
   "source": [
    "# index conf talks\n",
    "count = 0  # we'll use the count to create unique IDs\n",
    "for i in tqdm(range(0, len(segments), pinecone_batch_size)):\n",
    "    # set end position of batch\n",
    "    i_end = min(i+pinecone_batch_size, len(segments))\n",
    "    # get batch of lines and IDs\n",
    "    index_batch = segments[i: i+pinecone_batch_size]\n",
    "    lines_batch = [index_entry['text'] for index_entry in index_batch]\n",
    "    ids_batch = [str(n) for n in range(i, i_end)]\n",
    "    # create embeddings\n",
    "    res = openai.Embedding.create(input=lines_batch, engine=embedding_model)\n",
    "    embeds = [record['embedding'] for record in res['data']]\n",
    "    # upsert batch\n",
    "    to_upsert = zip(ids_batch, embeds, index_batch)\n",
    "    # upsert to Pinecone\n",
    "    index.upsert(vectors=list(to_upsert))"
   ]
  },
  {
   "cell_type": "markdown",
   "metadata": {},
   "source": [
    "## Test index"
   ]
  },
  {
   "cell_type": "code",
   "execution_count": null,
   "metadata": {
    "pycharm": {
     "is_executing": true
    }
   },
   "outputs": [],
   "source": [
    "# create embedding for query\n",
    "query = \"What are the blessings of keeping the sabbath day holy?\"\n",
    "\n",
    "query_embedding = openai.Embedding.create(input=query, engine=embedding_model)['data'][0]['embedding']"
   ]
  },
  {
   "cell_type": "code",
   "execution_count": null,
   "metadata": {
    "pycharm": {
     "is_executing": true
    }
   },
   "outputs": [],
   "source": [
    "# query pinecone\n",
    "res = index.query([query_embedding], top_k=5, include_metadata=True)\n",
    "res"
   ]
  },
  {
   "cell_type": "code",
   "execution_count": null,
   "metadata": {},
   "outputs": [],
   "source": []
  }
 ],
 "metadata": {
  "kernelspec": {
   "display_name": "ilc-models",
   "language": "python",
   "name": "ilc-models"
  },
  "language_info": {
   "codemirror_mode": {
    "name": "ipython",
    "version": 3
   },
   "file_extension": ".py",
   "mimetype": "text/x-python",
   "name": "python",
   "nbconvert_exporter": "python",
   "pygments_lexer": "ipython3",
   "version": "3.10.9"
  }
 },
 "nbformat": 4,
 "nbformat_minor": 1
}
