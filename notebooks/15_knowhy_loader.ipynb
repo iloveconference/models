{
 "cells": [
  {
   "cell_type": "markdown",
   "id": "936d02dd",
   "metadata": {},
   "source": [
    "# Load Talks\n",
    "\n",
    "Convert talk content from raw HTML to markdown format and extract key information. Write talks in JSONL format."
   ]
  },
  {
   "cell_type": "code",
   "execution_count": null,
   "id": "7fe5bf12",
   "metadata": {},
   "outputs": [],
   "source": [
    "%load_ext autoreload\n",
    "%autoreload 2"
   ]
  },
  {
   "cell_type": "code",
   "execution_count": null,
   "id": "4bca89a2",
   "metadata": {},
   "outputs": [],
   "source": [
    "from datetime import datetime\n",
    "\n",
    "import os\n",
    "\n",
    "from models.load_know import KnowhyLoader\n",
    "from models.load_utils import save_docs_to_jsonl"
   ]
  },
  {
   "cell_type": "code",
   "execution_count": null,
   "id": "e753397e",
   "metadata": {},
   "outputs": [],
   "source": [
    "# config\n",
    "input_dir = '../data/raw/knowhys/'\n",
    "output_dir = '../data/load/knowhys/'\n",
    "\n",
    "today = datetime.today().strftime('%Y-%m-%d')"
   ]
  },
  {
   "cell_type": "code",
   "execution_count": null,
   "id": "2f5ebfa4",
   "metadata": {},
   "outputs": [],
   "source": [
    "loader = KnowhyLoader(input_dir)\n",
    "docs = loader.load(verbose=True)\n",
    "len(docs)"
   ]
  },
  {
   "cell_type": "code",
   "execution_count": null,
   "id": "7949104b-e0e2-42eb-aa9f-6140722a1d1b",
   "metadata": {},
   "outputs": [],
   "source": [
    "output_filename = os.path.join(output_dir, f\"{today}.jsonl\")\n",
    "\n",
    "save_docs_to_jsonl(docs, output_filename)\n"
   ]
  },
  {
   "cell_type": "code",
   "execution_count": null,
   "id": "12f6a90d-575f-46b6-abe3-9faeb32c8e2f",
   "metadata": {},
   "outputs": [],
   "source": []
  }
 ],
 "metadata": {
  "kernelspec": {
   "display_name": "Python 3 (ipykernel)",
   "language": "python",
   "name": "python3"
  },
  "language_info": {
   "codemirror_mode": {
    "name": "ipython",
    "version": 3
   },
   "file_extension": ".py",
   "mimetype": "text/x-python",
   "name": "python",
   "nbconvert_exporter": "python",
   "pygments_lexer": "ipython3",
   "version": "3.10.13"
  }
 },
 "nbformat": 4,
 "nbformat_minor": 5
}
