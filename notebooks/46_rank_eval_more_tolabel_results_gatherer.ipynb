{
 "cells": [
  {
   "cell_type": "markdown",
   "id": "1370670d",
   "metadata": {},
   "source": [
    "# Create Unlabeled Results\n",
    "This notebook takes one or more csv files of query-results created while evaluating different embedding models and subtracts results that have already been labeled in order to generate a new unlabeled results csv file to label."
   ]
  },
  {
   "cell_type": "code",
   "execution_count": null,
   "id": "e099b0e9",
   "metadata": {},
   "outputs": [],
   "source": [
    "%load_ext autoreload\n",
    "%autoreload 2\n",
    "%load_ext dotenv\n",
    "%dotenv"
   ]
  },
  {
   "cell_type": "code",
   "execution_count": null,
   "id": "648f8577",
   "metadata": {},
   "outputs": [],
   "source": [
    "from datetime import datetime\n",
    "import json\n",
    "import os\n",
    "\n",
    "import pandas as pd"
   ]
  },
  {
   "cell_type": "code",
   "execution_count": null,
   "id": "90f458ea",
   "metadata": {},
   "outputs": [],
   "source": [
    "input_dir = '../data/rank_eval/unlabeled_results'\n",
    "unlabeled_filenames = [\n",
    "    'all-mpnet-base-v2-2023-04-29.csv',\n",
    "    'embed-english-v2.0-2023-04-29.csv'\n",
    "]\n",
    "labeled_filenames = [\n",
    "    'text-embedding-ada-002-2023-04-29.csv'\n",
    "]\n",
    "\n",
    "today = datetime.today().strftime(\"%Y-%m-%d\")"
   ]
  },
  {
   "cell_type": "markdown",
   "id": "2222621b",
   "metadata": {},
   "source": [
    "## Read raw labeled results"
   ]
  },
  {
   "cell_type": "code",
   "execution_count": null,
   "id": "aacbcb40",
   "metadata": {},
   "outputs": [],
   "source": [
    "# read csv file into pandas\n",
    "unlabeled_dfs = []\n",
    "for filename in unlabeled_filenames:\n",
    "    unlabeled_dfs.append(pd.read_csv(os.path.join(input_dir, filename)))\n",
    "unlabeled_df = pd.concat(unlabeled_dfs)\n",
    "\n",
    "labeled_dfs = []\n",
    "for filename in labeled_filenames:\n",
    "    labeled_dfs.append(pd.read_csv(os.path.join(input_dir, filename)))\n",
    "labeled_df = pd.concat(labeled_dfs)"
   ]
  },
  {
   "cell_type": "code",
   "execution_count": null,
   "id": "3b73cfbc",
   "metadata": {},
   "outputs": [],
   "source": [
    "print(unlabeled_df.shape)\n",
    "unlabeled_df.head(3)"
   ]
  },
  {
   "cell_type": "code",
   "execution_count": null,
   "id": "06f014ac",
   "metadata": {},
   "outputs": [],
   "source": [
    "print(labeled_df.shape)\n",
    "labeled_df.head(3)"
   ]
  },
  {
   "cell_type": "markdown",
   "id": "8f2a5c9b",
   "metadata": {},
   "source": [
    "## Remove duplicates"
   ]
  },
  {
   "cell_type": "code",
   "execution_count": null,
   "id": "2b79a110",
   "metadata": {},
   "outputs": [],
   "source": [
    "unlabeled_df = unlabeled_df.drop_duplicates(['query', 'result'])\n",
    "print(unlabeled_df.shape)"
   ]
  },
  {
   "cell_type": "code",
   "execution_count": null,
   "id": "b6ab0871",
   "metadata": {},
   "outputs": [],
   "source": [
    "labeled_df = labeled_df.drop_duplicates(['query', 'result'])\n",
    "print(labeled_df.shape)"
   ]
  },
  {
   "cell_type": "markdown",
   "id": "b9493042",
   "metadata": {},
   "source": [
    "## Subtract labeled results from unlabeled results"
   ]
  },
  {
   "cell_type": "code",
   "execution_count": null,
   "id": "91abd965",
   "metadata": {},
   "outputs": [],
   "source": [
    "df = pd.merge(unlabeled_df, labeled_df, indicator=True, how='left')\n",
    "df = df[df['_merge'] == 'left_only']\n",
    "df = df[['query', 'text', 'result']]\n",
    "print(df.shape)"
   ]
  },
  {
   "cell_type": "markdown",
   "id": "cdb296fa",
   "metadata": {},
   "source": [
    "## Save unlabeled results"
   ]
  },
  {
   "cell_type": "code",
   "execution_count": null,
   "id": "0e3e4b97",
   "metadata": {},
   "outputs": [],
   "source": [
    "df.sort_values(by=['query', 'result'], inplace=True)\n",
    "df.head(5)"
   ]
  },
  {
   "cell_type": "code",
   "execution_count": null,
   "id": "932ac50e",
   "metadata": {},
   "outputs": [],
   "source": [
    "df.to_csv(os.path.join(input_dir, f\"{today}.csv\"), index=False)"
   ]
  },
  {
   "cell_type": "code",
   "execution_count": null,
   "id": "6ff98a46",
   "metadata": {},
   "outputs": [],
   "source": []
  }
 ],
 "metadata": {
  "kernelspec": {
   "display_name": "Python 3 (ipykernel)",
   "language": "python",
   "name": "python3"
  },
  "language_info": {
   "codemirror_mode": {
    "name": "ipython",
    "version": 3
   },
   "file_extension": ".py",
   "mimetype": "text/x-python",
   "name": "python",
   "nbconvert_exporter": "python",
   "pygments_lexer": "ipython3",
   "version": "3.8.5"
  }
 },
 "nbformat": 4,
 "nbformat_minor": 5
}
