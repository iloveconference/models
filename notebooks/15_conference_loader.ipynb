{
 "cells": [
  {
   "cell_type": "markdown",
   "id": "936d02dd",
   "metadata": {},
   "source": [
    "# Load Talks\n",
    "\n",
    "Convert talk content from raw HTML to markdown format and extract key information. Write talks in JSONL format."
   ]
  },
  {
   "cell_type": "code",
   "execution_count": null,
   "id": "7fe5bf12",
   "metadata": {},
   "outputs": [],
   "source": [
    "%load_ext autoreload\n",
    "%autoreload 2"
   ]
  },
  {
   "cell_type": "code",
   "execution_count": null,
   "id": "4bca89a2",
   "metadata": {},
   "outputs": [],
   "source": [
    "from datetime import datetime\n",
    "\n",
    "from models.load_conf import ConferenceTalkLoader\n",
    "from models.load_utils import save_docs_to_jsonl"
   ]
  },
  {
   "cell_type": "code",
   "execution_count": null,
   "id": "e753397e",
   "metadata": {},
   "outputs": [],
   "source": [
    "# config\n",
    "input_dir = '../data/raw/conference'\n",
    "output_dir = '../data/load/conference'\n",
    "\n",
    "today = datetime.today().strftime('%Y-%m-%d')"
   ]
  },
  {
   "cell_type": "code",
   "execution_count": null,
   "id": "2f5ebfa4",
   "metadata": {},
   "outputs": [],
   "source": [
    "loader = ConferenceTalkLoader(input_dir)\n",
    "docs = loader.load(verbose=True)"
   ]
  },
  {
   "cell_type": "code",
   "execution_count": null,
   "id": "fc4f3fa1",
   "metadata": {},
   "outputs": [],
   "source": [
    "len(docs)"
   ]
  },
  {
   "cell_type": "code",
   "execution_count": null,
   "id": "7949104b-e0e2-42eb-aa9f-6140722a1d1b",
   "metadata": {},
   "outputs": [],
   "source": [
    "output_filename = os.path.join(output_dir, f\"{today}.jsonl\")\n",
    "\n",
    "save_docs_to_jsonl(docs, output_filename)"
   ]
  },
  {
   "cell_type": "code",
   "execution_count": null,
   "id": "ab2ec0cb-530f-4ad0-b2a5-07e6b0861636",
   "metadata": {},
   "outputs": [],
   "source": []
  }
 ],
 "metadata": {
  "kernelspec": {
   "display_name": "Python 3 (ipykernel)",
   "language": "python",
   "name": "python3"
  },
  "language_info": {
   "codemirror_mode": {
    "name": "ipython",
    "version": 3
   },
   "file_extension": ".py",
   "mimetype": "text/x-python",
   "name": "python",
   "nbconvert_exporter": "python",
   "pygments_lexer": "ipython3",
   "version": "3.11.5"
  }
 },
 "nbformat": 4,
 "nbformat_minor": 5
}
