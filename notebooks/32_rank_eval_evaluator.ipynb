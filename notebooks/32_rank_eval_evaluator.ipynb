{
 "cells": [
  {
   "cell_type": "markdown",
   "metadata": {},
   "source": [
    "# Evaluate a ranking algorithm\n",
    "Compare results of querying an index against the labeled results using NDCG."
   ]
  },
  {
   "cell_type": "code",
   "execution_count": null,
   "metadata": {},
   "outputs": [],
   "source": [
    "%load_ext autoreload\n",
    "%autoreload 2\n",
    "%load_ext dotenv\n",
    "%dotenv"
   ]
  },
  {
   "cell_type": "code",
   "execution_count": null,
   "metadata": {},
   "outputs": [],
   "source": [
    "from datetime import datetime\n",
    "import hashlib\n",
    "import json\n",
    "import os\n",
    "import re\n",
    "\n",
    "import pandas as pd\n",
    "import pinecone\n",
    "from tqdm.autonotebook import tqdm\n",
    "import wandb\n",
    "\n",
    "from models.rank_eval import get_embeddings_fn, get_ndcg"
   ]
  },
  {
   "cell_type": "code",
   "execution_count": null,
   "metadata": {},
   "outputs": [],
   "source": [
    "# configure\n",
    "labels_path = \"../data/rank_eval/labeled_results/2023-04-25.json\"\n",
    "\n",
    "results_dir = \"../data/rank_eval/unlabeled_results/\"\n",
    "\n",
    "# pinecone\n",
    "pinecone_key = os.environ[\"PINECONE_API_KEY\"]\n",
    "pinecone_region = os.environ[\"PINECONE_ENV\"]\n",
    "pinecone_index = \"conf-ada-002\"\n",
    "\n",
    "# query embedder\n",
    "embedding_model = \"text-embedding-ada-002\"\n",
    "# embedding_model = \"all-mpnet-base-v2\"\n",
    "# embedding_model = \"multi-qa-mpnet-base-dot-v1\"\n",
    "# embedding_model = \"multi-qa-MiniLM-L6-cos-v1\"\n",
    "# embedding_model = \"multi-qa-distilbert-cos-v1\"\n",
    "# embedding_model = \"embed-english-v2.0\"\n",
    "\n",
    "get_embeddings = get_embeddings_fn(embedding_model)"
   ]
  },
  {
   "cell_type": "code",
   "execution_count": null,
   "metadata": {},
   "outputs": [],
   "source": [
    "# init Weights and Biases\n",
    "wandb.init(\n",
    "    project=\"iloveconference\",\n",
    "    name=\"39_rank_eval_index\",\n",
    "    notes=\"\",\n",
    "    config={\n",
    "        \"labels_path\": labels_path,\n",
    "        \"embedding_model\": embedding_model,\n",
    "    }\n",
    ")"
   ]
  },
  {
   "cell_type": "code",
   "execution_count": null,
   "metadata": {},
   "outputs": [],
   "source": [
    "# init pinecone\n",
    "pinecone.init(\n",
    "    api_key=pinecone_key,\n",
    "    environment=pinecone_region,\n",
    ")\n",
    "# connect to index\n",
    "index = pinecone.Index(pinecone_index)"
   ]
  },
  {
   "cell_type": "markdown",
   "metadata": {},
   "source": [
    "## Read labels"
   ]
  },
  {
   "cell_type": "code",
   "execution_count": null,
   "metadata": {},
   "outputs": [],
   "source": [
    "with open(labels_path, 'r') as f:\n",
    "    labels = json.load(f)\n",
    "print(len(labels))"
   ]
  },
  {
   "cell_type": "markdown",
   "metadata": {},
   "source": [
    "### Make result id a hash of result contents so we can compare prod to dev ids"
   ]
  },
  {
   "cell_type": "code",
   "execution_count": null,
   "metadata": {},
   "outputs": [],
   "source": [
    "def hash_result(text):\n",
    "    text = re.sub(r\"\\s+\", \"\", text).lower().strip()\n",
    "    return hashlib.md5(text.encode()).hexdigest()"
   ]
  },
  {
   "cell_type": "code",
   "execution_count": null,
   "metadata": {},
   "outputs": [],
   "source": [
    "labels = [{'query': label['query'],\n",
    "           'results': [\n",
    "               {'id': hash_result(result['text']),\n",
    "                'score': result['score'],\n",
    "                'text': result['text']\n",
    "               } for result in label['results']]\n",
    "          } for label in labels]"
   ]
  },
  {
   "cell_type": "code",
   "execution_count": null,
   "metadata": {},
   "outputs": [],
   "source": [
    "labels[0]"
   ]
  },
  {
   "cell_type": "markdown",
   "metadata": {},
   "source": [
    "## Compute Average Normalized Discounted Cumulative Gain"
   ]
  },
  {
   "cell_type": "code",
   "execution_count": null,
   "metadata": {},
   "outputs": [],
   "source": [
    "first_pass = True\n",
    "for ndcg_at in [10, 5, 3]:\n",
    "    print(f\"\\nNDCG@{ndcg_at}\")\n",
    "    total_ndcg = 0.0\n",
    "    query_results = []\n",
    "    for label in labels:\n",
    "        query = label[\"query\"]\n",
    "        query_embedding = get_embeddings([query])[0]\n",
    "        res = index.query([query_embedding], top_k=20, include_metadata=True)\n",
    "        query_results.extend([\n",
    "            {\"query\": query, \"text\": match[\"metadata\"][\"text\"].replace(\"\\n\", \" \"), \"result\": match[\"id\"]}\n",
    "            for match in res[\"matches\"]])\n",
    "        results = [{\n",
    "            \"id\": hash_result(match[\"metadata\"][\"text\"]),\n",
    "            \"score\": match[\"score\"],\n",
    "            \"text\": match[\"metadata\"][\"text\"],\n",
    "        } for match in res[\"matches\"]]\n",
    "        ndcg = get_ndcg(label[\"results\"], results, k=ndcg_at)\n",
    "        print(query, ndcg)\n",
    "        total_ndcg += ndcg\n",
    "        \n",
    "    # compute metric\n",
    "    metric = total_ndcg / len(labels)\n",
    "    metric_label = f\"average NDCG@{ndcg_at}\"\n",
    "    print(metric_label, metric)\n",
    "        \n",
    "    # save metric to wandb\n",
    "    wandb.run.summary[metric_label] = metric    \n",
    "    \n",
    "    # save query results\n",
    "    if first_pass:\n",
    "        today = datetime.today().strftime(\"%Y-%m-%d\")\n",
    "        filename = os.path.join(results_dir, f\"{embedding_model}-{today}.csv\")\n",
    "        pd.DataFrame(query_results).to_csv(filename, index=False)        \n",
    "        first_pass = False"
   ]
  },
  {
   "cell_type": "code",
   "execution_count": null,
   "metadata": {},
   "outputs": [],
   "source": [
    "wandb.finish()"
   ]
  },
  {
   "cell_type": "code",
   "execution_count": null,
   "metadata": {},
   "outputs": [],
   "source": []
  }
 ],
 "metadata": {
  "kernelspec": {
   "display_name": "Python 3 (ipykernel)",
   "language": "python",
   "name": "python3"
  },
  "language_info": {
   "codemirror_mode": {
    "name": "ipython",
    "version": 3
   },
   "file_extension": ".py",
   "mimetype": "text/x-python",
   "name": "python",
   "nbconvert_exporter": "python",
   "pygments_lexer": "ipython3",
   "version": "3.11.5"
  }
 },
 "nbformat": 4,
 "nbformat_minor": 4
}
