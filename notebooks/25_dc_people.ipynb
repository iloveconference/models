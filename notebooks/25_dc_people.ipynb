{
 "cells": [
  {
   "cell_type": "markdown",
   "metadata": {},
   "source": [
    "# Crawl, Load and Split D&C people from the Church of Jesus Christ of Latter-day Saints"
   ]
  },
  {
   "cell_type": "code",
   "execution_count": null,
   "metadata": {},
   "outputs": [],
   "source": [
    "%load_ext autoreload\n",
    "%autoreload 2\n",
    "%load_ext dotenv\n",
    "%dotenv"
   ]
  },
  {
   "cell_type": "code",
   "execution_count": null,
   "metadata": {},
   "outputs": [],
   "source": [
    "import os\n",
    "from urllib.parse import urljoin, urlparse\n",
    "from bs4 import BeautifulSoup\n",
    "from models.crawl_utils import get_page, save_page\n",
    "from models.load_dc_people import load_dc_people\n",
    "from datetime import datetime\n",
    "from models.load_utils import Loader, load_docs_from_jsonl, save_docs_to_jsonl\n",
    "from models.split_model import MarkdownSyntacticEmbeddingSplitter"
   ]
  },
  {
   "cell_type": "code",
   "execution_count": null,
   "metadata": {},
   "outputs": [],
   "source": [
    "# config\n",
    "host = 'https://doctrineandcovenantscentral.org/people-of-the-dc'\n",
    "source = 'dc_people'  # use this name in the directories\n",
    "crawl_dir = f'../data/raw/{source}'  # base_dir is now crawl_dir\n",
    "bs_parser = 'html.parser'\n",
    "delay_seconds = 5\n",
    "\n",
    "if not os.path.exists(crawl_dir):\n",
    "    os.makedirs(crawl_dir)\n",
    "    "
   ]
  },
  {
   "cell_type": "markdown",
   "metadata": {},
   "source": [
    "## Crawl"
   ]
  },
  {
   "cell_type": "code",
   "execution_count": null,
   "metadata": {},
   "outputs": [],
   "source": [
    "def extract_hrefs(html):\n",
    "    hrefs = []\n",
    "\n",
    "    # Parse the HTML content using BeautifulSoup\n",
    "    soup = BeautifulSoup(html, 'html.parser')\n",
    "\n",
    "    # Find all div tags with the class 'views-field-title'\n",
    "    anchor_tags = soup.find_all(\"a\", class_ = \"elementor-flip-box__button\")\n",
    "\n",
    "    # Extract href attribute from each anchor tag and append to the list\n",
    "    for anchor in anchor_tags:\n",
    "        href = anchor.get('href')\n",
    "        if href:\n",
    "            hrefs.append(href)\n",
    "\n",
    "    return hrefs"
   ]
  },
  {
   "cell_type": "code",
   "execution_count": null,
   "metadata": {},
   "outputs": [],
   "source": [
    "def get_path(url):\n",
    "    if not url.endswith('/'):\n",
    "        url += '/'\n",
    "    path_components = urlparse(url).path.split('/')\n",
    "    return os.path.join(crawl_dir, f\"{path_components[-2]}.json\")"
   ]
  },
  {
   "cell_type": "code",
   "execution_count": null,
   "metadata": {},
   "outputs": [],
   "source": [
    "dc_people_links = []\n",
    "\n",
    "status_code, html = get_page(host, delay_seconds)\n",
    "if status_code != 200:\n",
    "    print(\"Error!\", status_code)\n",
    "hrefs = extract_hrefs(html)\n",
    "if len(hrefs) == 0:\n",
    "    print(hrefs)\n",
    "else:\n",
    "    dc_people_links.extend(hrefs)\n",
    "print(dc_people_links[:5])\n",
    "len(dc_people_links)"
   ]
  },
  {
   "cell_type": "code",
   "execution_count": null,
   "metadata": {},
   "outputs": [],
   "source": [
    "for url in dc_people_links:\n",
    "    path_file =  get_path(url)\n",
    "    print(path_file)\n",
    "    if os.path.exists(path_file):\n",
    "        continue\n",
    "    status_code, html = get_page(url, delay_seconds)\n",
    "    if status_code != 200:\n",
    "        print(\"Error!\", status_code , url)\n",
    "        continue\n",
    "    save_page(path_file,url,html)\n",
    "    \n",
    "print(\"End\")"
   ]
  },
  {
   "cell_type": "markdown",
   "metadata": {},
   "source": [
    "# Load\n",
    "\n",
    "Convert talk content from raw HTML to markdown format and extract key information. Write talks in JSONL format."
   ]
  },
  {
   "cell_type": "code",
   "execution_count": null,
   "metadata": {},
   "outputs": [],
   "source": [
    "# config\n",
    "# input_dir is now crawl_dir, and output_dir is now load_dir, and output_filename is now load_filename\n",
    "load_dir = f'../data/load/{source}/'\n",
    "today = datetime.today().strftime('%Y-%m-%d')\n",
    "load_filename = os.path.join(load_dir, f\"{today}.jsonl\")\n",
    "\n",
    "if not os.path.exists(load_dir):\n",
    "    os.makedirs(load_dir)"
   ]
  },
  {
   "cell_type": "code",
   "execution_count": null,
   "metadata": {},
   "outputs": [],
   "source": [
    "loader = Loader(load_dc_people, crawl_dir)\n",
    "docs = loader.load(verbose=True)\n",
    "len(docs)"
   ]
  },
  {
   "cell_type": "code",
   "execution_count": null,
   "metadata": {},
   "outputs": [],
   "source": [
    "print(docs[0].metadata)\n",
    "print(docs[0].page_content)"
   ]
  },
  {
   "cell_type": "code",
   "execution_count": null,
   "metadata": {},
   "outputs": [],
   "source": [
    "output_filename = os.path.join(load_dir, f\"{today}.jsonl\")\n",
    "\n",
    "save_docs_to_jsonl(docs, output_filename)"
   ]
  },
  {
   "cell_type": "markdown",
   "metadata": {},
   "source": [
    "# Split loaded documents"
   ]
  },
  {
   "cell_type": "code",
   "execution_count": null,
   "metadata": {},
   "outputs": [],
   "source": [
    "# configure\n",
    "# input_path is now load_filename, output_dir is now split_dir, and output filename is now split_filename\n",
    "split_dir = f'../data/split/{source}/'\n",
    "today = datetime.today().strftime('%Y-%m-%d')\n",
    "# output filename is now split_filename\n",
    "split_filename = os.path.join(split_dir, f\"{today}.jsonl\")\n",
    "\n",
    "if not os.path.exists(split_dir):\n",
    "    os.makedirs(split_dir)"
   ]
  },
  {
   "cell_type": "markdown",
   "metadata": {},
   "source": [
    "## Load documents"
   ]
  },
  {
   "cell_type": "code",
   "execution_count": null,
   "metadata": {},
   "outputs": [],
   "source": [
    "docs = load_docs_from_jsonl(load_filename)\n",
    "len(docs)"
   ]
  },
  {
   "cell_type": "markdown",
   "metadata": {},
   "source": [
    "## Create splits"
   ]
  },
  {
   "cell_type": "code",
   "execution_count": null,
   "metadata": {},
   "outputs": [],
   "source": [
    "text_splitter = MarkdownSyntacticEmbeddingSplitter()"
   ]
  },
  {
   "cell_type": "code",
   "execution_count": null,
   "metadata": {},
   "outputs": [],
   "source": [
    "splits = text_splitter.split_documents(docs, verbose=True)\n",
    "len(splits)"
   ]
  },
  {
   "cell_type": "code",
   "execution_count": null,
   "metadata": {},
   "outputs": [],
   "source": [
    "for ix, split in enumerate(splits[:10]):\n",
    "    print(ix, split.metadata[\"url\"])\n",
    "    print(split.page_content)\n",
    "    print(\"\\n!!! SPLIT !!!\\n\")"
   ]
  },
  {
   "cell_type": "markdown",
   "metadata": {},
   "source": [
    "## Save splits "
   ]
  },
  {
   "cell_type": "code",
   "execution_count": null,
   "metadata": {},
   "outputs": [],
   "source": [
    "save_docs_to_jsonl(splits, split_filename)"
   ]
  }
 ],
 "metadata": {
  "kernelspec": {
   "display_name": "models",
   "language": "python",
   "name": "models"
  },
  "language_info": {
   "codemirror_mode": {
    "name": "ipython",
    "version": 3
   },
   "file_extension": ".py",
   "mimetype": "text/x-python",
   "name": "python",
   "nbconvert_exporter": "python",
   "pygments_lexer": "ipython3",
   "version": "3.10.0"
  }
 },
 "nbformat": 4,
 "nbformat_minor": 4
}
