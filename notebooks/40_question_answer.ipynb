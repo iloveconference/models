{
 "cells": [
  {
   "cell_type": "markdown",
   "id": "24e54956-5275-48fb-a89a-a99f2347b48d",
   "metadata": {},
   "source": [
    "# Answer Questions\n",
    "\n",
    "Query the index and feed the top N results to ChatGPT"
   ]
  },
  {
   "cell_type": "code",
   "execution_count": null,
   "id": "b4131edb-80a6-4809-8422-1e38ec5e2ade",
   "metadata": {},
   "outputs": [],
   "source": [
    "%load_ext autoreload\n",
    "%autoreload 2\n",
    "%load_ext dotenv\n",
    "%dotenv"
   ]
  },
  {
   "cell_type": "code",
   "execution_count": null,
   "id": "bb891a58-0bb2-4285-ae84-1e131ae6e16b",
   "metadata": {},
   "outputs": [],
   "source": [
    "import os\n",
    "\n",
    "from langchain.chat_models import ChatOpenAI\n",
    "from langchain.chains import RetrievalQA, RetrievalQAWithSourcesChain\n",
    "from langchain.embeddings.openai import OpenAIEmbeddings\n",
    "from langchain.prompts import PromptTemplate\n",
    "from langchain.vectorstores import Pinecone\n",
    "import pinecone"
   ]
  },
  {
   "cell_type": "code",
   "execution_count": null,
   "id": "f8b4b593-b473-4de1-b73f-33849e6983f2",
   "metadata": {},
   "outputs": [],
   "source": [
    "text_generation_model_name = 'gpt-3.5-turbo'\n",
    "text_embedding_model_name = \"text-embedding-ada-002\"\n",
    "index_name = \"conf-ada-002\"\n",
    "text_field = \"text\""
   ]
  },
  {
   "cell_type": "markdown",
   "id": "cf4c75c9-e5e8-4a79-8fc8-b3973fabd7e5",
   "metadata": {},
   "source": [
    "## Initialize OpenAI and Pinecone"
   ]
  },
  {
   "cell_type": "code",
   "execution_count": null,
   "id": "d427271f-5df4-4952-8e43-2169d989e2b7",
   "metadata": {},
   "outputs": [],
   "source": [
    "embedder = OpenAIEmbeddings(\n",
    "    model=text_embedding_model_name,\n",
    "    openai_api_key=os.environ['OPENAI_API_KEY'],\n",
    ")"
   ]
  },
  {
   "cell_type": "code",
   "execution_count": null,
   "id": "8c322ab9-26df-4cc4-8977-13979937719e",
   "metadata": {},
   "outputs": [],
   "source": [
    "pinecone.init(\n",
    "    api_key=os.environ['PINECONE_API_KEY'], \n",
    "    environment=os.environ['PINECONE_ENV'],\n",
    ")\n",
    "index = pinecone.Index(index_name)\n",
    "index.describe_index_stats()"
   ]
  },
  {
   "cell_type": "code",
   "execution_count": null,
   "id": "7b0d8032-d2a3-4da9-b006-0a0c0e7c0128",
   "metadata": {},
   "outputs": [],
   "source": [
    "vectorstore = Pinecone(\n",
    "    index, embedder, text_field\n",
    ")"
   ]
  },
  {
   "cell_type": "markdown",
   "id": "fa173622-59ed-4aa0-b3b6-96fdb73e55c1",
   "metadata": {},
   "source": [
    "## Answer a question"
   ]
  },
  {
   "cell_type": "code",
   "execution_count": null,
   "id": "73635d4e-057c-428f-9f75-6c639297b508",
   "metadata": {},
   "outputs": [],
   "source": [
    "llm = ChatOpenAI(\n",
    "    openai_api_key=os.environ['OPENAI_API_KEY'],\n",
    "    model_name=text_generation_model_name,\n",
    "    temperature=0.0\n",
    ")"
   ]
  },
  {
   "cell_type": "code",
   "execution_count": null,
   "id": "fa184ebb-a0b0-46e3-9a5a-fbe0e4e7c411",
   "metadata": {},
   "outputs": [],
   "source": [
    "template = \"\"\"Use the following pieces of context to answer the question at the end. \n",
    "If you don't know the answer, just say that you don't know, don't try to make up an answer. \n",
    "Use three sentences maximum. Keep the answer as concise as possible. \n",
    "Always say \"thanks for asking!\" at the end |of the answer. \n",
    "{summaries}\n",
    "Question: {question}\n",
    "Helpful Answer:\"\"\"\n",
    "QA_CHAIN_PROMPT = PromptTemplate.from_template(template)"
   ]
  },
  {
   "cell_type": "code",
   "execution_count": null,
   "id": "7be24f5b-8f86-4d8a-8b1b-d35538e7bd7f",
   "metadata": {},
   "outputs": [],
   "source": [
    "qa_chain = RetrievalQAWithSourcesChain.from_chain_type(\n",
    "    llm=llm,\n",
    "    chain_type=\"stuff\",\n",
    "    retriever=vectorstore.as_retriever(search_kwargs={'k': 20}),\n",
    "    return_source_documents=True,\n",
    "    reduce_k_below_max_tokens=True,\n",
    "    max_tokens_limit=2000,\n",
    "    # TODO customize prompt\n",
    "    # chain_type_kwargs={\"prompt\": QA_CHAIN_PROMPT},\n",
    "    verbose=True,\n",
    ")"
   ]
  },
  {
   "cell_type": "code",
   "execution_count": null,
   "id": "ae990362-4d21-43f1-9ecc-9a10004e2a64",
   "metadata": {},
   "outputs": [],
   "source": [
    "query = \"What are the blessings of keeping the sabbath day holy?\"\n",
    "\n",
    "qa_chain({\"question\": query})"
   ]
  },
  {
   "cell_type": "code",
   "execution_count": null,
   "id": "165d208d-fd3e-44c5-ade7-ea47821d43ed",
   "metadata": {},
   "outputs": [],
   "source": []
  }
 ],
 "metadata": {
  "kernelspec": {
   "display_name": "Python 3 (ipykernel)",
   "language": "python",
   "name": "python3"
  },
  "language_info": {
   "codemirror_mode": {
    "name": "ipython",
    "version": 3
   },
   "file_extension": ".py",
   "mimetype": "text/x-python",
   "name": "python",
   "nbconvert_exporter": "python",
   "pygments_lexer": "ipython3",
   "version": "3.11.5"
  }
 },
 "nbformat": 4,
 "nbformat_minor": 5
}
