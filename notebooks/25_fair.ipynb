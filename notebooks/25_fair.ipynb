{
 "cells": [
  {
   "cell_type": "markdown",
   "id": "0ed2304b",
   "metadata": {},
   "source": [
    "# Crawl, load, and split fair"
   ]
  },
  {
   "cell_type": "code",
   "execution_count": null,
   "id": "7fe5bf12",
   "metadata": {},
   "outputs": [],
   "source": [
    "%load_ext autoreload\n",
    "%autoreload 2"
   ]
  },
  {
   "cell_type": "code",
   "execution_count": null,
   "id": "4bca89a2",
   "metadata": {},
   "outputs": [],
   "source": [
    "from datetime import datetime\n",
    "import json\n",
    "import os\n",
    "from typing import Iterator\n",
    "from urllib.parse import urljoin, urlparse\n",
    "\n",
    "from bs4 import BeautifulSoup, Tag\n",
    "from tqdm import tqdm\n",
    "\n",
    "from models.crawl_utils import get_page, save_page\n",
    "from models.load_fairs import load_fairs\n",
    "from models.load_utils import Loader, load_docs_from_jsonl, save_docs_to_jsonl\n",
    "from models.split_model import MarkdownSyntacticEmbeddingSplitter"
   ]
  },
  {
   "cell_type": "markdown",
   "id": "91ece895",
   "metadata": {},
   "source": [
    "## Crawl"
   ]
  },
  {
   "cell_type": "code",
   "execution_count": null,
   "id": "e753397e",
   "metadata": {},
   "outputs": [],
   "source": [
    "# config\n",
    "host = 'https://www.fairlatterdaysaints.org/answers/Special:AllPages'\n",
    "crawl_dir = '../data/raw/fair' # base_dir is now crawl_dir\n",
    "bs_parser = 'html.parser'\n",
    "source = 'fair'\n",
    "delay_seconds = 15\n",
    "approved_links = [\n",
    "    'https://www.fairlatterdaysaints.org/answers/Criticism_of_Mormonism/Online_documents/Letter_to_a_CES_Director',\n",
    "    'https://www.fairlatterdaysaints.org/answers/Sarah_Allen_CES_Response_Posts',\n",
    "    'https://www.fairlatterdaysaints.org/answers/Sarah_Allen%27s_Response_to_Letter_For_My_Wife'\n",
    "    ]\n",
    "\n",
    "if not os.path.exists(crawl_dir):\n",
    "    os.makedirs(crawl_dir)"
   ]
  },
  {
   "cell_type": "code",
   "execution_count": null,
   "id": "9225f0f2",
   "metadata": {},
   "outputs": [],
   "source": [
    "def get_path(url):\n",
    "    if url.endswith('/'):\n",
    "        url = url[:-1]\n",
    "    path_components = urlparse(url).path.split('/')\n",
    "    return os.path.join(crawl_dir, f\"{path_components[-1]}.json\")\n",
    "    "
   ]
  },
  {
   "cell_type": "code",
   "execution_count": null,
   "id": "95a65ac7",
   "metadata": {},
   "outputs": [],
   "source": [
    "def get_links(soup, base_url):\n",
    "    list_tags = soup.find_all(['ol', 'ul'])\n",
    "    links = set()\n",
    "    for list_tag in list_tags:\n",
    "        a_tags = list_tag.find_all('a', href=True)\n",
    "        for a_tag in a_tags:\n",
    "            url = urljoin(base_url, a_tag['href']).split('#')[0]\n",
    "            links.add(url)\n",
    "    return list(links)"
   ]
  },
  {
   "cell_type": "code",
   "execution_count": null,
   "id": "289607be",
   "metadata": {},
   "outputs": [],
   "source": [
    "def extract_urls_from_approved_links(approved_links, delay_seconds=5):\n",
    "    extracted_urls = set()\n",
    "\n",
    "    for link in approved_links:\n",
    "        status_code, html = get_page(link, delay_seconds)\n",
    "        if status_code == 200:\n",
    "            soup = BeautifulSoup(html, bs_parser)\n",
    "            extracted_urls.update(get_links(soup, link))\n",
    "            \n",
    "    return list(extracted_urls)"
   ]
  },
  {
   "cell_type": "code",
   "execution_count": null,
   "id": "d9bab0a3",
   "metadata": {},
   "outputs": [],
   "source": [
    "extracted_links = extract_urls_from_approved_links(approved_links, delay_seconds)"
   ]
  },
  {
   "cell_type": "code",
   "execution_count": null,
   "id": "ea3fb3bf",
   "metadata": {},
   "outputs": [],
   "source": [
    "def filtered_extracted_urls(extracted_links):\n",
    "    filtered_urls = []\n",
    "    for link in extracted_links:\n",
    "        url = urlparse(link)\n",
    "        if not url.hostname.endswith(\"fairlatterdaysaints.org\"):\n",
    "            continue\n",
    "        if not url.path.startswith(\"/answers\") and not url.path.startswith(\"/blog\"):\n",
    "            continue\n",
    "        if \"Category:\" in url.path:\n",
    "            continue\n",
    "        filtered_urls.append(link)\n",
    "        print(link)\n",
    "    return filtered_urls"
   ]
  },
  {
   "cell_type": "code",
   "execution_count": null,
   "id": "4de20efc",
   "metadata": {},
   "outputs": [],
   "source": [
    "filtered_urls = filtered_extracted_urls(extracted_links)"
   ]
  },
  {
   "cell_type": "code",
   "execution_count": null,
   "id": "211437b9",
   "metadata": {},
   "outputs": [],
   "source": [
    "for href in approved_links + filtered_urls:\n",
    "    path_file =  get_path(href)\n",
    "    print(href, path_file)\n",
    "    if os.path.exists(path_file):\n",
    "        continue\n",
    "    status_code, html = get_page(href, delay_seconds)\n",
    "    if status_code != 200:\n",
    "        print(\"Error!\", status_code , href)\n",
    "        continue\n",
    "    save_page(path_file,href,html)"
   ]
  },
  {
   "cell_type": "markdown",
   "id": "90af220c",
   "metadata": {},
   "source": [
    "## Load"
   ]
  },
  {
   "cell_type": "code",
   "execution_count": null,
   "id": "8724e2c1",
   "metadata": {},
   "outputs": [],
   "source": [
    "# config\n",
    "# input_dir is now crawl_dir, and output_dir is now load_dir, and output_filename is now load_filename\n",
    "crawl_dir = '../data/raw/fair/'\n",
    "load_dir = f'../data/load/{source}/'\n",
    "\n",
    "today = datetime.today().strftime('%Y-%m-%d')\n",
    "load_filename = os.path.join(load_dir, f\"{today}.jsonl\")\n",
    "\n",
    "if not os.path.exists(load_dir):\n",
    "    os.makedirs(load_dir)"
   ]
  },
  {
   "cell_type": "code",
   "execution_count": null,
   "id": "2cc10596",
   "metadata": {},
   "outputs": [],
   "source": [
    "loader = Loader(load_fairs, crawl_dir, bs_parser)\n",
    "docs = loader.load(verbose=True)\n",
    "len(docs)"
   ]
  },
  {
   "cell_type": "code",
   "execution_count": null,
   "id": "b8755943",
   "metadata": {},
   "outputs": [],
   "source": [
    "print(\"metadata: \", docs[0].metadata)\n",
    "print()\n",
    "print(\"content: \", docs[0].page_content)"
   ]
  },
  {
   "cell_type": "code",
   "execution_count": null,
   "id": "486c3f00",
   "metadata": {},
   "outputs": [],
   "source": [
    "save_docs_to_jsonl(docs, load_filename)"
   ]
  },
  {
   "cell_type": "markdown",
   "id": "c9c4ec07",
   "metadata": {},
   "source": [
    "## Split"
   ]
  },
  {
   "cell_type": "code",
   "execution_count": null,
   "id": "b1d47019",
   "metadata": {},
   "outputs": [],
   "source": [
    "# configure\n",
    "# input_path is now load_filename, output_dir is now split_dir, and output filename is now split_filename\n",
    "split_dir = f'../data/split/{source}/'\n",
    "today = datetime.today().strftime('%Y-%m-%d')\n",
    "# output filename is now split_filename\n",
    "split_filename = os.path.join(split_dir, f\"{today}.jsonl\")\n",
    "\n",
    "if not os.path.exists(split_dir):\n",
    "    os.makedirs(split_dir)"
   ]
  },
  {
   "cell_type": "code",
   "execution_count": null,
   "id": "d40ff1fb",
   "metadata": {},
   "outputs": [],
   "source": [
    "docs = load_docs_from_jsonl(load_filename)\n",
    "len(docs)"
   ]
  },
  {
   "cell_type": "code",
   "execution_count": null,
   "id": "2e40b8c7",
   "metadata": {},
   "outputs": [],
   "source": [
    "text_splitter = MarkdownSyntacticEmbeddingSplitter()"
   ]
  },
  {
   "cell_type": "code",
   "execution_count": null,
   "id": "2d26d2e3",
   "metadata": {},
   "outputs": [],
   "source": [
    "splits = text_splitter.split_documents(docs, verbose=True)\n",
    "len(splits)"
   ]
  },
  {
   "cell_type": "code",
   "execution_count": null,
   "id": "da9a292c",
   "metadata": {},
   "outputs": [],
   "source": [
    "for ix, split in enumerate(splits[:25]):\n",
    "    print(ix, split.metadata)\n",
    "    print(split.page_content)\n",
    "    print(\"\\n!!! SPLIT !!!\\n\")"
   ]
  },
  {
   "cell_type": "code",
   "execution_count": null,
   "id": "56bb464e",
   "metadata": {},
   "outputs": [],
   "source": [
    "save_docs_to_jsonl(splits, split_filename)"
   ]
  },
  {
   "cell_type": "code",
   "execution_count": null,
   "id": "9c49eaf4-677e-439c-8d9e-0e494b1d3c4e",
   "metadata": {},
   "outputs": [],
   "source": []
  }
 ],
 "metadata": {
  "kernelspec": {
   "display_name": "models-ygscW1cR-py3.10",
   "language": "python",
   "name": "python3"
  },
  "language_info": {
   "codemirror_mode": {
    "name": "ipython",
    "version": 3
   },
   "file_extension": ".py",
   "mimetype": "text/x-python",
   "name": "python",
   "nbconvert_exporter": "python",
   "pygments_lexer": "ipython3",
   "version": "3.10.0"
  }
 },
 "nbformat": 4,
 "nbformat_minor": 5
}
